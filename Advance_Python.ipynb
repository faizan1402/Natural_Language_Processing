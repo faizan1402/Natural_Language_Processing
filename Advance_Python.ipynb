{
  "nbformat": 4,
  "nbformat_minor": 0,
  "metadata": {
    "colab": {
      "name": "Advance_Python.ipynb",
      "provenance": [],
      "collapsed_sections": [
        "AfmXK4Knc7jw",
        "LeRwklMonCq6"
      ],
      "authorship_tag": "ABX9TyOz83aR//8nM0LSKfq2CtM2",
      "include_colab_link": true
    },
    "kernelspec": {
      "display_name": "Python 3",
      "name": "python3"
    }
  },
  "cells": [
    {
      "cell_type": "markdown",
      "metadata": {
        "id": "view-in-github",
        "colab_type": "text"
      },
      "source": [
        "<a href=\"https://colab.research.google.com/github/faizan1402/Natural_Language_Processing/blob/main/Advance_Python.ipynb\" target=\"_parent\"><img src=\"https://colab.research.google.com/assets/colab-badge.svg\" alt=\"Open In Colab\"/></a>"
      ]
    },
    {
      "cell_type": "code",
      "metadata": {
        "id": "STSr-UoXFfBm"
      },
      "source": [
        ""
      ],
      "execution_count": null,
      "outputs": []
    },
    {
      "cell_type": "code",
      "metadata": {
        "colab": {
          "base_uri": "https://localhost:8080/"
        },
        "id": "E9aImq5cFrLF",
        "outputId": "161057cc-c413-4ebf-94f9-26a7039758ce"
      },
      "source": [
        "print(\"hello\")"
      ],
      "execution_count": null,
      "outputs": [
        {
          "output_type": "stream",
          "text": [
            "hello\n"
          ],
          "name": "stdout"
        }
      ]
    },
    {
      "cell_type": "code",
      "metadata": {
        "colab": {
          "base_uri": "https://localhost:8080/",
          "height": 35
        },
        "id": "_du5PglTF93_",
        "outputId": "d00ef61c-978c-4601-b819-184024525486"
      },
      "source": [
        "\"good looking\"\n",
        "\"hey noori\""
      ],
      "execution_count": null,
      "outputs": [
        {
          "output_type": "execute_result",
          "data": {
            "application/vnd.google.colaboratory.intrinsic+json": {
              "type": "string"
            },
            "text/plain": [
              "'hey noori'"
            ]
          },
          "metadata": {
            "tags": []
          },
          "execution_count": 6
        }
      ]
    },
    {
      "cell_type": "markdown",
      "metadata": {
        "id": "oSCmPqfyJdTI"
      },
      "source": [
        "Text Formatting"
      ]
    },
    {
      "cell_type": "code",
      "metadata": {
        "colab": {
          "base_uri": "https://localhost:8080/"
        },
        "id": "VpyRy3xmKaZb",
        "outputId": "8615c971-f354-4abb-d95f-5bcb177365d0"
      },
      "source": [
        "name = \"Knowledge Shelf\"\n",
        "print(\"My Youtube Channel name is {}\".format(name))"
      ],
      "execution_count": null,
      "outputs": [
        {
          "output_type": "stream",
          "text": [
            "My Youtube Channel name is Knowledge Shelf\n"
          ],
          "name": "stdout"
        }
      ]
    },
    {
      "cell_type": "code",
      "metadata": {
        "colab": {
          "base_uri": "https://localhost:8080/"
        },
        "id": "k2Mt5vRJMROJ",
        "outputId": "0fc740e3-c4ee-4925-db6d-02d1b6cff323"
      },
      "source": [
        "'OR'\n",
        "print(f\"My Youtube channel name is {name}\")"
      ],
      "execution_count": null,
      "outputs": [
        {
          "output_type": "stream",
          "text": [
            "My Youtube channel name is Knowledge Shelf\n"
          ],
          "name": "stdout"
        }
      ]
    },
    {
      "cell_type": "code",
      "metadata": {
        "colab": {
          "base_uri": "https://localhost:8080/"
        },
        "id": "K3vz_6v6MmrB",
        "outputId": "80f95d95-8692-47d7-a6be-d9e8be2268a7"
      },
      "source": [
        "spam = ['a','b','c','d']\n",
        "print(f\"Value of spam {spam[2]}\")\n"
      ],
      "execution_count": null,
      "outputs": [
        {
          "output_type": "stream",
          "text": [
            "Value of spam c\n"
          ],
          "name": "stdout"
        }
      ]
    },
    {
      "cell_type": "code",
      "metadata": {
        "id": "RPhjRPKWRRNe"
      },
      "source": [
        "college =[('Name','Branch','Year'),\n",
        "        ('Faizan','CSE','4'),\n",
        "          ('Faiz','ECE','3'),\n",
        "          ('Noori','IT','2')]\n"
      ],
      "execution_count": null,
      "outputs": []
    },
    {
      "cell_type": "code",
      "metadata": {
        "colab": {
          "base_uri": "https://localhost:8080/"
        },
        "id": "zf4Jv1YXTMkf",
        "outputId": "bcdb7ba8-a1fc-4a4a-8004-fc751325aebe"
      },
      "source": [
        "for data in college:\n",
        "  #print(data)#all data retrive \n",
        "  #print(\"\\n\")\n",
        "  print(f\"Student name is {data[0]}\")"
      ],
      "execution_count": null,
      "outputs": [
        {
          "output_type": "stream",
          "text": [
            "Student name is Name\n",
            "Student name is Faizan\n",
            "Student name is Faiz\n",
            "Student name is Noori\n"
          ],
          "name": "stdout"
        }
      ]
    },
    {
      "cell_type": "code",
      "metadata": {
        "colab": {
          "base_uri": "https://localhost:8080/"
        },
        "id": "LL_w8s9iT0Ht",
        "outputId": "e0864cf2-204e-4487-bb0f-243e13e68976"
      },
      "source": [
        "for name,branch,year in college:\n",
        "  print(f\" {name:{10}}  {branch:{40}}{year:{10}}\")#so this concept is space number"
      ],
      "execution_count": null,
      "outputs": [
        {
          "output_type": "stream",
          "text": [
            " Name        Branch                                  Year      \n",
            " Faizan      CSE                                     4         \n",
            " Faiz        ECE                                     3         \n",
            " Noori       IT                                      2         \n"
          ],
          "name": "stdout"
        }
      ]
    },
    {
      "cell_type": "code",
      "metadata": {
        "id": "h5u1zvSfVqJD"
      },
      "source": [
        "from datetime import datetime"
      ],
      "execution_count": null,
      "outputs": []
    },
    {
      "cell_type": "code",
      "metadata": {
        "id": "L6HH0jhrZqwV"
      },
      "source": [
        "present = datetime(year=2020,month=11,day=24)"
      ],
      "execution_count": null,
      "outputs": []
    },
    {
      "cell_type": "code",
      "metadata": {
        "colab": {
          "base_uri": "https://localhost:8080/"
        },
        "id": "3p_2i5cnZ1Ez",
        "outputId": "03d1b146-6be3-4862-bdcd-2ec4d1f52ce5"
      },
      "source": [
        "print(f\"{present}\")"
      ],
      "execution_count": null,
      "outputs": [
        {
          "output_type": "stream",
          "text": [
            "2020-11-24 00:00:00\n"
          ],
          "name": "stdout"
        }
      ]
    },
    {
      "cell_type": "code",
      "metadata": {
        "colab": {
          "base_uri": "https://localhost:8080/"
        },
        "id": "ppTAuF98Z5XU",
        "outputId": "323eb42e-3b15-46cf-e8f8-70740abcdad1"
      },
      "source": [
        "print(f\"{present:%B,%d,%Y,%x}\")#%B find the month\n",
        "print(f\"{present :%X,%c,%C}\")\n",
        "# %x = complete date print\n",
        "#%X = complete time print,%c = complete date,month,year and time print\n",
        "# %C = year print"
      ],
      "execution_count": null,
      "outputs": [
        {
          "output_type": "stream",
          "text": [
            "November,24,2020,11/24/20\n",
            "00:00:00,Tue Nov 24 00:00:00 2020,20\n"
          ],
          "name": "stdout"
        }
      ]
    },
    {
      "cell_type": "code",
      "metadata": {
        "id": "biEaS5iLa2BR"
      },
      "source": [
        ""
      ],
      "execution_count": null,
      "outputs": []
    },
    {
      "cell_type": "markdown",
      "metadata": {
        "id": "AfmXK4Knc7jw"
      },
      "source": [
        "# **Working With Text File** "
      ]
    },
    {
      "cell_type": "code",
      "metadata": {
        "colab": {
          "base_uri": "https://localhost:8080/"
        },
        "id": "XI2kZ9uKdJj0",
        "outputId": "20fd6813-0d6e-4497-a6cd-eb6b45309255"
      },
      "source": [
        "%%writefile sample.txt\n",
        "Hello My name is Faizan Ahmad\n",
        "I am a software developer ,\n",
        "good programming skills"
      ],
      "execution_count": null,
      "outputs": [
        {
          "output_type": "stream",
          "text": [
            "Writing sample.txt\n"
          ],
          "name": "stdout"
        }
      ]
    },
    {
      "cell_type": "code",
      "metadata": {
        "id": "U2gtqwuxdwLv"
      },
      "source": [
        "# how to object create for text file\n",
        " \n",
        "file = open('sample.txt')"
      ],
      "execution_count": null,
      "outputs": []
    },
    {
      "cell_type": "code",
      "metadata": {
        "id": "-9OmwzlqehQ1"
      },
      "source": [
        "#how to location check where are my file present or not?\n",
        "#pwd function through"
      ],
      "execution_count": null,
      "outputs": []
    },
    {
      "cell_type": "code",
      "metadata": {
        "colab": {
          "base_uri": "https://localhost:8080/"
        },
        "id": "FAZgW1rhe62k",
        "outputId": "283b824d-19c0-46aa-c742-68688e1a7428"
      },
      "source": [
        "file"
      ],
      "execution_count": null,
      "outputs": [
        {
          "output_type": "execute_result",
          "data": {
            "text/plain": [
              "<_io.TextIOWrapper name='sample.txt' mode='r' encoding='UTF-8'>"
            ]
          },
          "metadata": {
            "tags": []
          },
          "execution_count": 62
        }
      ]
    },
    {
      "cell_type": "code",
      "metadata": {
        "colab": {
          "base_uri": "https://localhost:8080/",
          "height": 35
        },
        "id": "nHm3LsUrfCh4",
        "outputId": "a23d13b9-2c13-4f16-8a75-6d530d0aaff2"
      },
      "source": [
        "#how to read file\n",
        "file.read()"
      ],
      "execution_count": null,
      "outputs": [
        {
          "output_type": "execute_result",
          "data": {
            "application/vnd.google.colaboratory.intrinsic+json": {
              "type": "string"
            },
            "text/plain": [
              "'Hello My name is Faizan Ahmad\\nI am a software developer ,\\ngood programming skills'"
            ]
          },
          "metadata": {
            "tags": []
          },
          "execution_count": 63
        }
      ]
    },
    {
      "cell_type": "code",
      "metadata": {
        "colab": {
          "base_uri": "https://localhost:8080/",
          "height": 35
        },
        "id": "kmsIS1_cfVj-",
        "outputId": "74f51347-2a4c-4945-dc7f-596cff431d6f"
      },
      "source": [
        "file.read()"
      ],
      "execution_count": null,
      "outputs": [
        {
          "output_type": "execute_result",
          "data": {
            "application/vnd.google.colaboratory.intrinsic+json": {
              "type": "string"
            },
            "text/plain": [
              "''"
            ]
          },
          "metadata": {
            "tags": []
          },
          "execution_count": 64
        }
      ]
    },
    {
      "cell_type": "code",
      "metadata": {
        "id": "vYLrZIRWf59Q"
      },
      "source": [
        "# so not read file because our courser is ending point \n",
        "#so again file read then \n",
        "#seek function and read again file "
      ],
      "execution_count": null,
      "outputs": []
    },
    {
      "cell_type": "code",
      "metadata": {
        "colab": {
          "base_uri": "https://localhost:8080/"
        },
        "id": "ZYAXK8BUgP1n",
        "outputId": "557549a5-d753-4d4b-852c-ed72184149a1"
      },
      "source": [
        "file.seek(0)"
      ],
      "execution_count": null,
      "outputs": [
        {
          "output_type": "execute_result",
          "data": {
            "text/plain": [
              "0"
            ]
          },
          "metadata": {
            "tags": []
          },
          "execution_count": 66
        }
      ]
    },
    {
      "cell_type": "code",
      "metadata": {
        "colab": {
          "base_uri": "https://localhost:8080/",
          "height": 35
        },
        "id": "AzGIUKLggSLW",
        "outputId": "63c5875f-1135-4cca-ff6c-f5d76fded9df"
      },
      "source": [
        "file.read()"
      ],
      "execution_count": null,
      "outputs": [
        {
          "output_type": "execute_result",
          "data": {
            "application/vnd.google.colaboratory.intrinsic+json": {
              "type": "string"
            },
            "text/plain": [
              "'Hello My name is Faizan Ahmad\\nI am a software developer ,\\ngood programming skills'"
            ]
          },
          "metadata": {
            "tags": []
          },
          "execution_count": 67
        }
      ]
    },
    {
      "cell_type": "code",
      "metadata": {
        "colab": {
          "base_uri": "https://localhost:8080/"
        },
        "id": "ChK8MH8hgU-B",
        "outputId": "8d75b476-44a8-41ff-83b5-1e6fb632eb87"
      },
      "source": [
        "# But i want to remove \\n so print call\n",
        "var1 = file.read()\n",
        "print(var1)"
      ],
      "execution_count": null,
      "outputs": [
        {
          "output_type": "stream",
          "text": [
            "\n"
          ],
          "name": "stdout"
        }
      ]
    },
    {
      "cell_type": "code",
      "metadata": {
        "colab": {
          "base_uri": "https://localhost:8080/"
        },
        "id": "NKE438ZRgwGF",
        "outputId": "2355c0ea-96b4-4592-e8ca-84e1bd163b5b"
      },
      "source": [
        "file.seek(0)"
      ],
      "execution_count": null,
      "outputs": [
        {
          "output_type": "execute_result",
          "data": {
            "text/plain": [
              "0"
            ]
          },
          "metadata": {
            "tags": []
          },
          "execution_count": 69
        }
      ]
    },
    {
      "cell_type": "code",
      "metadata": {
        "colab": {
          "base_uri": "https://localhost:8080/"
        },
        "id": "UaLzb2h9g1MY",
        "outputId": "5dff299e-57ec-4065-b1cf-66fd38860f50"
      },
      "source": [
        "print(var1)"
      ],
      "execution_count": null,
      "outputs": [
        {
          "output_type": "stream",
          "text": [
            "\n"
          ],
          "name": "stdout"
        }
      ]
    },
    {
      "cell_type": "code",
      "metadata": {
        "colab": {
          "base_uri": "https://localhost:8080/"
        },
        "id": "JAOgDijqg5qq",
        "outputId": "4b68926f-d85a-4e4d-aea8-406001e01837"
      },
      "source": [
        "var1 = file.read()\n",
        "print(var1)"
      ],
      "execution_count": null,
      "outputs": [
        {
          "output_type": "stream",
          "text": [
            "Hello My name is Faizan Ahmad\n",
            "I am a software developer ,\n",
            "good programming skills\n"
          ],
          "name": "stdout"
        }
      ]
    },
    {
      "cell_type": "code",
      "metadata": {
        "id": "tAwwdgCvhAjM"
      },
      "source": [
        "#Important points when file completed read then file close also required other wise memory consume your system\n",
        "file.close() "
      ],
      "execution_count": null,
      "outputs": []
    },
    {
      "cell_type": "code",
      "metadata": {
        "id": "umWBWvp1hpCx"
      },
      "source": [
        "#How to txt list format then using readlines function"
      ],
      "execution_count": null,
      "outputs": []
    },
    {
      "cell_type": "code",
      "metadata": {
        "id": "vqMblrryiZtN"
      },
      "source": [
        "file = open('sample.txt')"
      ],
      "execution_count": null,
      "outputs": []
    },
    {
      "cell_type": "code",
      "metadata": {
        "colab": {
          "base_uri": "https://localhost:8080/"
        },
        "id": "DxgaLhyridAg",
        "outputId": "6199a161-7e4e-4ffd-8001-43467d2b1fcc"
      },
      "source": [
        "file.readlines()"
      ],
      "execution_count": null,
      "outputs": [
        {
          "output_type": "execute_result",
          "data": {
            "text/plain": [
              "['Hello My name is Faizan Ahmad\\n',\n",
              " 'I am a software developer ,\\n',\n",
              " 'good programming skills']"
            ]
          },
          "metadata": {
            "tags": []
          },
          "execution_count": 77
        }
      ]
    },
    {
      "cell_type": "code",
      "metadata": {
        "id": "gzwoPUfAiufQ"
      },
      "source": [
        "file.close()"
      ],
      "execution_count": null,
      "outputs": []
    },
    {
      "cell_type": "code",
      "metadata": {
        "colab": {
          "base_uri": "https://localhost:8080/"
        },
        "id": "L987YkPMixvi",
        "outputId": "ff9fdfa6-fdde-4c85-96a7-b62f7abcc898"
      },
      "source": [
        "file = open('sample.txt')\n",
        "file.readlines()"
      ],
      "execution_count": null,
      "outputs": [
        {
          "output_type": "execute_result",
          "data": {
            "text/plain": [
              "['Hello My name is Faizan Ahmad\\n',\n",
              " 'I am a software developer ,\\n',\n",
              " 'good programming skills']"
            ]
          },
          "metadata": {
            "tags": []
          },
          "execution_count": 80
        }
      ]
    },
    {
      "cell_type": "code",
      "metadata": {
        "colab": {
          "base_uri": "https://localhost:8080/"
        },
        "id": "wAe_TCBRjqMo",
        "outputId": "1454ee9d-5bc8-46b9-fe22-ab504c3c9425"
      },
      "source": [
        "lines = open('sample.txt')\n",
        "lines.readlines()\n",
        "lines"
      ],
      "execution_count": null,
      "outputs": [
        {
          "output_type": "execute_result",
          "data": {
            "text/plain": [
              "<_io.TextIOWrapper name='sample.txt' mode='r' encoding='UTF-8'>"
            ]
          },
          "metadata": {
            "tags": []
          },
          "execution_count": 84
        }
      ]
    },
    {
      "cell_type": "code",
      "metadata": {
        "colab": {
          "base_uri": "https://localhost:8080/"
        },
        "id": "gkQ2cwmIkEy0",
        "outputId": "57028b0f-f1fa-4755-8e83-7a4ad4155a77"
      },
      "source": [
        "lines.readlines()"
      ],
      "execution_count": null,
      "outputs": [
        {
          "output_type": "execute_result",
          "data": {
            "text/plain": [
              "[]"
            ]
          },
          "metadata": {
            "tags": []
          },
          "execution_count": 85
        }
      ]
    },
    {
      "cell_type": "code",
      "metadata": {
        "colab": {
          "base_uri": "https://localhost:8080/"
        },
        "id": "2X_j2z33kMFq",
        "outputId": "dabe0419-97c9-406b-cfdb-2a76d2ae01bb"
      },
      "source": [
        "lines.seek(0)"
      ],
      "execution_count": null,
      "outputs": [
        {
          "output_type": "execute_result",
          "data": {
            "text/plain": [
              "0"
            ]
          },
          "metadata": {
            "tags": []
          },
          "execution_count": 86
        }
      ]
    },
    {
      "cell_type": "code",
      "metadata": {
        "colab": {
          "base_uri": "https://localhost:8080/"
        },
        "id": "S-9QhTohkh8O",
        "outputId": "63ced27a-7157-494c-beb3-ee928b71c274"
      },
      "source": [
        "lines.readlines()"
      ],
      "execution_count": null,
      "outputs": [
        {
          "output_type": "execute_result",
          "data": {
            "text/plain": [
              "['Hello My name is Faizan Ahmad\\n',\n",
              " 'I am a software developer ,\\n',\n",
              " 'good programming skills']"
            ]
          },
          "metadata": {
            "tags": []
          },
          "execution_count": 87
        }
      ]
    },
    {
      "cell_type": "code",
      "metadata": {
        "id": "DzOw1PIXkpei"
      },
      "source": [
        "for line in lines:\n",
        "  print(line)"
      ],
      "execution_count": null,
      "outputs": []
    },
    {
      "cell_type": "code",
      "metadata": {
        "colab": {
          "base_uri": "https://localhost:8080/"
        },
        "id": "-RECwnOfku__",
        "outputId": "d9c357f0-fc40-4752-ed51-4037b22cd0f2"
      },
      "source": [
        "lines.seek(0)"
      ],
      "execution_count": null,
      "outputs": [
        {
          "output_type": "execute_result",
          "data": {
            "text/plain": [
              "0"
            ]
          },
          "metadata": {
            "tags": []
          },
          "execution_count": 89
        }
      ]
    },
    {
      "cell_type": "code",
      "metadata": {
        "id": "WVwXgZurlCSM"
      },
      "source": [
        "for line in lines:\n",
        "  print(line.split())"
      ],
      "execution_count": null,
      "outputs": []
    },
    {
      "cell_type": "code",
      "metadata": {
        "colab": {
          "base_uri": "https://localhost:8080/"
        },
        "id": "Se6xEpn1lHmk",
        "outputId": "a0deefad-3890-417b-85cf-b6382c5eb20f"
      },
      "source": [
        "lines.seek(0)"
      ],
      "execution_count": null,
      "outputs": [
        {
          "output_type": "execute_result",
          "data": {
            "text/plain": [
              "0"
            ]
          },
          "metadata": {
            "tags": []
          },
          "execution_count": 92
        }
      ]
    },
    {
      "cell_type": "code",
      "metadata": {
        "colab": {
          "base_uri": "https://localhost:8080/"
        },
        "id": "U_Ncb5LXlcgk",
        "outputId": "6bfde2b7-913b-407c-9554-9e014ee2987b"
      },
      "source": [
        "for line in lines:\n",
        "  print(line.split())#spliting the  line"
      ],
      "execution_count": null,
      "outputs": [
        {
          "output_type": "stream",
          "text": [
            "['Hello', 'My', 'name', 'is', 'Faizan', 'Ahmad']\n",
            "['I', 'am', 'a', 'software', 'developer', ',']\n",
            "['good', 'programming', 'skills']\n"
          ],
          "name": "stdout"
        }
      ]
    },
    {
      "cell_type": "code",
      "metadata": {
        "id": "k5IMx-bXloCo"
      },
      "source": [
        ""
      ],
      "execution_count": null,
      "outputs": []
    },
    {
      "cell_type": "markdown",
      "metadata": {
        "id": "LeRwklMonCq6"
      },
      "source": [
        "#**Working With Pdf File**"
      ]
    },
    {
      "cell_type": "code",
      "metadata": {
        "id": "ii5aRFbynOdm"
      },
      "source": [
        "# How to install pdf file txt file find up"
      ],
      "execution_count": null,
      "outputs": []
    },
    {
      "cell_type": "code",
      "metadata": {
        "colab": {
          "base_uri": "https://localhost:8080/"
        },
        "id": "n9Eatr2fnhJZ",
        "outputId": "1b5b37a6-38b8-4a30-f783-490c9f1af4a2"
      },
      "source": [
        "!pip install PyPDF2"
      ],
      "execution_count": null,
      "outputs": [
        {
          "output_type": "stream",
          "text": [
            "Collecting PyPDF2\n",
            "\u001b[?25l  Downloading https://files.pythonhosted.org/packages/b4/01/68fcc0d43daf4c6bdbc6b33cc3f77bda531c86b174cac56ef0ffdb96faab/PyPDF2-1.26.0.tar.gz (77kB)\n",
            "\r\u001b[K     |████▎                           | 10kB 14.6MB/s eta 0:00:01\r\u001b[K     |████████▌                       | 20kB 19.1MB/s eta 0:00:01\r\u001b[K     |████████████▊                   | 30kB 10.0MB/s eta 0:00:01\r\u001b[K     |█████████████████               | 40kB 8.1MB/s eta 0:00:01\r\u001b[K     |█████████████████████▏          | 51kB 3.8MB/s eta 0:00:01\r\u001b[K     |█████████████████████████▍      | 61kB 4.3MB/s eta 0:00:01\r\u001b[K     |█████████████████████████████▋  | 71kB 4.8MB/s eta 0:00:01\r\u001b[K     |████████████████████████████████| 81kB 3.0MB/s \n",
            "\u001b[?25hBuilding wheels for collected packages: PyPDF2\n",
            "  Building wheel for PyPDF2 (setup.py) ... \u001b[?25l\u001b[?25hdone\n",
            "  Created wheel for PyPDF2: filename=PyPDF2-1.26.0-cp36-none-any.whl size=61086 sha256=5320673dbb0c67827a54c734e471f3acaf3e5bee00f189fd12c52621bb10eb85\n",
            "  Stored in directory: /root/.cache/pip/wheels/53/84/19/35bc977c8bf5f0c23a8a011aa958acd4da4bbd7a229315c1b7\n",
            "Successfully built PyPDF2\n",
            "Installing collected packages: PyPDF2\n",
            "Successfully installed PyPDF2-1.26.0\n"
          ],
          "name": "stdout"
        }
      ]
    },
    {
      "cell_type": "code",
      "metadata": {
        "id": "8MPwhjULnpHE"
      },
      "source": [
        "# So import the file pdf file to open and read text \n",
        "from google.colab import files\n",
        "import PyPDF2"
      ],
      "execution_count": null,
      "outputs": []
    },
    {
      "cell_type": "code",
      "metadata": {
        "colab": {
          "resources": {
            "http://localhost:8080/nbextensions/google.colab/files.js": {
              "data": "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",
              "headers": [
                [
                  "content-type",
                  "application/javascript"
                ]
              ],
              "ok": true,
              "status": 200,
              "status_text": ""
            }
          },
          "base_uri": "https://localhost:8080/",
          "height": 73
        },
        "id": "74Hh0HVpopq3",
        "outputId": "d20a5637-9a7e-416e-bee4-66d7dac3c942"
      },
      "source": [
        "upload = files.upload()"
      ],
      "execution_count": null,
      "outputs": [
        {
          "output_type": "display_data",
          "data": {
            "text/html": [
              "\n",
              "     <input type=\"file\" id=\"files-c0907827-21b3-441b-ad9b-cccc09a47d9c\" name=\"files[]\" multiple disabled\n",
              "        style=\"border:none\" />\n",
              "     <output id=\"result-c0907827-21b3-441b-ad9b-cccc09a47d9c\">\n",
              "      Upload widget is only available when the cell has been executed in the\n",
              "      current browser session. Please rerun this cell to enable.\n",
              "      </output>\n",
              "      <script src=\"/nbextensions/google.colab/files.js\"></script> "
            ],
            "text/plain": [
              "<IPython.core.display.HTML object>"
            ]
          },
          "metadata": {
            "tags": []
          }
        },
        {
          "output_type": "stream",
          "text": [
            "Saving Faizan_Ahmad_Certification.pdf to Faizan_Ahmad_Certification.pdf\n"
          ],
          "name": "stdout"
        }
      ]
    },
    {
      "cell_type": "code",
      "metadata": {
        "colab": {
          "base_uri": "https://localhost:8080/"
        },
        "id": "3MtReAzdoy85",
        "outputId": "9da0f114-7036-423e-eaaf-2802eebb6a31"
      },
      "source": [
        "!ls"
      ],
      "execution_count": null,
      "outputs": [
        {
          "output_type": "stream",
          "text": [
            "Faizan_Ahmad_Certification.pdf\tsample_data  sample.txt\n"
          ],
          "name": "stdout"
        }
      ]
    },
    {
      "cell_type": "code",
      "metadata": {
        "id": "rpkY0YXNpRVd"
      },
      "source": [
        "myfile = open('Faizan_Ahmad_Certification.pdf',mode ='rb')"
      ],
      "execution_count": null,
      "outputs": []
    },
    {
      "cell_type": "code",
      "metadata": {
        "id": "4GAv2yhLpn-u"
      },
      "source": [
        "pdf_reader =PyPDF2.PdfFileReader(myfile)"
      ],
      "execution_count": null,
      "outputs": []
    },
    {
      "cell_type": "code",
      "metadata": {
        "colab": {
          "base_uri": "https://localhost:8080/"
        },
        "id": "9ywT2u2wp8GW",
        "outputId": "07fde137-da66-4e87-b50a-80000be4eb09"
      },
      "source": [
        "pdf_reader.numPages"
      ],
      "execution_count": null,
      "outputs": [
        {
          "output_type": "execute_result",
          "data": {
            "text/plain": [
              "1"
            ]
          },
          "metadata": {
            "tags": []
          },
          "execution_count": 104
        }
      ]
    },
    {
      "cell_type": "code",
      "metadata": {
        "id": "NmZtaQ47qatv"
      },
      "source": [
        "# How to read page\n",
        "page_one = pdf_reader.getPage(0)"
      ],
      "execution_count": null,
      "outputs": []
    },
    {
      "cell_type": "code",
      "metadata": {
        "colab": {
          "base_uri": "https://localhost:8080/",
          "height": 186
        },
        "id": "NV5z6NGMrNW5",
        "outputId": "3a5b6cf0-89aa-4bee-a67d-2259189021e6"
      },
      "source": [
        "#Now text Extract\n",
        "page_one.extractText()"
      ],
      "execution_count": null,
      "outputs": [
        {
          "output_type": "execute_result",
          "data": {
            "application/vnd.google.colaboratory.intrinsic+json": {
              "type": "string"
            },
            "text/plain": [
              "'&\\n \\n \\n \\n \\n \\nC\\ne\\nr\\nt\\ni\\nfi\\n \\nc\\na\\nt\\ne\\n \\no\\nf\\n \\nC\\no\\nm\\npl\\n \\ne\\nt\\ni\\non\\n \\n \\nTh\\ni\\ns\\n \\nis\\n \\nto\\n \\ncer\\nt\\ni\\nfy\\n \\nt\\nh\\na\\nt\\n \\nF\\naiz\\na\\nn\\n \\nA\\nh\\nm\\na\\nd\\n \\nsucces\\ns\\nful\\n \\nly\\n \\nco\\nm\\npl\\n \\neted\\n \\n10\\n.5\\n \\ntotal\\n \\nh\\nours\\n \\nof\\n \\nC\\nomput\\ne\\nr\\n \\nVisio\\nn\\n:\\n \\nImage P\\nrocessing With Opencv\\n \\nQ\\nu\\ni\\nc\\nk\\n \\nS\\nt\\na\\nrt\\ne\\nr\\n \\nin\\n \\nPyt\\nh\\non\\n \\non\\nl\\nine\\n \\ncourse\\n \\no\\nn\\nJune\\n \\n1\\n5,\\n \\n2\\n0\\n2\\n0\\n \\n \\n \\nAbhilash \\n \\nNelson,\\n \\nI\\nnstructor\\n \\n \\nii\\n\\\\\\n \\nU\\nd\\ne\\nm\\ny\\n \\n \\nCertificate\\n \\nno: \\nU\\n \\nC\\n-\\ne38cb\\n1\\n7\\n4\\n-\\n3\\n1\\n95\\n-\\n44<>a\\n-\\nb64\\n \\n7\\n-\\nce0c2\\nb\\n7\\n43450\\n \\nCertificate  \\n \\nu\\nr\\nl\\n \\n:\\nude.my/UC\\n-\\ne38cb1\\n \\n7\\n4\\n-\\n3\\n1\\n95\\n-\\n44ea\\n-\\nb647\\n-\\nce0c2b\\n \\n743450\\n \\n'"
            ]
          },
          "metadata": {
            "tags": []
          },
          "execution_count": 106
        }
      ]
    },
    {
      "cell_type": "code",
      "metadata": {
        "colab": {
          "base_uri": "https://localhost:8080/"
        },
        "id": "OIGQFsvurY_x",
        "outputId": "d3c9bab1-0bec-4107-9b05-169952efcb04"
      },
      "source": [
        "print(page_one)"
      ],
      "execution_count": null,
      "outputs": [
        {
          "output_type": "stream",
          "text": [
            "{'/Type': '/Page', '/Parent': IndirectObject(2, 0), '/Resources': {'/XObject': {'/Image5': IndirectObject(5, 0), '/Image8': IndirectObject(8, 0)}, '/ExtGState': {'/GS7': IndirectObject(7, 0), '/GS9': IndirectObject(9, 0)}, '/Font': {'/F1': IndirectObject(10, 0), '/F2': IndirectObject(12, 0), '/F3': IndirectObject(14, 0), '/F4': IndirectObject(16, 0), '/F5': IndirectObject(18, 0)}, '/ProcSet': ['/PDF', '/Text', '/ImageB', '/ImageC', '/ImageI']}, '/MediaBox': [0, 0, 792, 612], '/Contents': IndirectObject(4, 0), '/Group': {'/Type': '/Group', '/S': '/Transparency', '/CS': '/DeviceRGB'}, '/Tabs': '/S', '/StructParents': 0}\n"
          ],
          "name": "stdout"
        }
      ]
    },
    {
      "cell_type": "code",
      "metadata": {
        "id": "LArFIIPcsTu1"
      },
      "source": [
        "myfile.close()"
      ],
      "execution_count": null,
      "outputs": []
    },
    {
      "cell_type": "code",
      "metadata": {
        "id": "lEn8TgOYsabI"
      },
      "source": [
        "from google.colab import files\n",
        "import PyPDF2"
      ],
      "execution_count": null,
      "outputs": []
    },
    {
      "cell_type": "code",
      "metadata": {
        "colab": {
          "resources": {
            "http://localhost:8080/nbextensions/google.colab/files.js": {
              "data": "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",
              "headers": [
                [
                  "content-type",
                  "application/javascript"
                ]
              ],
              "ok": true,
              "status": 200,
              "status_text": ""
            }
          },
          "base_uri": "https://localhost:8080/",
          "height": 110
        },
        "id": "aP9hulUStPX7",
        "outputId": "f816ada2-f202-43de-85f1-06b3305d5ac3"
      },
      "source": [
        "upload = files.upload()"
      ],
      "execution_count": null,
      "outputs": [
        {
          "output_type": "display_data",
          "data": {
            "text/html": [
              "\n",
              "     <input type=\"file\" id=\"files-0592cbc1-3c26-43e5-b501-1d780ddbea91\" name=\"files[]\" multiple disabled\n",
              "        style=\"border:none\" />\n",
              "     <output id=\"result-0592cbc1-3c26-43e5-b501-1d780ddbea91\">\n",
              "      Upload widget is only available when the cell has been executed in the\n",
              "      current browser session. Please rerun this cell to enable.\n",
              "      </output>\n",
              "      <script src=\"/nbextensions/google.colab/files.js\"></script> "
            ],
            "text/plain": [
              "<IPython.core.display.HTML object>"
            ]
          },
          "metadata": {
            "tags": []
          }
        },
        {
          "output_type": "stream",
          "text": [
            "Saving A_Synopsis_Report_On_IMAGE_PROCESSING_IN.pdf to A_Synopsis_Report_On_IMAGE_PROCESSING_IN.pdf\n"
          ],
          "name": "stdout"
        }
      ]
    },
    {
      "cell_type": "code",
      "metadata": {
        "colab": {
          "base_uri": "https://localhost:8080/"
        },
        "id": "YNYoobUNtWPI",
        "outputId": "96f0f7e9-f761-4615-9900-559e19962d4f"
      },
      "source": [
        "!ls"
      ],
      "execution_count": null,
      "outputs": [
        {
          "output_type": "stream",
          "text": [
            "A_Synopsis_Report_On_IMAGE_PROCESSING_IN.pdf  sample_data\n",
            "Faizan_Ahmad_Certification.pdf\t\t      sample.txt\n"
          ],
          "name": "stdout"
        }
      ]
    },
    {
      "cell_type": "code",
      "metadata": {
        "id": "ducyicq3tsEs"
      },
      "source": [
        "myfile = open('A_Synopsis_Report_On_IMAGE_PROCESSING_IN.pdf',mode ='rb')"
      ],
      "execution_count": null,
      "outputs": []
    },
    {
      "cell_type": "code",
      "metadata": {
        "id": "8dIg-e9St-NI"
      },
      "source": [
        "pdf_reader =PyPDF2.PdfFileReader(myfile)"
      ],
      "execution_count": null,
      "outputs": []
    },
    {
      "cell_type": "code",
      "metadata": {
        "id": "2CfGuHkVuGro"
      },
      "source": [
        "page_one = pdf_reader.getPage(0)"
      ],
      "execution_count": null,
      "outputs": []
    },
    {
      "cell_type": "code",
      "metadata": {
        "colab": {
          "base_uri": "https://localhost:8080/",
          "height": 119
        },
        "id": "cdF5zuQfuReL",
        "outputId": "545346bf-1052-43a4-8793-da4a2784adbe"
      },
      "source": [
        "page_one.extractText()"
      ],
      "execution_count": null,
      "outputs": [
        {
          "output_type": "execute_result",
          "data": {
            "application/vnd.google.colaboratory.intrinsic+json": {
              "type": "string"
            },
            "text/plain": [
              "'A\\nSynopsisReportOn\\nIMAGEPROCESSING\\nI\\nN\\nP\\nRECISION\\nA\\nGRICULTURE\\nSubmittedBy\\nVaqarjavedKhanUIN-091P052\\nNidaKhanUIN-091P053\\nTalhaMominUIN-102P017\\nIrshadChaudharyUIN-091P051\\nWasimAnsariUIN-091P048\\nUndertheguidanceof\\nProf.SonaliSuyawanshi\\ninpartialfortheawardofthedegreeof\\nBachelorofEngineering\\n[B.E.ComputerEngineering]\\n[2013-2014]\\nat\\nDepartmentofComputerEngineering\\nRizviCollegeofEngineering\\nNewRizviEducationalComplex,Off-CarterRoad,\\nBandra(w),Mumbai-400050\\nAfto\\nUniversityofMumbai\\n'"
            ]
          },
          "metadata": {
            "tags": []
          },
          "execution_count": 117
        }
      ]
    },
    {
      "cell_type": "code",
      "metadata": {
        "colab": {
          "base_uri": "https://localhost:8080/"
        },
        "id": "BWK_P2ZduVmn",
        "outputId": "dde6f492-409e-482d-df93-61801136d077"
      },
      "source": [
        "print(page_one)"
      ],
      "execution_count": null,
      "outputs": [
        {
          "output_type": "stream",
          "text": [
            "{'/Type': '/Page', '/Contents': IndirectObject(4, 0), '/Resources': IndirectObject(2, 0), '/MediaBox': [0, 0, 595.276, 841.89], '/Parent': IndirectObject(8, 0)}\n"
          ],
          "name": "stdout"
        }
      ]
    },
    {
      "cell_type": "code",
      "metadata": {
        "id": "6ip5XX4kufQ0"
      },
      "source": [
        "myfile.close()"
      ],
      "execution_count": null,
      "outputs": []
    },
    {
      "cell_type": "code",
      "metadata": {
        "id": "uBwlXQBSuqNT"
      },
      "source": [
        "p = open('A_Synopsis_Report_On_IMAGE_PROCESSING_IN.pdf',mode='rb')"
      ],
      "execution_count": null,
      "outputs": []
    },
    {
      "cell_type": "code",
      "metadata": {
        "id": "k6zvnWy2u_-b"
      },
      "source": [
        "pdf_reader = PyPDF2.PdfFileReader(p)"
      ],
      "execution_count": null,
      "outputs": []
    },
    {
      "cell_type": "code",
      "metadata": {
        "id": "VQs5-xhUvJXv"
      },
      "source": [
        "first_page = pdf_reader.getPage(0)\n"
      ],
      "execution_count": null,
      "outputs": []
    },
    {
      "cell_type": "code",
      "metadata": {
        "id": "p_A7lfJ2v2Sc"
      },
      "source": [
        "pdf_writer = PyPDF2.PdfFileWriter()\n",
        "#Before pdf write add pdf page"
      ],
      "execution_count": null,
      "outputs": []
    },
    {
      "cell_type": "code",
      "metadata": {
        "id": "uVGD43PVv_Yl"
      },
      "source": [
        "pdf_writer.addPage(first_page)"
      ],
      "execution_count": null,
      "outputs": []
    },
    {
      "cell_type": "code",
      "metadata": {
        "id": "BXqp4R7UwJgA"
      },
      "source": [
        "#create a new file\n",
        "pdf_output = open('Sample.pdf',mode ='wb')\n",
        "#Now after write the new file\n",
        "pdf_writer.write(pdf_output)\n",
        "#Now write file after that file is closed\n",
        "pdf_output.close()"
      ],
      "execution_count": null,
      "outputs": []
    },
    {
      "cell_type": "code",
      "metadata": {
        "id": "O3HOAnTPwglz"
      },
      "source": [
        "p.close()"
      ],
      "execution_count": null,
      "outputs": []
    },
    {
      "cell_type": "code",
      "metadata": {
        "id": "PmXn20ePxPZV"
      },
      "source": [
        "# So before my create file sample.pdf file\n",
        "file_new = open('Sample.pdf',mode ='rb')"
      ],
      "execution_count": null,
      "outputs": []
    },
    {
      "cell_type": "code",
      "metadata": {
        "id": "wW4Nr5JyxtVY"
      },
      "source": [
        "pdf_reader = PyPDF2.PdfFileReader(file_new)"
      ],
      "execution_count": null,
      "outputs": []
    },
    {
      "cell_type": "code",
      "metadata": {
        "colab": {
          "base_uri": "https://localhost:8080/"
        },
        "id": "Oia-Ghz1x3tf",
        "outputId": "dd52747b-1252-4387-8c72-5cba985c3638"
      },
      "source": [
        "pdf_reader.numPages\n"
      ],
      "execution_count": null,
      "outputs": [
        {
          "output_type": "execute_result",
          "data": {
            "text/plain": [
              "1"
            ]
          },
          "metadata": {
            "tags": []
          },
          "execution_count": 133
        }
      ]
    },
    {
      "cell_type": "code",
      "metadata": {
        "id": "6IOfc9NEyLIb"
      },
      "source": [
        "page_one = pdf_reader.getPage(0)"
      ],
      "execution_count": null,
      "outputs": []
    },
    {
      "cell_type": "code",
      "metadata": {
        "colab": {
          "base_uri": "https://localhost:8080/"
        },
        "id": "vdxSpzY_yhtN",
        "outputId": "818f52c2-b2dd-4f34-b8e1-a2b2c831852c"
      },
      "source": [
        "print(page_one.extractText())"
      ],
      "execution_count": null,
      "outputs": [
        {
          "output_type": "stream",
          "text": [
            "A\n",
            "SynopsisReportOn\n",
            "IMAGEPROCESSING\n",
            "I\n",
            "N\n",
            "P\n",
            "RECISION\n",
            "A\n",
            "GRICULTURE\n",
            "SubmittedBy\n",
            "VaqarjavedKhanUIN-091P052\n",
            "NidaKhanUIN-091P053\n",
            "TalhaMominUIN-102P017\n",
            "IrshadChaudharyUIN-091P051\n",
            "WasimAnsariUIN-091P048\n",
            "Undertheguidanceof\n",
            "Prof.SonaliSuyawanshi\n",
            "inpartialfortheawardofthedegreeof\n",
            "BachelorofEngineering\n",
            "[B.E.ComputerEngineering]\n",
            "[2013-2014]\n",
            "at\n",
            "DepartmentofComputerEngineering\n",
            "RizviCollegeofEngineering\n",
            "NewRizviEducationalComplex,Off-CarterRoad,\n",
            "Bandra(w),Mumbai-400050\n",
            "Afto\n",
            "UniversityofMumbai\n",
            "\n"
          ],
          "name": "stdout"
        }
      ]
    },
    {
      "cell_type": "code",
      "metadata": {
        "id": "U3vRmuktyq89"
      },
      "source": [
        "#But Suppose I want to complete pdf text read then again file open mode\n",
        "p = open('A_Synopsis_Report_On_IMAGE_PROCESSING_IN.pdf',mode='rb')\n",
        "pdf_text = []\n",
        "pdf_reader = PyPDF2.PdfFileReader(p)\n",
        "for q in range(pdf_reader.numPages):\n",
        "  page = pdf_reader.getPage(q)\n",
        "  pdf_text.append(page.extractText())\n",
        "p.close()"
      ],
      "execution_count": null,
      "outputs": []
    },
    {
      "cell_type": "code",
      "metadata": {
        "colab": {
          "base_uri": "https://localhost:8080/"
        },
        "id": "6QYO0jk00gdV",
        "outputId": "1aa2a025-40d2-49a3-dfa1-3c02cfadbeff"
      },
      "source": [
        "len(pdf_text)"
      ],
      "execution_count": null,
      "outputs": [
        {
          "output_type": "execute_result",
          "data": {
            "text/plain": [
              "17"
            ]
          },
          "metadata": {
            "tags": []
          },
          "execution_count": 137
        }
      ]
    },
    {
      "cell_type": "code",
      "metadata": {
        "colab": {
          "base_uri": "https://localhost:8080/"
        },
        "id": "7D2qe2VP0nI4",
        "outputId": "d5074a65-c288-4ef7-e97c-5f2f76ea9af7"
      },
      "source": [
        "for page in pdf_text:\n",
        "  print(page)\n",
        "  print('\\n')\n",
        "  print('\\n')"
      ],
      "execution_count": null,
      "outputs": [
        {
          "output_type": "stream",
          "text": [
            "A\n",
            "SynopsisReportOn\n",
            "IMAGEPROCESSING\n",
            "I\n",
            "N\n",
            "P\n",
            "RECISION\n",
            "A\n",
            "GRICULTURE\n",
            "SubmittedBy\n",
            "VaqarjavedKhanUIN-091P052\n",
            "NidaKhanUIN-091P053\n",
            "TalhaMominUIN-102P017\n",
            "IrshadChaudharyUIN-091P051\n",
            "WasimAnsariUIN-091P048\n",
            "Undertheguidanceof\n",
            "Prof.SonaliSuyawanshi\n",
            "inpartialfortheawardofthedegreeof\n",
            "BachelorofEngineering\n",
            "[B.E.ComputerEngineering]\n",
            "[2013-2014]\n",
            "at\n",
            "DepartmentofComputerEngineering\n",
            "RizviCollegeofEngineering\n",
            "NewRizviEducationalComplex,Off-CarterRoad,\n",
            "Bandra(w),Mumbai-400050\n",
            "Afto\n",
            "UniversityofMumbai\n",
            "\n",
            "\n",
            "\n",
            "\n",
            "\n",
            "MUMBAIUNIVERSITY\n",
            "CERTIFICATE\n",
            "Thisistocertifythat\n",
            "VaqarjavedKhan\n",
            "NidaKhan\n",
            "TalhaMomin\n",
            "IrshadChaudhary\n",
            "WasimAnsari\n",
            "ofB.E.ComputerEngineeringhavesuccessfullysubmittedsynopsisreporton\n",
            "ﬁIMAGEPROCESS-\n",
            "INGINPRECISIONAGRICULTUREﬂ,\n",
            "inpartialoftheDegreeofBachelorofEngineer-\n",
            "inginComputerEngineeringundertheguidanceof\n",
            "ﬁProfSonaliSuryawanshiﬂ,\n",
            "fromRizviCollege\n",
            "ofEngineering,Bandra(W),Mumbaiintheyear2013-14.\n",
            "Prof.SonaliSuryawanshi\n",
            "InternalProjectGuide\n",
            "Prof.DineshB.DeoreDr.VarshaShah\n",
            "HOD,ComputerDepartmentPrincipalRCOE\n",
            "Prof.InternalExaminerNameProf.ExternalExaminerName\n",
            "InternalExaminerExternalExaminer\n",
            "Date:\n",
            "\n",
            "\n",
            "\n",
            "\n",
            "\n",
            "Acknowledgements\n",
            "Iamprofoundlygratefulto\n",
            "Prof.SonaliSuryawanshi\n",
            "forhisexpertguidanceandcontinuousencour-\n",
            "agementthroughouttoseethatthisprojectrightsitstarget.\n",
            "Iwouldliketoexpressdeepestappreciationtowards\n",
            "Dr.VarshaShah\n",
            ",PrincipalRCOE,Mumbaiand\n",
            "Prof.DineshB.Deore\n",
            "HODComputerDepartmentwhoseinvaluableguidancesupportedmeinthis\n",
            "project.\n",
            "AtlastImustexpressmysincereheartfeltgratitudetoallthestaffmembersofComputerEngineering\n",
            "Departmentwhohelpedusdirectlyorindirectlyduringthiscourseofwork.\n",
            "Vaqarkhan\n",
            "NidaKhan\n",
            "TalhaMomin\n",
            "IrshadChaudhary\n",
            "WasimAnsari\n",
            "\n",
            "\n",
            "\n",
            "\n",
            "\n",
            "ABSTRACT\n",
            "Thisprojectwouldbeusedasasimpleanalyticaltoolinfavourofprecisionagriculture.Itisquitedif-\n",
            "togatherinformationaboutlandletalonebeitagricultural.Peoplehavetoventureoutonbarren\n",
            "landstoobtainrelevantdata.Contemporarymethodsonlyprovidetheoreticalreliefingatheringinfor-\n",
            "mation.Withthehelpofourintendedproject,propertechniqueidprovided.Ourgroupsperceptionin\n",
            "thiscontextistosimplifyincategorizingagriculturallandfromtherestwithonlyasimpleimageat\n",
            "hand.Thepurposeofthisprojectistoprovidedescriptionofavailabilityornon-availabilityofagricul-\n",
            "turalscapeonagivenpieceoftopography(i.e\n",
            "\n",
            "\n",
            "\n",
            "\n",
            "\n",
            "Index\n",
            "1Introduction\n",
            "1\n",
            "2ProblemStatement&Objectives2\n",
            "2.1Objectives..........................................\n",
            "2\n",
            "3LiteratureSurvey4\n",
            "3.1Paper1............................................\n",
            "4\n",
            "3.1.1Summary......................................\n",
            "4\n",
            "3.2Paper2...........................................\n",
            "4\n",
            "3.2.1summary......................................\n",
            "4\n",
            "4Theory,MethodologyandAlgorithm5\n",
            "4.1Theory............................................\n",
            "5\n",
            "4.1.1Methodology....................................\n",
            "5\n",
            "4.1.2Algorithm......................................\n",
            "5\n",
            "4.2FlowchartDescription....................................\n",
            "5\n",
            "4.2.1ImageAcquisition:.................................\n",
            "5\n",
            "4.2.2ImageEnhancement:...............................\n",
            "5\n",
            "4.2.3ImageRestoration.................................\n",
            "7\n",
            "4.2.4ColorImageProcessing:..............................\n",
            "7\n",
            "4.2.5DigitalCompression................................\n",
            "7\n",
            "4.2.6ImageSegmentation:...............................\n",
            "7\n",
            "4.2.7FeatureSelection:..................................\n",
            "7\n",
            "4.2.8ImageRepresentation................................\n",
            "7\n",
            "4.2.9Imageinterpretation:................................\n",
            "7\n",
            "5PlanofWork&ProjectStatus8\n",
            "5.1ProposedModules.....................................\n",
            "8\n",
            "5.1.1Output.......................................\n",
            "8\n",
            "6Summary\n",
            "9\n",
            "References\n",
            "10\n",
            "APPENDICES\n",
            "10\n",
            "AeReportDetails11\n",
            "\n",
            "\n",
            "\n",
            "\n",
            "\n",
            "ListofFigures\n",
            "2.1Exampleimage.......................................\n",
            "3\n",
            "4.1Schemaforfundamentalsteps...............................\n",
            "6\n",
            "\n",
            "\n",
            "\n",
            "\n",
            "\n",
            "Chapter1\n",
            "Introduction\n",
            "Chapter1\n",
            "Introduction\n",
            "Thedomainofimageprocessingprovidesuniquefunctionalities,sinceitonlyconsidersanimageas\n",
            "valuableenitity.Oneofitsapplicabilityisinagriculture.Intechnicalsenceimageprocessingdealswith\n",
            "imagemanipulation,whichinsamecontextcouldprovidevaluableinformationonagriculture(animage\n",
            "ofland)Itsuseinagricultureissimple,i.etoprovidedataregardingnatureofagivenimageoflandto\n",
            "beagriculturalornot.OurprojectofPrecisioninAgriculturedealswithacutetell-a-tellsummaryof\n",
            "landscapebeingusable.Thisprojectisintendedtobeusedbyanypersonwithelementaryknowledge\n",
            "ofcomputing.Theonlycontributionofusershouldbeofprovidingdigitalimageoflandscapetobe\n",
            "analysed.Theworkingofthisprojectisbasedonimageprocessingconcept.Nopriorknowledgeis\n",
            "neededonuserspart.Theusershouldbeequippedwithcomputingtechnologyrequiredfortheworking\n",
            "ofthisproject,giventheoperationalloadtobehandled.Withonlyaninput,themachineisleftwithan\n",
            "algorithmtogiveanoutput.Thisprojectisinfollowingaspects:Savingconsiderableamount\n",
            "oftimescorchingentirelandarea,whereasadetailreportisprovidedatthecomfortofoneshome.Detail\n",
            "resultisprovided.Inculcatingknowledgeoflandutilizationtouser.Henceeducational.Theworking\n",
            "ofthisprojectisdividedintothreemodules;Module1:inputInputisanimage,orvideoframeofvast\n",
            "areaoflandinrequiredformat.Satelliteviewoflandisalsoaccepted.Module2:engineEnginemeans\n",
            "theworkingmachineconsistinglinesofcodes,detailedalgorithmsrequiredforprocessingtheimage.\n",
            "Thisiswherethemainintructionsareexecuted,proceduresfollowed.ourprojectismainlyconstructing\n",
            "thisengineusingMatlabframework.Module3:outputOutputprovideswithinsightsintoagricultural\n",
            "availabilityofland.Thisistheresultofimagescomputation.Entireanalyticalinformationistobe\n",
            "providedatoutput,atthispointourprojectconcludes..\n",
            ".\n",
            "RizviCollegeofEngineering,Bandra,Mumbai.\n",
            "1\n",
            "\n",
            "\n",
            "\n",
            "\n",
            "\n",
            "Chapter2\n",
            "ProblemStatement&Objectives\n",
            "Chapter2\n",
            "ProblemStatement&Objectives\n",
            "Landisofutmostimportanceforentiretyofinstances.foritsproperutilizationitisindeedimportant\n",
            "tohaveathandreport.Traditionallandsurveyinvolvespersonalobservationregardingobtainablity\n",
            "andfeasibility.informationobtainedinthissurveyismostlynotuptothepoint.Thismethodistime\n",
            "consuming,tediousandnotaccurate.Ifinstantanalysisisrequiredsuchmethodsareoftenunreliable\n",
            "andunattainable.Moderntechnologyprovidespropertoolsforquickassessmentofland.Howeverthis\n",
            "torequirespersonalinterventionandmanpower,butitsmoreimportantlybasedontheuseofmodern\n",
            "technologicalresourceinordertoreducetheeffortsputbyman.Theseissuesarefacedbyfarmersmainly\n",
            "duetotheagriculturalbackgroundandisproblematicingenerallandassessmentaswell.\n",
            "2.1Objectives\n",
            "Themainpurposeofourprojectistoprovideinstantdetailanalysisimageofthegivenlandscape.This\n",
            "techniquecoverssomeofthedrawbacksinvolvedintraditionallandanalysis.Thefocusofourproject\n",
            "pointstowardsagriculturewheredecentassessmentisrequired.Ourprojecttriestoaccomplishsomeof\n",
            "importantconstraints.whereprevioustypesoftenfailed.\n",
            "1:distinguishingagriculturallandfromanimageoflandspread.2:ratiowiseavailabilityoffarm\n",
            "landfromagivenimage.3:ratiowisedisplayofforestcoveroveragivenpieceofland.Technical\n",
            "informationregardingoptimaluseofland4:allthisinformationisprovidedwithonlyanimageofthe\n",
            "agriculturallandathand.\n",
            "RizviCollegeofEngineering,Bandra,Mumbai.\n",
            "2\n",
            "\n",
            "\n",
            "\n",
            "\n",
            "\n",
            "Chapter2\n",
            "ProblemStatement&Objectives\n",
            "Figure2.1:Exampleimage\n",
            "3\n",
            "\n",
            "\n",
            "\n",
            "\n",
            "\n",
            "Chapter3\n",
            "LiteratureSurvey\n",
            "Chapter3\n",
            "LiteratureSurvey\n",
            "Indevelopingthisprojectweareresearchingpaperbasedonthesametopic.\n",
            "3.1Paper1\n",
            "ApplicationsofImageProcessinginAgriculture:ASurvey\n",
            "3.1.1Summary\n",
            "Thispaperintendstofocusonthesurveyofapplicationofimageprocessinginagriculturesuchas\n",
            "imagingtechniques,weeddetectionandfruitgrading.Theanalysisoftheparametershasprovedtobe\n",
            "accurateandlesstimeconsumingascomparedtotraditionalmethods\n",
            "Inagriculture,RemoteSensing(RS)techniquewaswidelyusedforvariousapplications.[2]Remote\n",
            "Sensingwasthescienceofofearthsurfacefeaturesandestimationofgeo-biophysical\n",
            "propertiesusingelectromagneticradiation.PaperreviewedtheRstechniquesanditsapplicationswith\n",
            "opticalandmicrowavesensors\n",
            "3.2Paper2\n",
            "AStudyofImageProcessinginAgricultureApplicationunderHighPerformanceComputingEnviron-\n",
            "ment\n",
            "3.2.1summary\n",
            "Theobjectivesinthispaperareasfollows:Describeparallelanddistributedimageprocessingwitha\n",
            "lightandeasymanner.Presentthestudyofparallelanddistributedimageprocessingwithemphasison\n",
            "themechanismsusedfocusingonagricultureapplication.3)Motivatethereaderforfurtherresearch\n",
            "worktoapplyparallelanddistributedimageprocessinginagriculture.\n",
            "RizviCollegeofEngineering,Bandra,Mumbai.\n",
            "4\n",
            "\n",
            "\n",
            "\n",
            "\n",
            "\n",
            "Chapter4\n",
            "Theory,MethodologyandAlgorithm\n",
            "Chapter4\n",
            "Theory,MethodologyandAlgorithm\n",
            "4.1Theory\n",
            "imageprocessingissignalprocessingforwhichtheinputisanimage,suchasaphotograph;\n",
            "theoutputofimageprocessingmaybeeitheranimageorasetofcharacteristicsorparametersrelated\n",
            "totheimage.\n",
            "4.1.1Methodology\n",
            "Analyzingandmanipulatingimageswithacomputer.Imageprocessinggenerallyinvolvesthreesteps:\n",
            "1.Importanimagewithanopticalscannerordirectlythroughdigitalphotography.2.Manipulate\n",
            "oranalyzetheimageinsomeway.Thisstagecanincludeimageenhancementanddatacompression,\n",
            "ortheimagemaybeanalyzedtopatternsthataren'tvisiblebythehumaneye.Forexample,\n",
            "meteorologistsuseimageprocessingtoanalyzesatellitephotographs.3.Outputtheresult.Theresult\n",
            "mightbetheimagealteredinsomewayoritmightbeareportbasedonanalysisoftheimage\n",
            "4.1.2Algorithm\n",
            "Step1:insertimagetobeanalysedStep2:performindepthanalysisofimageStep3:iferroroccurred\n",
            "thengotostep1Step4:ifnotdisplayresultend\n",
            "Operationbeingexecutedunderstep2isdetailedinbelow\n",
            "4.2FlowchartDescription\n",
            "4.2.1ImageAcquisition:\n",
            "Thisisthesteporprocessofthefundamentalstepsofdigitalimageprocessing.Imageacquisi-\n",
            "tioncouldbeassimpleasbeinggivenanimagethatisalreadyindigitalform.Generally,theimage\n",
            "acquisitionstageinvolvespreprocessing,suchasscalingetc.\n",
            "4.2.2ImageEnhancement:\n",
            "Imageenhancementisamongthesimplestandmostappealingareasofdigitalimageprocessing.Ba-\n",
            "sically,theideabehindenhancementtechniquesistobringoutdetailthatisobscured,orsimplyto\n",
            "highlightcertainfeaturesofinterestinanimage.\n",
            "RizviCollegeofEngineering,Bandra,Mumbai.\n",
            "5\n",
            "\n",
            "\n",
            "\n",
            "\n",
            "\n",
            "Chapter4\n",
            "Theory,MethodologyandAlgorithm\n",
            "Figure4.1:Schemaforfundamentalsteps\n",
            "6\n",
            "\n",
            "\n",
            "\n",
            "\n",
            "\n",
            "Chapter4\n",
            "Theory,MethodologyandAlgorithm\n",
            "4.2.3ImageRestoration\n",
            ":Imagerestorationisanareathatalsodealswithimprovingtheappearanceofanimage.However,\n",
            "unlikeenhancement,whichissubjective,imagerestorationisobjective,inthesensethatrestoration\n",
            "techniquestendtobebasedonmathematicalorprobabilisticmodelsofimagedegradation.\n",
            "4.2.4ColorImageProcessing:\n",
            "Colorimageprocessingisanareathathasbeengainingitsimportancebecauseoftheincrease\n",
            "intheuseofdigitalimagesovertheInternet.Thismayincludecolormodelingandprocessinginadigital\n",
            "domainetc.\n",
            "4.2.5DigitalCompression\n",
            ":Compressiondealswithtechniquesforreducingthestoragerequiredtosaveanimageorthebandwidth\n",
            "totransmitit.Particularlyintheusesofinternetitisverymuchnecessarytocompressdata.\n",
            "4.2.6ImageSegmentation:\n",
            "Segmentationprocedurespartitionanimageintoitsconstituentpartsorobjects.Ingeneral,autonomous\n",
            "segmentationisoneofthemostdiftasksindigitalimageprocessing.Aruggedsegmentation\n",
            "procedurebringstheprocessalongwaytowardsuccessfulsolutionofimagingproblemsthatrequire\n",
            "objectstobeindividually.\n",
            "4.2.7FeatureSelection:\n",
            "Whentheinputdatatoanalgorithmistoolargetobeprocessedanditissuspectedtobenotoriously\n",
            "redundant(e.g.thesamemeasurementinbothfeetandmeters)thentheinputdatawillbetransformed\n",
            "intoareducedrepresentationsetoffeatures(alsonamedfeaturesvector).Transformingtheinputdata\n",
            "intothesetoffeaturesiscalledfeatureselection.\n",
            "4.2.8ImageRepresentation\n",
            ":Representationanddescriptionalmostalwaysfollowtheoutputofasegmentationstage,whichusually\n",
            "israwpixeldata,constitutingeithertheboundaryofaregionorallthepointsintheregionitself.\n",
            "Choosingarepresentationisonlypartofthesolutionfortransformingrawdataintoaformsuitable\n",
            "forsubsequentcomputerprocessing.Descriptiondealswithextractingattributesthatresultinsome\n",
            "quantitativeinformationofinterestorarebasicfordifferentiatingoneclassofobjectsfromanother.\n",
            "4.2.9Imageinterpretation:\n",
            "ItinterpretestheimagefortheperformedworkinfollowingstepsTargetsmaybeapoint,line,orarea\n",
            "feature.Thismeansthattheycanhaveanyform,toalargeexpanseofwateroraThetargetmust\n",
            "bedistinguishable;itmustcontrastwithotherfeaturesarounditintheimage.\n",
            "7\n",
            "\n",
            "\n",
            "\n",
            "\n",
            "\n",
            "Chapter5\n",
            "PlanofWork&ProjectStatus\n",
            "Chapter5\n",
            "PlanofWork&ProjectStatus\n",
            "5.1ProposedModules\n",
            "Modulesofthisprojectarethree\n",
            "1:inputavailability:thisisthesimplestofmodules,asimageprocurementisnoissus\n",
            "2:engineconstruction:ThisisthemainandmostdifofthethreemodulesItinvolvesstrict\n",
            "workingtimeoncoding.Thearchitechtureistoformulatedinmatlabworkingenvironment.Thework-\n",
            "ingofthismoduleisbasedonconceptofimageprocessing,whosevariousstagesareexplained\n",
            "5.1.1Output\n",
            "Thisistheresultofoperation.ItwouldbeawindowsdisplayingdetailsofoperationTherecouldbe\n",
            "fewpossibilitiesofoutcomewhichcouldbeencounteredPositiveresult:theoutputconsistingofimage\n",
            "analysisi.eagriculturaldetails(aorn.a)Errors:thiswouldmeanthateitherimageisnotacceptedorthe\n",
            "machinehasfacedproblemsinfunctioningwhichwouldrequireinterventiononcodingstate.\n",
            "Thefollowingtableshowstheexpectedwofworkfortheaccomplishmentoftherequiredresult.\n",
            "Table5.1:PlanofWork\n",
            "No.\n",
            "DescribtionDurationComplexity\n",
            "Status\n",
            "1\n",
            "ProjecyTitle\n",
            "2\n",
            "LiteratureSurveyofconceptualtheoryinimage\n",
            "processing\n",
            "2weeks5\n",
            "Done\n",
            "3\n",
            "Procuringrequiredsoftware(Matlab)3-4weeks8\n",
            "Done\n",
            "4\n",
            "CreatingaBlueprintofworkingproject1week3\n",
            "Pending\n",
            "5\n",
            "Analysingandtestingblueprint1week2\n",
            "Pending\n",
            "6\n",
            "StartcodinginMatlab7weeks8\n",
            "Pending\n",
            "8\n",
            "Testingcompletedproject2weeks8\n",
            "Pending\n",
            "RizviCollegeofEngineering,Bandra,Mumbai.\n",
            "8\n",
            "\n",
            "\n",
            "\n",
            "\n",
            "\n",
            "Chapter6\n",
            "Summary\n",
            "Chapter6\n",
            "Summary\n",
            "ThisProjectisintentedforeducationalpupose.Ittriestocoverimportantissues\n",
            "regardingagriculturaLlandsurvey.oneoftheimportantissueislandavailabilitywhichwehave\n",
            "triedtosolveherewithourproject.Wemadeuseofimageprocessingtechnology,andappliedittoour\n",
            "workingmodule.\n",
            "RizviCollegeofEngineering,Bandra,Mumbai.\n",
            "9\n",
            "\n",
            "\n",
            "\n",
            "\n",
            "\n",
            "References\n",
            "References\n",
            "[1]\n",
            "AStudyofImageProcessinginAgricultureApplicationunderHighPerformanceComputingEn-\n",
            "vironment\n",
            ";AFakhriANasir,MNordinARahmanandARasidMamat\n",
            "[2]\n",
            "AutomaticImageProcessingForAgriculture\n",
            ";SKBodhePhd,Professor,CollegeofEngineering,\n",
            "PandharpurAnupVibhuteAssistantProfessor,BMIT,Solapur(India)\n",
            "[3]\n",
            "ﬂAutomaticimageprocessingﬂ\n",
            ",GarciaThomas,d.gomez-Candon\n",
            "[4]\n",
            "http://google.com\n",
            "[5]\n",
            "http://IEEEexplore.com\n",
            "RizviCollegeofEngineering,Bandra,Mumbai.\n",
            "10\n",
            "\n",
            "\n",
            "\n",
            "\n",
            "\n",
            "eReportDetails\n",
            "AppendixA\n",
            "eReportDetails\n",
            "ThisreportissharedonAcademiaResearchNetworkforanyfuturereference.Thelinktotheonline\n",
            "contentisprovidedbelow.\n",
            "ReportLink:\n",
            "http://www.academia.edu/4863340\n",
            "QRCODE:\n",
            "RizviCollegeofEngineering,Bandra,Mumbai.\n",
            "11\n",
            "\n",
            "\n",
            "\n",
            "\n",
            "\n"
          ],
          "name": "stdout"
        }
      ]
    },
    {
      "cell_type": "code",
      "metadata": {
        "id": "azPIvWW301Sa"
      },
      "source": [
        "p.close()"
      ],
      "execution_count": null,
      "outputs": []
    },
    {
      "cell_type": "code",
      "metadata": {
        "id": "9SBm0fx31Q_9"
      },
      "source": [
        ""
      ],
      "execution_count": null,
      "outputs": []
    },
    {
      "cell_type": "markdown",
      "metadata": {
        "id": "koshOOTxuMlw"
      },
      "source": [
        "# **Regular Expressions |NLP**"
      ]
    },
    {
      "cell_type": "code",
      "metadata": {
        "id": "Eb6omsiTuZ8e"
      },
      "source": [
        "#So regular expression finding pattern and  seprate text file\n"
      ],
      "execution_count": null,
      "outputs": []
    },
    {
      "cell_type": "code",
      "metadata": {
        "id": "No104kaXvCwo"
      },
      "source": [
        "text = \"My phone numer is 111-222-3333 , call me soon !!!\""
      ],
      "execution_count": null,
      "outputs": []
    },
    {
      "cell_type": "code",
      "metadata": {
        "colab": {
          "base_uri": "https://localhost:8080/",
          "height": 35
        },
        "id": "Fg30ebyFxhFF",
        "outputId": "d4bd285e-5762-44b7-9c88-ddccc338cb58"
      },
      "source": [
        "text "
      ],
      "execution_count": null,
      "outputs": [
        {
          "output_type": "execute_result",
          "data": {
            "application/vnd.google.colaboratory.intrinsic+json": {
              "type": "string"
            },
            "text/plain": [
              "'My phone numer is 111-222-3333 , call me soon !!!'"
            ]
          },
          "metadata": {
            "tags": []
          },
          "execution_count": 13
        }
      ]
    },
    {
      "cell_type": "code",
      "metadata": {
        "colab": {
          "base_uri": "https://localhost:8080/"
        },
        "id": "nOqT_n3dxxD5",
        "outputId": "3b4ba328-e1cd-4d80-c72f-a7a435766ab1"
      },
      "source": [
        "'phone' in text"
      ],
      "execution_count": null,
      "outputs": [
        {
          "output_type": "execute_result",
          "data": {
            "text/plain": [
              "True"
            ]
          },
          "metadata": {
            "tags": []
          },
          "execution_count": 14
        }
      ]
    },
    {
      "cell_type": "code",
      "metadata": {
        "colab": {
          "base_uri": "https://localhost:8080/"
        },
        "id": "Z6gc4I77x9CQ",
        "outputId": "ba9b9926-3d96-451b-f682-a42533c191d7"
      },
      "source": [
        "'111-222-3333' in text"
      ],
      "execution_count": null,
      "outputs": [
        {
          "output_type": "execute_result",
          "data": {
            "text/plain": [
              "True"
            ]
          },
          "metadata": {
            "tags": []
          },
          "execution_count": 15
        }
      ]
    },
    {
      "cell_type": "code",
      "metadata": {
        "id": "X4rq06vGyY7i"
      },
      "source": [
        "# But suppose phone not given then how to search phone number?"
      ],
      "execution_count": null,
      "outputs": []
    },
    {
      "cell_type": "code",
      "metadata": {
        "id": "GLviGdqXykp4"
      },
      "source": [
        "import re"
      ],
      "execution_count": null,
      "outputs": []
    },
    {
      "cell_type": "code",
      "metadata": {
        "id": "IPvlkkZmypch"
      },
      "source": [
        " pattern  = 'phone'"
      ],
      "execution_count": null,
      "outputs": []
    },
    {
      "cell_type": "code",
      "metadata": {
        "colab": {
          "base_uri": "https://localhost:8080/"
        },
        "id": "fiuY5_NszKmP",
        "outputId": "e91d3ff3-878b-4545-a16a-c1e0dec6a086"
      },
      "source": [
        "re.search(pattern,text)"
      ],
      "execution_count": null,
      "outputs": [
        {
          "output_type": "execute_result",
          "data": {
            "text/plain": [
              "<_sre.SRE_Match object; span=(3, 8), match='phone'>"
            ]
          },
          "metadata": {
            "tags": []
          },
          "execution_count": 18
        }
      ]
    },
    {
      "cell_type": "code",
      "metadata": {
        "colab": {
          "base_uri": "https://localhost:8080/"
        },
        "id": "1PkvQPfRzSaj",
        "outputId": "cee914ce-59fd-4b06-c8e6-a598bf54a923"
      },
      "source": [
        "match = re.search(pattern ,text) # means which index to match phone number and text\n",
        "match.span() # so match pattern index 3 to 8 starting is 3 and ending is 8"
      ],
      "execution_count": null,
      "outputs": [
        {
          "output_type": "execute_result",
          "data": {
            "text/plain": [
              "(3, 8)"
            ]
          },
          "metadata": {
            "tags": []
          },
          "execution_count": 19
        }
      ]
    },
    {
      "cell_type": "code",
      "metadata": {
        "colab": {
          "base_uri": "https://localhost:8080/"
        },
        "id": "jFf9ARLLzm1u",
        "outputId": "a5a98404-7cde-4bb7-e1b7-8c1e395546a7"
      },
      "source": [
        "# suppose starting pattern\n",
        "match.start()\n"
      ],
      "execution_count": null,
      "outputs": [
        {
          "output_type": "execute_result",
          "data": {
            "text/plain": [
              "3"
            ]
          },
          "metadata": {
            "tags": []
          },
          "execution_count": 20
        }
      ]
    },
    {
      "cell_type": "code",
      "metadata": {
        "colab": {
          "base_uri": "https://localhost:8080/"
        },
        "id": "AZywbwkG0XT7",
        "outputId": "367c396c-a027-4c6b-a64d-6669942ca248"
      },
      "source": [
        "#Ending pattern\n",
        "match.end()"
      ],
      "execution_count": null,
      "outputs": [
        {
          "output_type": "execute_result",
          "data": {
            "text/plain": [
              "8"
            ]
          },
          "metadata": {
            "tags": []
          },
          "execution_count": 21
        }
      ]
    },
    {
      "cell_type": "code",
      "metadata": {
        "colab": {
          "base_uri": "https://localhost:8080/"
        },
        "id": "zKICGugQ0-1x",
        "outputId": "7e25add4-db50-4d46-9e16-7aeb79fa37e8"
      },
      "source": [
        "text = \"My phone is a bran new phone\"\n",
        "match  = re.search(pattern,text)\n",
        "match"
      ],
      "execution_count": null,
      "outputs": [
        {
          "output_type": "execute_result",
          "data": {
            "text/plain": [
              "<_sre.SRE_Match object; span=(3, 8), match='phone'>"
            ]
          },
          "metadata": {
            "tags": []
          },
          "execution_count": 22
        }
      ]
    },
    {
      "cell_type": "code",
      "metadata": {
        "colab": {
          "base_uri": "https://localhost:8080/"
        },
        "id": "B5kL6rg21LMK",
        "outputId": "a0395e39-dfe0-482a-ab5b-53ac0501a12d"
      },
      "source": [
        "match.span()"
      ],
      "execution_count": null,
      "outputs": [
        {
          "output_type": "execute_result",
          "data": {
            "text/plain": [
              "(3, 8)"
            ]
          },
          "metadata": {
            "tags": []
          },
          "execution_count": 23
        }
      ]
    },
    {
      "cell_type": "code",
      "metadata": {
        "id": "utJDHiVt1ou1"
      },
      "source": [
        "#But suppose pattern multiple times repeated then this method\n",
        "all_match = re.findall(\"phone\",text)"
      ],
      "execution_count": null,
      "outputs": []
    },
    {
      "cell_type": "code",
      "metadata": {
        "colab": {
          "base_uri": "https://localhost:8080/"
        },
        "id": "gFOvvSiy13wt",
        "outputId": "7e312c34-1a09-48a2-d7d4-9a2afc774e2b"
      },
      "source": [
        "# suppose length find repeating pattern\n",
        "len(all_match)"
      ],
      "execution_count": null,
      "outputs": [
        {
          "output_type": "execute_result",
          "data": {
            "text/plain": [
              "2"
            ]
          },
          "metadata": {
            "tags": []
          },
          "execution_count": 26
        }
      ]
    },
    {
      "cell_type": "code",
      "metadata": {
        "colab": {
          "base_uri": "https://localhost:8080/"
        },
        "id": "vtlq-PY22P41",
        "outputId": "6c2e83c5-5e10-4d59-befa-9bffc724078c"
      },
      "source": [
        "for match in re.findall('phone',text):\n",
        "  print(match)# repeating string print (and span is not string)"
      ],
      "execution_count": null,
      "outputs": [
        {
          "output_type": "stream",
          "text": [
            "phone\n",
            "phone\n"
          ],
          "name": "stdout"
        }
      ]
    },
    {
      "cell_type": "code",
      "metadata": {
        "id": "APa0gcHX22wT"
      },
      "source": [
        "text =\"My phone number is 666-555-8888\""
      ],
      "execution_count": null,
      "outputs": []
    },
    {
      "cell_type": "code",
      "metadata": {
        "id": "X1TlxZq64G_q"
      },
      "source": [
        "'''1-> Matching Objects -:Say you want to separate the area code from \n",
        "the rest of the phone number. Adding parentheses will create groups in the regex: (\\d\\d\\d)-(\\d\\d\\d-\\d\\d\\d\\d). Then you can\n",
        "use the group() match object method to grab the matching text from just one group'''\n",
        "\n",
        "pattern = r'\\d\\d\\d-\\d\\d\\d-\\d\\d\\d\\d'\n"
      ],
      "execution_count": null,
      "outputs": []
    },
    {
      "cell_type": "code",
      "metadata": {
        "id": "rqevlGEh46GN"
      },
      "source": [
        "ph = re.search(pattern,text)\n"
      ],
      "execution_count": null,
      "outputs": []
    },
    {
      "cell_type": "code",
      "metadata": {
        "colab": {
          "base_uri": "https://localhost:8080/"
        },
        "id": "sbtugQU4PcqE",
        "outputId": "0aab1deb-de75-4784-a18a-49ad4dece92b"
      },
      "source": [
        "ph"
      ],
      "execution_count": null,
      "outputs": [
        {
          "output_type": "execute_result",
          "data": {
            "text/plain": [
              "<_sre.SRE_Match object; span=(19, 31), match='666-555-8888'>"
            ]
          },
          "metadata": {
            "tags": []
          },
          "execution_count": 46
        }
      ]
    },
    {
      "cell_type": "code",
      "metadata": {
        "colab": {
          "base_uri": "https://localhost:8080/",
          "height": 35
        },
        "id": "SjWx-T6FQ0zX",
        "outputId": "79abf1bf-34bf-49b8-aa97-8257d4256113"
      },
      "source": [
        "ph.group()"
      ],
      "execution_count": null,
      "outputs": [
        {
          "output_type": "execute_result",
          "data": {
            "application/vnd.google.colaboratory.intrinsic+json": {
              "type": "string"
            },
            "text/plain": [
              "'666-555-8888'"
            ]
          },
          "metadata": {
            "tags": []
          },
          "execution_count": 59
        }
      ]
    },
    {
      "cell_type": "code",
      "metadata": {
        "id": "7X9gKg7FQ5Eu"
      },
      "source": [
        "#But back slash d again time not write then this function -> d{no of repeted pattern}\n",
        "#For pattern \n",
        "pattern = r'\\d{3}-\\d{3}-\\d{4}'\n"
      ],
      "execution_count": null,
      "outputs": []
    },
    {
      "cell_type": "code",
      "metadata": {
        "id": "xY4j02CDY6mi"
      },
      "source": [
        "match = re.search(pattern,text)"
      ],
      "execution_count": null,
      "outputs": []
    },
    {
      "cell_type": "code",
      "metadata": {
        "colab": {
          "base_uri": "https://localhost:8080/",
          "height": 178
        },
        "id": "bPM52MPhZMnT",
        "outputId": "afcd26fb-d3fa-4be0-f22f-0dd5dcc65cdd"
      },
      "source": [
        "#Then for value\n",
        "match.group()"
      ],
      "execution_count": null,
      "outputs": [
        {
          "output_type": "error",
          "ename": "AttributeError",
          "evalue": "ignored",
          "traceback": [
            "\u001b[0;31m---------------------------------------------------------------------------\u001b[0m",
            "\u001b[0;31mAttributeError\u001b[0m                            Traceback (most recent call last)",
            "\u001b[0;32m<ipython-input-68-b101d5246c38>\u001b[0m in \u001b[0;36m<module>\u001b[0;34m()\u001b[0m\n\u001b[1;32m      1\u001b[0m \u001b[0;31m#Then for value\u001b[0m\u001b[0;34m\u001b[0m\u001b[0;34m\u001b[0m\u001b[0;34m\u001b[0m\u001b[0m\n\u001b[0;32m----> 2\u001b[0;31m \u001b[0mmatch\u001b[0m\u001b[0;34m.\u001b[0m\u001b[0mgroup\u001b[0m\u001b[0;34m(\u001b[0m\u001b[0;34m)\u001b[0m\u001b[0;34m\u001b[0m\u001b[0;34m\u001b[0m\u001b[0m\n\u001b[0m",
            "\u001b[0;31mAttributeError\u001b[0m: 'NoneType' object has no attribute 'group'"
          ]
        }
      ]
    },
    {
      "cell_type": "code",
      "metadata": {
        "colab": {
          "base_uri": "https://localhost:8080/"
        },
        "id": "pSFbCwSgZPdN",
        "outputId": "6d77d6de-bfa5-481d-e38e-91ab4edfd4e6"
      },
      "source": [
        "# Python program to illustrate \n",
        "# Matching regex objects \n",
        "import re \n",
        "phoneNumRegex = re.compile(r'\\d\\d\\d-\\d\\d\\d-\\d\\d\\d\\d') \n",
        "mo = phoneNumRegex.search('My number is 415-555-4242.') \n",
        "print('Phone number found: ' + mo.group()) \n"
      ],
      "execution_count": null,
      "outputs": [
        {
          "output_type": "stream",
          "text": [
            "Phone number found: 415-555-4242\n"
          ],
          "name": "stdout"
        }
      ]
    },
    {
      "cell_type": "code",
      "metadata": {
        "colab": {
          "base_uri": "https://localhost:8080/"
        },
        "id": "6c26RdVTesPk",
        "outputId": "a0e8d1bc-94bf-4a7c-aa16-a635b3ad327b"
      },
      "source": [
        "'''2->Retrieve all the groups at once - : If you would like to retrieve all the groups at once, use the groups(), \n",
        "method—note the plural form for the name.'''\n",
        "# Python program to illustrate \n",
        "# Matching regex objects \n",
        "# with groups  \n",
        "import re \n",
        "phoneNumRegex = re.compile(r'(\\d\\d\\d)-(\\d\\d\\d-\\d\\d\\d\\d)') \n",
        "mo = phoneNumRegex.search('My number is 415-555-4242.') \n",
        "print(mo.groups()) "
      ],
      "execution_count": null,
      "outputs": [
        {
          "output_type": "stream",
          "text": [
            "('415', '555-4242')\n"
          ],
          "name": "stdout"
        }
      ]
    },
    {
      "cell_type": "code",
      "metadata": {
        "colab": {
          "base_uri": "https://localhost:8080/"
        },
        "id": "xgjignCYfBWY",
        "outputId": "76260614-6476-49b6-941d-6e33a9261dfa"
      },
      "source": [
        "'''3-> Using mo.groups ->: mo.groups() will return a tuple of multiple values, you can use the multiple-assignment trick to assign each\n",
        " value to a separate variable, as in the following areaCode, mainNumber = mo.groups() line. '''\n",
        " # Python program to illustrate \n",
        "# Matching regex objects \n",
        "# with mo.groups() \n",
        "import re \n",
        "phoneNumRegex = re.compile(r'(\\d\\d\\d)-(\\d\\d\\d-\\d\\d\\d\\d)') \n",
        "mo = phoneNumRegex.search('My number is 415-555-4242.') \n",
        "areaCode, mainNumber = mo.groups() \n",
        "print(mainNumber)\n"
      ],
      "execution_count": null,
      "outputs": [
        {
          "output_type": "stream",
          "text": [
            "555-4242\n"
          ],
          "name": "stdout"
        }
      ]
    },
    {
      "cell_type": "code",
      "metadata": {
        "colab": {
          "base_uri": "https://localhost:8080/"
        },
        "id": "L5vW4dZXh4de",
        "outputId": "5cf57e25-9cf3-435b-856d-2ba0fb69d319"
      },
      "source": [
        "'''4 -> Match a parenthesis ->:Parentheses have a special meaning in regular expressions, but what do you do \n",
        "if you need to match a parenthesis in your text. For instance, maybe the phone numbers you are\n",
        "trying to match have the area code set in parentheses. In this case, you need to escape the\n",
        " ( and ) characters with a backslash. Enter the following into the interactive shell:'''\n",
        " # Python program to illustrate \n",
        "# Matching regex objects \n",
        "# with grouping \n",
        "import re \n",
        "phoneNumRegex = re.compile(r'(\\(\\d\\d\\d\\)) (\\d\\d\\d-\\d\\d\\d\\d)') \n",
        "mo = phoneNumRegex.search('My phone number is (415) 555-4242.') \n",
        "print(mo.group(1))\n"
      ],
      "execution_count": null,
      "outputs": [
        {
          "output_type": "stream",
          "text": [
            "(415)\n"
          ],
          "name": "stdout"
        }
      ]
    },
    {
      "cell_type": "code",
      "metadata": {
        "id": "x305eYVTiOOG"
      },
      "source": [
        ""
      ],
      "execution_count": null,
      "outputs": []
    },
    {
      "cell_type": "markdown",
      "metadata": {
        "id": "6tW0hFQ6ilTj"
      },
      "source": [
        "#*Matching Multiple Groups with the Pipe*"
      ]
    },
    {
      "cell_type": "code",
      "metadata": {
        "colab": {
          "base_uri": "https://localhost:8080/"
        },
        "id": "o8r8PoMnirci",
        "outputId": "88192fe6-87e4-4eb7-9e82-2142977c6290"
      },
      "source": [
        "'''The | character is called a pipe. You can use it anywhere you want to match one of many expressions. \n",
        "For example, the regular expression r’Batman|Tina Fey’ will match either ‘Batman’ or ‘Tina Fey’.\n",
        "When both Batman and Tina Fey occur in the searched string, the first occurrence of matching text will be\n",
        " returned as the Match object. Enter the following into the interactive shell:'''\n",
        " # Python program to illustrate \n",
        "# Matching regex objects \n",
        "# with multiple Groups with the Pipe \n",
        "import re \n",
        "heroRegex = re.compile (r'Batman|Tina Fey') \n",
        "mo1 = heroRegex.search('Batman and Tina Fey.') \n",
        "print(mo1.group())\n",
        "\n"
      ],
      "execution_count": null,
      "outputs": [
        {
          "output_type": "stream",
          "text": [
            "Batman\n"
          ],
          "name": "stdout"
        }
      ]
    },
    {
      "cell_type": "code",
      "metadata": {
        "id": "AHVNfMThjFcU"
      },
      "source": [
        ""
      ],
      "execution_count": null,
      "outputs": []
    },
    {
      "cell_type": "markdown",
      "metadata": {
        "id": "1VYaKGzYjN33"
      },
      "source": [
        "#**Matching Specific Repetitions with Curly Brackets**"
      ]
    },
    {
      "cell_type": "code",
      "metadata": {
        "colab": {
          "base_uri": "https://localhost:8080/"
        },
        "id": "_Hd9SUgGjSy3",
        "outputId": "57c87569-86cb-4aff-fa3b-4a546e0c83e3"
      },
      "source": [
        "'''If you have a group that you want to repeat a specific number of times, follow the group in your regex with a number \n",
        "in curly brackets. For example, the regex (Ha){3} will match the string \n",
        "‘HaHaHa’, but it will not match ‘HaHa’, since the latter has only two repeats of the (Ha) group.'''\n",
        "# Python program to illustrate \n",
        "# Matching Specific Repetitions \n",
        "# with Curly Brackets \n",
        "import re \n",
        "haRegex = re.compile(r'(Ha){3}') \n",
        "mo1 = haRegex.search('HaHaHa') \n",
        "print(mo1.group()) \n",
        "\n",
        "\n"
      ],
      "execution_count": null,
      "outputs": [
        {
          "output_type": "stream",
          "text": [
            "HaHaHa\n"
          ],
          "name": "stdout"
        }
      ]
    },
    {
      "cell_type": "code",
      "metadata": {
        "id": "5wmTQ8Uejd0a"
      },
      "source": [
        "text =\"My phone number is 666-555-8888\""
      ],
      "execution_count": null,
      "outputs": []
    },
    {
      "cell_type": "code",
      "metadata": {
        "id": "kYltgowelGY7"
      },
      "source": [
        "pattern = r'\\d\\d\\d-\\d\\d\\d-\\d\\d\\d\\d'"
      ],
      "execution_count": null,
      "outputs": []
    },
    {
      "cell_type": "code",
      "metadata": {
        "id": "NQgsS6YHlHS7"
      },
      "source": [
        "ph = re.search(pattern,text)"
      ],
      "execution_count": null,
      "outputs": []
    },
    {
      "cell_type": "code",
      "metadata": {
        "colab": {
          "base_uri": "https://localhost:8080/"
        },
        "id": "qfj197vQlMni",
        "outputId": "e35d77b0-86ba-4325-a380-9988c9b4ddaa"
      },
      "source": [
        "ph"
      ],
      "execution_count": null,
      "outputs": [
        {
          "output_type": "execute_result",
          "data": {
            "text/plain": [
              "<_sre.SRE_Match object; span=(19, 31), match='666-555-8888'>"
            ]
          },
          "metadata": {
            "tags": []
          },
          "execution_count": 84
        }
      ]
    },
    {
      "cell_type": "code",
      "metadata": {
        "colab": {
          "base_uri": "https://localhost:8080/",
          "height": 35
        },
        "id": "2r8_jbiRlN1S",
        "outputId": "ae9e75d7-7b4e-44d4-b5ea-859c8c2f60e3"
      },
      "source": [
        "ph.group()"
      ],
      "execution_count": null,
      "outputs": [
        {
          "output_type": "execute_result",
          "data": {
            "application/vnd.google.colaboratory.intrinsic+json": {
              "type": "string"
            },
            "text/plain": [
              "'666-555-8888'"
            ]
          },
          "metadata": {
            "tags": []
          },
          "execution_count": 85
        }
      ]
    },
    {
      "cell_type": "code",
      "metadata": {
        "id": "BhSERh4AlU8Y"
      },
      "source": [
        "pattern = r'(\\d{3})-\\d{3}-\\d{4}'"
      ],
      "execution_count": null,
      "outputs": []
    },
    {
      "cell_type": "code",
      "metadata": {
        "id": "2k9uh9b_lesX"
      },
      "source": [
        "match = re.search(pattern,text)"
      ],
      "execution_count": null,
      "outputs": []
    },
    {
      "cell_type": "code",
      "metadata": {
        "colab": {
          "base_uri": "https://localhost:8080/",
          "height": 35
        },
        "id": "TA9EICf4lj8y",
        "outputId": "ddaa2e0f-42ce-4644-c349-2d3bdcabb8e9"
      },
      "source": [
        "match.group()"
      ],
      "execution_count": null,
      "outputs": [
        {
          "output_type": "execute_result",
          "data": {
            "application/vnd.google.colaboratory.intrinsic+json": {
              "type": "string"
            },
            "text/plain": [
              "'666-555-8888'"
            ]
          },
          "metadata": {
            "tags": []
          },
          "execution_count": 94
        }
      ]
    },
    {
      "cell_type": "code",
      "metadata": {
        "id": "oH2sruq7lsSo"
      },
      "source": [
        "match = re.search(pattern,text)"
      ],
      "execution_count": null,
      "outputs": []
    },
    {
      "cell_type": "code",
      "metadata": {
        "colab": {
          "base_uri": "https://localhost:8080/",
          "height": 35
        },
        "id": "aNxyrodOmY1V",
        "outputId": "e6678e4b-0094-464a-a478-688e6d474a21"
      },
      "source": [
        "match.group(1)"
      ],
      "execution_count": null,
      "outputs": [
        {
          "output_type": "execute_result",
          "data": {
            "application/vnd.google.colaboratory.intrinsic+json": {
              "type": "string"
            },
            "text/plain": [
              "'666'"
            ]
          },
          "metadata": {
            "tags": []
          },
          "execution_count": 97
        }
      ]
    },
    {
      "cell_type": "code",
      "metadata": {
        "id": "Xkt0iiVWmkD8"
      },
      "source": [
        ""
      ],
      "execution_count": null,
      "outputs": []
    },
    {
      "cell_type": "markdown",
      "metadata": {
        "id": "Ru_cND-PoRBK"
      },
      "source": [
        "#**Using Pipe in regular expression ->**"
      ]
    },
    {
      "cell_type": "code",
      "metadata": {
        "colab": {
          "base_uri": "https://localhost:8080/"
        },
        "id": "vF40OR3xoZWJ",
        "outputId": "6199b489-d54e-4509-e6d0-53e71e20a168"
      },
      "source": [
        "re.search(r\"man|woman\",\"This man is  my best friend\")"
      ],
      "execution_count": null,
      "outputs": [
        {
          "output_type": "execute_result",
          "data": {
            "text/plain": [
              "<_sre.SRE_Match object; span=(5, 8), match='man'>"
            ]
          },
          "metadata": {
            "tags": []
          },
          "execution_count": 100
        }
      ]
    },
    {
      "cell_type": "code",
      "metadata": {
        "colab": {
          "base_uri": "https://localhost:8080/"
        },
        "id": "XyUFwAHiok-0",
        "outputId": "6fe332b3-0a5a-4f8b-f7d7-83725d2cb9f6"
      },
      "source": [
        "#man is match \n",
        "#But woman match\n",
        "re.search(r\"man|woman\",\"This woman is my best friend\")"
      ],
      "execution_count": null,
      "outputs": [
        {
          "output_type": "execute_result",
          "data": {
            "text/plain": [
              "<_sre.SRE_Match object; span=(5, 10), match='woman'>"
            ]
          },
          "metadata": {
            "tags": []
          },
          "execution_count": 101
        }
      ]
    },
    {
      "cell_type": "code",
      "metadata": {
        "colab": {
          "base_uri": "https://localhost:8080/"
        },
        "id": "a-2OEdqDpPAh",
        "outputId": "55e75451-f934-42f6-d0a9-469d9e8ab461"
      },
      "source": [
        "#Suppose print man ans woman both are matched \n",
        "#then possible function . function\n",
        "re.findall(r\".man\",\"This man & woman are my best friend\")"
      ],
      "execution_count": null,
      "outputs": [
        {
          "output_type": "execute_result",
          "data": {
            "text/plain": [
              "[' man', 'oman']"
            ]
          },
          "metadata": {
            "tags": []
          },
          "execution_count": 102
        }
      ]
    },
    {
      "cell_type": "code",
      "metadata": {
        "colab": {
          "base_uri": "https://localhost:8080/"
        },
        "id": "5r1TKG0DqWYT",
        "outputId": "41b90c32-6990-496d-e309-30f7b54f4285"
      },
      "source": [
        "# Starting operator for regular expression (^)\n",
        "# ending operator for regular expression ($)\n",
        "re.findall(r\"\\d$\",\"This ends with a number 3\")"
      ],
      "execution_count": null,
      "outputs": [
        {
          "output_type": "execute_result",
          "data": {
            "text/plain": [
              "['3']"
            ]
          },
          "metadata": {
            "tags": []
          },
          "execution_count": 104
        }
      ]
    },
    {
      "cell_type": "code",
      "metadata": {
        "colab": {
          "base_uri": "https://localhost:8080/"
        },
        "id": "YEf7utbQssI5",
        "outputId": "126229d3-36a1-4e13-b2b9-e85058bf46e1"
      },
      "source": [
        "# ^ -> starting point\n",
        "re.findall(r\"^\\d \",\"8 is my  fav. number\")"
      ],
      "execution_count": null,
      "outputs": [
        {
          "output_type": "execute_result",
          "data": {
            "text/plain": [
              "['8 ']"
            ]
          },
          "metadata": {
            "tags": []
          },
          "execution_count": 106
        }
      ]
    },
    {
      "cell_type": "code",
      "metadata": {
        "colab": {
          "base_uri": "https://localhost:8080/"
        },
        "id": "5HDeRgnQu3i8",
        "outputId": "71ba3bf6-675f-46e4-f624-9c0110ba26a5"
      },
      "source": [
        "phrase = \"There are 3 numbers 34 inside 5 this sentence\"\n",
        "# suppose exclude symbol -> [^]\n",
        "re.findall(r\"[^d]\",phrase)#[^] -> exclude (means split form character by character search)"
      ],
      "execution_count": null,
      "outputs": [
        {
          "output_type": "execute_result",
          "data": {
            "text/plain": [
              "['T',\n",
              " 'h',\n",
              " 'e',\n",
              " 'r',\n",
              " 'e',\n",
              " ' ',\n",
              " 'a',\n",
              " 'r',\n",
              " 'e',\n",
              " ' ',\n",
              " '3',\n",
              " ' ',\n",
              " 'n',\n",
              " 'u',\n",
              " 'm',\n",
              " 'b',\n",
              " 'e',\n",
              " 'r',\n",
              " 's',\n",
              " ' ',\n",
              " '3',\n",
              " '4',\n",
              " ' ',\n",
              " 'i',\n",
              " 'n',\n",
              " 's',\n",
              " 'i',\n",
              " 'e',\n",
              " ' ',\n",
              " '5',\n",
              " ' ',\n",
              " 't',\n",
              " 'h',\n",
              " 'i',\n",
              " 's',\n",
              " ' ',\n",
              " 's',\n",
              " 'e',\n",
              " 'n',\n",
              " 't',\n",
              " 'e',\n",
              " 'n',\n",
              " 'c',\n",
              " 'e']"
            ]
          },
          "metadata": {
            "tags": []
          },
          "execution_count": 110
        }
      ]
    },
    {
      "cell_type": "code",
      "metadata": {
        "colab": {
          "base_uri": "https://localhost:8080/"
        },
        "id": "Q_UmXQCswaPB",
        "outputId": "6cfcd3d8-c554-46f5-afa5-d71c8bd153b5"
      },
      "source": [
        "#But + operator used then separate list of string convert\n",
        "#re.findall(r\"[^\\d]+\",phrase)\n",
        "re.findall(r\"[^\\d]+\",phrase)"
      ],
      "execution_count": null,
      "outputs": [
        {
          "output_type": "execute_result",
          "data": {
            "text/plain": [
              "['There are ', ' numbers ', ' inside ', ' this sentence']"
            ]
          },
          "metadata": {
            "tags": []
          },
          "execution_count": 113
        }
      ]
    },
    {
      "cell_type": "code",
      "metadata": {
        "id": "hxRssWVqxiWW"
      },
      "source": [
        "phrase2 = \"This is a string! but it has punctuation. How to remove it ?\"\n",
        "#Remove !,.and ? (exclaimation,dot and question mark symbol leave)"
      ],
      "execution_count": null,
      "outputs": []
    },
    {
      "cell_type": "code",
      "metadata": {
        "colab": {
          "base_uri": "https://localhost:8080/"
        },
        "id": "4CI-2uLc1Vig",
        "outputId": "fcb6976f-e674-42a7-8830-8862e3309bd6"
      },
      "source": [
        "re.findall(r\"[^!.? ]+\",phrase2)"
      ],
      "execution_count": null,
      "outputs": [
        {
          "output_type": "execute_result",
          "data": {
            "text/plain": [
              "['This',\n",
              " 'is',\n",
              " 'a',\n",
              " 'string',\n",
              " 'but',\n",
              " 'it',\n",
              " 'has',\n",
              " 'punctuation',\n",
              " 'How',\n",
              " 'to',\n",
              " 'remove',\n",
              " 'it']"
            ]
          },
          "metadata": {
            "tags": []
          },
          "execution_count": 120
        }
      ]
    },
    {
      "cell_type": "code",
      "metadata": {
        "id": "cxCYts_Y1guh"
      },
      "source": [
        "#inside list print\n",
        "mylist = re.findall(r\"[^!.? ]+\",phrase)"
      ],
      "execution_count": null,
      "outputs": []
    },
    {
      "cell_type": "code",
      "metadata": {
        "colab": {
          "base_uri": "https://localhost:8080/"
        },
        "id": "Tj3pBQTa2siQ",
        "outputId": "42e76827-374d-49ea-a212-b08212fb9dec"
      },
      "source": [
        "mylist"
      ],
      "execution_count": null,
      "outputs": [
        {
          "output_type": "execute_result",
          "data": {
            "text/plain": [
              "['There', 'are', '3', 'numbers', '34', 'inside', '5', 'this', 'sentence']"
            ]
          },
          "metadata": {
            "tags": []
          },
          "execution_count": 122
        }
      ]
    },
    {
      "cell_type": "code",
      "metadata": {
        "colab": {
          "base_uri": "https://localhost:8080/",
          "height": 35
        },
        "id": "zTQrWhO72uwN",
        "outputId": "f7f353f9-fc04-4d25-c1ea-a81b716ec003"
      },
      "source": [
        "#Join function complete sentence join  and remove all punctuation\n",
        "' '.join(mylist)"
      ],
      "execution_count": null,
      "outputs": [
        {
          "output_type": "execute_result",
          "data": {
            "application/vnd.google.colaboratory.intrinsic+json": {
              "type": "string"
            },
            "text/plain": [
              "'There are 3 numbers 34 inside 5 this sentence'"
            ]
          },
          "metadata": {
            "tags": []
          },
          "execution_count": 124
        }
      ]
    },
    {
      "cell_type": "code",
      "metadata": {
        "id": "zfoO6Fs53EDN"
      },
      "source": [
        "# Regular expression some important symbol\n",
        "#\\d->A digit,\\w-> Alphanumeric,\\s-> White space,\\D-> A non digit,\\W->Non-alphanumeric,\\S->Non-whitespace\n",
        "#character      Description       Example Pattern      Example Match\n",
        "#\\d               A digit            file_\\d\\d          file_25\n",
        "#\\w               Alphanumeric      \\w-\\w\\w\\w           A-b_1\n",
        "#\\s               White space       a\\sb\\sc             a b c\n",
        "#\\D               A non digit       \\D\\D\\D              A B C\n",
        "#\\W               Non-alphanumric   \\W\\W\\W\\W\\W          *-+=)\n",
        "#\\S               Non-whitespace    \\S\\S\\S\\S           YOyo"
      ],
      "execution_count": null,
      "outputs": []
    },
    {
      "cell_type": "code",
      "metadata": {
        "id": "3n_EUPOQbGB3"
      },
      "source": [
        ""
      ],
      "execution_count": null,
      "outputs": []
    },
    {
      "cell_type": "markdown",
      "metadata": {
        "id": "dGtVAhMXbI1P"
      },
      "source": [
        "#**Quantifies :**"
      ]
    },
    {
      "cell_type": "code",
      "metadata": {
        "colab": {
          "base_uri": "https://localhost:8080/",
          "height": 102
        },
        "id": "PmB6R83abNwR",
        "outputId": "fea13268-0974-4559-c697-cbd702f2615e"
      },
      "source": [
        " ''' Now that we know the special character destinations,we can use along with quantifiers to define how many we expect\n",
        "   \n",
        "  Character                      Description                 Example Pattern Code    Example Match\n",
        "  +                              Ocurs one or more times      Version \\w-\\w+            Version A-b1_1\n",
        "  {3}                            Occurs exactly 3 times        \\D{3}                    abc\n",
        "  {2,4}                          Occurs 2 to 4 times           \\d{2,4}                  123\n",
        "  {3,}                            Occurs 3 or more            \\w{3,}                 anycharacters      \n",
        "  *                              Occurs zero or more times     A*B*C                  AAACC\n",
        "  ?                              Once or none                  plurals?               plural '''\n",
        "  # All functions or symbol in regular expression"
      ],
      "execution_count": null,
      "outputs": [
        {
          "output_type": "execute_result",
          "data": {
            "application/vnd.google.colaboratory.intrinsic+json": {
              "type": "string"
            },
            "text/plain": [
              "' Now that we know the special character destinations,we can use along with quantifiers to define how many we expect\\n Character                      Description                 Example Pattern Code    Example Match\\n +                              Ocurs one or more times      Version \\\\w-\\\\w+            Version A-b1_1\\n {3}                            Occurs exactly 3 times        \\\\D{3}                    abc\\n {2,4}                          Occurs 2 to 4 times           \\\\d{2,4}                  123\\n {3,}                            Occurs 3 or more            \\\\w{3,}                 anycharacters      \\n *                              Occurs zero or more times     A*B*C                  AAACC\\n ?                              Once or none                  plurals?               plural '"
            ]
          },
          "metadata": {
            "tags": []
          },
          "execution_count": 2
        }
      ]
    },
    {
      "cell_type": "code",
      "metadata": {
        "id": "pxSz7xyPeWT3"
      },
      "source": [
        ""
      ],
      "execution_count": null,
      "outputs": []
    }
  ]
}