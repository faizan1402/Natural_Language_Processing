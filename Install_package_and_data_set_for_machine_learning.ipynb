{
  "nbformat": 4,
  "nbformat_minor": 0,
  "metadata": {
    "colab": {
      "name": "Install_package_and_data_set_for_machine_learning.ipynb",
      "provenance": [],
      "collapsed_sections": [],
      "authorship_tag": "ABX9TyNpRpwPlUoI5GVYQS+e7bay",
      "include_colab_link": true
    },
    "kernelspec": {
      "name": "python3",
      "display_name": "Python 3"
    }
  },
  "cells": [
    {
      "cell_type": "markdown",
      "metadata": {
        "id": "view-in-github",
        "colab_type": "text"
      },
      "source": [
        "<a href=\"https://colab.research.google.com/github/faizan1402/Natural_Language_Processing/blob/main/Install_package_and_data_set_for_machine_learning.ipynb\" target=\"_parent\"><img src=\"https://colab.research.google.com/assets/colab-badge.svg\" alt=\"Open In Colab\"/></a>"
      ]
    },
    {
      "cell_type": "code",
      "metadata": {
        "id": "NZCF4qevGBCC"
      },
      "source": [
        ""
      ],
      "execution_count": null,
      "outputs": []
    },
    {
      "cell_type": "markdown",
      "metadata": {
        "id": "JPdBYT50GV_e"
      },
      "source": [
        "#**Public Link for Load CSV Files**\r\n"
      ]
    },
    {
      "cell_type": "code",
      "metadata": {
        "id": "77qt3km-Gjj0"
      },
      "source": [
        ""
      ],
      "execution_count": null,
      "outputs": []
    },
    {
      "cell_type": "code",
      "metadata": {
        "id": "1dSd7uyqGn1z"
      },
      "source": [
        "From Google Drive into colab Environment And Create Data Set"
      ],
      "execution_count": null,
      "outputs": []
    },
    {
      "cell_type": "markdown",
      "metadata": {
        "id": "NGFeo6o6GzwD"
      },
      "source": [
        "#**From Google Drive into colab Environment And Create Data Set**"
      ]
    },
    {
      "cell_type": "code",
      "metadata": {
        "id": "N0tj82LAHa2w"
      },
      "source": [
        "# Simple step is :\r\n",
        "''' 1-> Open google colab drive and mount drive open press mount drive and automatically mounted\r\n",
        "google drive into google colab. import google drive into colab environment\r\n",
        "2-> "
      ],
      "execution_count": null,
      "outputs": []
    },
    {
      "cell_type": "code",
      "metadata": {
        "id": "aC3EJLi6GoC3"
      },
      "source": [
        ""
      ],
      "execution_count": null,
      "outputs": []
    },
    {
      "cell_type": "code",
      "metadata": {
        "id": "OsrwvHGuGoNp"
      },
      "source": [
        ""
      ],
      "execution_count": null,
      "outputs": []
    },
    {
      "cell_type": "markdown",
      "metadata": {
        "id": "e_Iub7gZHk3O"
      },
      "source": [
        "#**From GitHub To Google Colab Enviroment Load CSV File**"
      ]
    },
    {
      "cell_type": "code",
      "metadata": {
        "id": "tmCybdbgGoYM"
      },
      "source": [
        "!git clone https://github.com/ankit25587/Natural-Language-Processing-with-Python.csv"
      ],
      "execution_count": null,
      "outputs": []
    },
    {
      "cell_type": "code",
      "metadata": {
        "id": "HMq40mjiHz_l"
      },
      "source": [
        ""
      ],
      "execution_count": null,
      "outputs": []
    },
    {
      "cell_type": "code",
      "metadata": {
        "id": "KesEwltaH0L7"
      },
      "source": [
        ""
      ],
      "execution_count": null,
      "outputs": []
    },
    {
      "cell_type": "markdown",
      "metadata": {
        "id": "aqx6rpd0H30F"
      },
      "source": [
        "#**Local Drive Load CSV File**"
      ]
    },
    {
      "cell_type": "code",
      "metadata": {
        "id": "_In2_s9NH0V7"
      },
      "source": [
        "#So local file system , file uploaded into google colab environment\r\n",
        "# Press upload button and upload the local file and"
      ],
      "execution_count": null,
      "outputs": []
    },
    {
      "cell_type": "code",
      "metadata": {
        "id": "EO-8IYmfIAA8"
      },
      "source": [
        ""
      ],
      "execution_count": null,
      "outputs": []
    },
    {
      "cell_type": "code",
      "metadata": {
        "id": "AU9nlw6KIASS"
      },
      "source": [
        ""
      ],
      "execution_count": null,
      "outputs": []
    },
    {
      "cell_type": "markdown",
      "metadata": {
        "id": "amslvXi_IHuy"
      },
      "source": [
        "#**How to kaggle api key generarte to and install packages using mount drive through uploadfiles for data science and machine learning data model**"
      ]
    },
    {
      "cell_type": "code",
      "metadata": {
        "id": "EfBqmPg1IAbo"
      },
      "source": [
        "#https://www.kaggle.com/"
      ],
      "execution_count": null,
      "outputs": []
    },
    {
      "cell_type": "code",
      "metadata": {
        "id": "rNgX7wvbIAlj"
      },
      "source": [
        "# import os -> set operating system\r\n",
        "                                                                                                              \r\n",
        "# os.environ['KAGGLE_CONFIG_DIR'] = '/content/drive/MyDrive/Colab Notebooks/Kaggle_data_Set_Folder\r\n",
        "#%cd /content/drive/MyDrive/Colab Notebooks/Kaggle_data_Set_Folder"
      ],
      "execution_count": null,
      "outputs": []
    },
    {
      "cell_type": "code",
      "metadata": {
        "id": "d_w91440IArU"
      },
      "source": [
        ""
      ],
      "execution_count": null,
      "outputs": []
    },
    {
      "cell_type": "markdown",
      "metadata": {
        "id": "qK52cuOhyiqy"
      },
      "source": [
        "#**How TO Use kaggle Api key From Colab**"
      ]
    },
    {
      "cell_type": "code",
      "metadata": {
        "id": "OAGaZXxjyZZa"
      },
      "source": [
        "#https://colab.research.google.com/github/corrieann/kaggle/blob/master/kaggle_api_in_colab.ipynb"
      ],
      "execution_count": null,
      "outputs": []
    },
    {
      "cell_type": "code",
      "metadata": {
        "id": "lpvxq_qRy6w9"
      },
      "source": [
        ""
      ],
      "execution_count": null,
      "outputs": []
    },
    {
      "cell_type": "code",
      "metadata": {
        "id": "5h8HDrFNy690"
      },
      "source": [
        ""
      ],
      "execution_count": null,
      "outputs": []
    },
    {
      "cell_type": "markdown",
      "metadata": {
        "id": "2fzqToXGy8pi"
      },
      "source": [
        "#**How to Install kaggle api key in google colab**"
      ]
    },
    {
      "cell_type": "code",
      "metadata": {
        "id": "16wUL3dKy7JK"
      },
      "source": [
        " # !pip install kaggle"
      ],
      "execution_count": null,
      "outputs": []
    },
    {
      "cell_type": "code",
      "metadata": {
        "id": "_3wJ_oQS0ItW"
      },
      "source": [
        "# !pip install --upgrade --force-reinstall --no-deps kaggle -> upgrade the kaggle api key"
      ],
      "execution_count": null,
      "outputs": []
    },
    {
      "cell_type": "code",
      "metadata": {
        "id": "EoT0nY5T0JBM"
      },
      "source": [
        ""
      ],
      "execution_count": null,
      "outputs": []
    },
    {
      "cell_type": "code",
      "metadata": {
        "id": "QlHcU20Q0JV-"
      },
      "source": [
        ""
      ],
      "execution_count": null,
      "outputs": []
    },
    {
      "cell_type": "code",
      "metadata": {
        "id": "buaJOTCQ0Jos"
      },
      "source": [
        ""
      ],
      "execution_count": null,
      "outputs": []
    }
  ]
}