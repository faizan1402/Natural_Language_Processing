{
  "nbformat": 4,
  "nbformat_minor": 0,
  "metadata": {
    "colab": {
      "name": "introduction_to_deep_learning_nlp.ipynb",
      "provenance": [],
      "authorship_tag": "ABX9TyNwz5iYt8B/u+HLuqSoAyeZ",
      "include_colab_link": true
    },
    "kernelspec": {
      "name": "python3",
      "display_name": "Python 3"
    }
  },
  "cells": [
    {
      "cell_type": "markdown",
      "metadata": {
        "id": "view-in-github",
        "colab_type": "text"
      },
      "source": [
        "<a href=\"https://colab.research.google.com/github/faizan1402/Natural_Language_Processing/blob/main/introduction_to_deep_learning_nlp.ipynb\" target=\"_parent\"><img src=\"https://colab.research.google.com/assets/colab-badge.svg\" alt=\"Open In Colab\"/></a>"
      ]
    },
    {
      "cell_type": "code",
      "metadata": {
        "colab": {
          "base_uri": "https://localhost:8080/",
          "height": 52
        },
        "id": "PFSP2tPFEwv_",
        "outputId": "23345eee-ef22-4e14-8e3c-ae84fd5f8082"
      },
      "source": [
        "\r\n",
        "'''Section Goals\r\n",
        "\r\n",
        "    -> Understand basic overview of deep learning\r\n",
        "    -> Understand basics of LSTM and RNN\r\n",
        "    -> Use LSTM to generate text from source corpus\r\n",
        "    -> Create QA chat bots with python.'''"
      ],
      "execution_count": null,
      "outputs": [
        {
          "output_type": "execute_result",
          "data": {
            "application/vnd.google.colaboratory.intrinsic+json": {
              "type": "string"
            },
            "text/plain": [
              "'Section Goals\\n\\n    -> Understand basic overview of deep learning\\n    -> Understand basics of LSTM and RNN\\n    -> Use LSTM to generate text from source corpus\\n    -> Create QA chat bots with python.'"
            ]
          },
          "metadata": {
            "tags": []
          },
          "execution_count": 4
        }
      ]
    },
    {
      "cell_type": "code",
      "metadata": {
        "id": "g_rfevT1Fxfh"
      },
      "source": [
        "'''-> Deep Learning\r\n",
        "-> Before we launch straight into nural networks,we need to understand the individual componets first,such as a single \"neuron\"\r\n",
        "-> Artificial Neural Networks(ANN) actually have a basis in biology\r\n",
        "-> Let's see how we can attempt to mimic biological neurons with an artificial neuron,known as a perceptron!\r\n",
        "-> The AI neuron also input outputs!\r\n",
        "   Input 0 -\r\n",
        "              -> Output\r\n",
        "   Input 1 -'''\r\n",
        "\r\n"
      ],
      "execution_count": null,
      "outputs": []
    },
    {
      "cell_type": "code",
      "metadata": {
        "colab": {
          "base_uri": "https://localhost:8080/",
          "height": 35
        },
        "id": "STBxENTdFxs3",
        "outputId": "4d3ad252-479a-45da-ca0b-9c9f3003ff44"
      },
      "source": [
        "'''Deep Learning\r\n",
        "   Review ->\r\n",
        "   -> Biological Neuron\r\n",
        "   -> Perceptron Model\r\n",
        "   -> Mathematical Representation .'''"
      ],
      "execution_count": null,
      "outputs": [
        {
          "output_type": "execute_result",
          "data": {
            "application/vnd.google.colaboratory.intrinsic+json": {
              "type": "string"
            },
            "text/plain": [
              "'Deep Learning\\n   Review ->\\n   -> Biological Neuron\\n   -> Perceptron Model\\n   -> Mathematical Representation .'"
            ]
          },
          "metadata": {
            "tags": []
          },
          "execution_count": 5
        }
      ]
    },
    {
      "cell_type": "code",
      "metadata": {
        "id": "xrEipRp_Fx5d"
      },
      "source": [
        ""
      ],
      "execution_count": null,
      "outputs": []
    },
    {
      "cell_type": "markdown",
      "metadata": {
        "id": "QFlLxr1hN9ez"
      },
      "source": [
        "#**Introduction To Neural Networks**"
      ]
    },
    {
      "cell_type": "code",
      "metadata": {
        "id": "nEpXovJbFyFj"
      },
      "source": [
        "'''Welcome to the section on deep learning! We'll be using Keras with a TensorFlow backend to perform our deep learning operations.\r\n",
        "\r\n",
        "This means we should get familiar with some Keras fundamentals and basics!'''"
      ],
      "execution_count": null,
      "outputs": []
    },
    {
      "cell_type": "code",
      "metadata": {
        "id": "KrGoO8IVFySg"
      },
      "source": [
        "'''We have seen how a single perception behaves,now let's expand this concept to the idea of neural network!\r\n",
        "-> Let's see how to connect many perceptrons together and then how to represent this mathematically!'''\r\n",
        "\r\n",
        "'''1-> Input Layers\r\n",
        "  -> Real values from the data\r\n",
        "  2-> Hidden Layers\r\n",
        "   -> Layers in between input and output\r\n",
        "   -> 3 or more layers is deep network\r\n",
        "   3 -> Output Layer\r\n",
        "      -> Final estimate of the output'''"
      ],
      "execution_count": null,
      "outputs": []
    },
    {
      "cell_type": "code",
      "metadata": {
        "id": "6GfqFu8RKX67"
      },
      "source": [
        "'''As we go forward through more layers the level of abstraction increases.\r\n",
        "  -> Let's now discuss the activation function in a little more detail!.'''"
      ],
      "execution_count": null,
      "outputs": []
    },
    {
      "cell_type": "code",
      "metadata": {
        "id": "3vKJM_IhME7q"
      },
      "source": [
        "# Now that we understand the basics of neural theory,let's move or implementing and building our own neural network models with keras!"
      ],
      "execution_count": null,
      "outputs": []
    },
    {
      "cell_type": "code",
      "metadata": {
        "id": "gwldErx5Nsza"
      },
      "source": [
        "''' -> Let's learn how to create a very simple neural network for classifying the Iris data set!\r\n",
        "    -> The iris data set contains measurements of flower petals and sepals and has\r\n",
        "    corresponding labels to one of three classes (3 flower species)."
      ],
      "execution_count": null,
      "outputs": []
    },
    {
      "cell_type": "code",
      "metadata": {
        "id": "GirSifekNtIQ"
      },
      "source": [
        ""
      ],
      "execution_count": null,
      "outputs": []
    },
    {
      "cell_type": "code",
      "metadata": {
        "id": "EA7li68yNtVc"
      },
      "source": [
        ""
      ],
      "execution_count": null,
      "outputs": []
    },
    {
      "cell_type": "code",
      "metadata": {
        "id": "lZJETLAANthe"
      },
      "source": [
        ""
      ],
      "execution_count": null,
      "outputs": []
    },
    {
      "cell_type": "code",
      "metadata": {
        "id": "KyO1ZwNXNttt"
      },
      "source": [
        ""
      ],
      "execution_count": null,
      "outputs": []
    },
    {
      "cell_type": "markdown",
      "metadata": {
        "id": "10vybgN4JvZi"
      },
      "source": [
        "#**DataSet**"
      ]
    },
    {
      "cell_type": "code",
      "metadata": {
        "id": "lolY8UWLFyd7"
      },
      "source": [
        "#We will use the famous Iris Data set.\r\n",
        "#More info on the data set: https://en.wikipedia.org/wiki/Iris_flower_data_set\r\n",
        "#Reading in the Data Set\r\n",
        "#We've already downloaded the dataset, its in this folder. So let's open it up."
      ],
      "execution_count": null,
      "outputs": []
    },
    {
      "cell_type": "code",
      "metadata": {
        "id": "nucnL5ixKOtM"
      },
      "source": [
        "import numpy as np\r\n",
        "from sklearn.datasets import load_iris"
      ],
      "execution_count": null,
      "outputs": []
    },
    {
      "cell_type": "code",
      "metadata": {
        "id": "aa91NZVpKO4K"
      },
      "source": [
        "iris = load_iris()"
      ],
      "execution_count": null,
      "outputs": []
    },
    {
      "cell_type": "code",
      "metadata": {
        "colab": {
          "base_uri": "https://localhost:8080/"
        },
        "id": "kEFmdsDnKPEF",
        "outputId": "850cfa39-180e-4af9-8cd4-2b95a07aa73e"
      },
      "source": [
        "type(iris)"
      ],
      "execution_count": null,
      "outputs": [
        {
          "output_type": "execute_result",
          "data": {
            "text/plain": [
              "sklearn.utils.Bunch"
            ]
          },
          "metadata": {
            "tags": []
          },
          "execution_count": 9
        }
      ]
    },
    {
      "cell_type": "code",
      "metadata": {
        "colab": {
          "base_uri": "https://localhost:8080/"
        },
        "id": "DsspVpnmKPNs",
        "outputId": "b4acc5b6-ded1-4ead-c6be-81f89d9c8d5d"
      },
      "source": [
        "print(iris.DESCR)"
      ],
      "execution_count": null,
      "outputs": [
        {
          "output_type": "stream",
          "text": [
            ".. _iris_dataset:\n",
            "\n",
            "Iris plants dataset\n",
            "--------------------\n",
            "\n",
            "**Data Set Characteristics:**\n",
            "\n",
            "    :Number of Instances: 150 (50 in each of three classes)\n",
            "    :Number of Attributes: 4 numeric, predictive attributes and the class\n",
            "    :Attribute Information:\n",
            "        - sepal length in cm\n",
            "        - sepal width in cm\n",
            "        - petal length in cm\n",
            "        - petal width in cm\n",
            "        - class:\n",
            "                - Iris-Setosa\n",
            "                - Iris-Versicolour\n",
            "                - Iris-Virginica\n",
            "                \n",
            "    :Summary Statistics:\n",
            "\n",
            "    ============== ==== ==== ======= ===== ====================\n",
            "                    Min  Max   Mean    SD   Class Correlation\n",
            "    ============== ==== ==== ======= ===== ====================\n",
            "    sepal length:   4.3  7.9   5.84   0.83    0.7826\n",
            "    sepal width:    2.0  4.4   3.05   0.43   -0.4194\n",
            "    petal length:   1.0  6.9   3.76   1.76    0.9490  (high!)\n",
            "    petal width:    0.1  2.5   1.20   0.76    0.9565  (high!)\n",
            "    ============== ==== ==== ======= ===== ====================\n",
            "\n",
            "    :Missing Attribute Values: None\n",
            "    :Class Distribution: 33.3% for each of 3 classes.\n",
            "    :Creator: R.A. Fisher\n",
            "    :Donor: Michael Marshall (MARSHALL%PLU@io.arc.nasa.gov)\n",
            "    :Date: July, 1988\n",
            "\n",
            "The famous Iris database, first used by Sir R.A. Fisher. The dataset is taken\n",
            "from Fisher's paper. Note that it's the same as in R, but not as in the UCI\n",
            "Machine Learning Repository, which has two wrong data points.\n",
            "\n",
            "This is perhaps the best known database to be found in the\n",
            "pattern recognition literature.  Fisher's paper is a classic in the field and\n",
            "is referenced frequently to this day.  (See Duda & Hart, for example.)  The\n",
            "data set contains 3 classes of 50 instances each, where each class refers to a\n",
            "type of iris plant.  One class is linearly separable from the other 2; the\n",
            "latter are NOT linearly separable from each other.\n",
            "\n",
            ".. topic:: References\n",
            "\n",
            "   - Fisher, R.A. \"The use of multiple measurements in taxonomic problems\"\n",
            "     Annual Eugenics, 7, Part II, 179-188 (1936); also in \"Contributions to\n",
            "     Mathematical Statistics\" (John Wiley, NY, 1950).\n",
            "   - Duda, R.O., & Hart, P.E. (1973) Pattern Classification and Scene Analysis.\n",
            "     (Q327.D83) John Wiley & Sons.  ISBN 0-471-22361-1.  See page 218.\n",
            "   - Dasarathy, B.V. (1980) \"Nosing Around the Neighborhood: A New System\n",
            "     Structure and Classification Rule for Recognition in Partially Exposed\n",
            "     Environments\".  IEEE Transactions on Pattern Analysis and Machine\n",
            "     Intelligence, Vol. PAMI-2, No. 1, 67-71.\n",
            "   - Gates, G.W. (1972) \"The Reduced Nearest Neighbor Rule\".  IEEE Transactions\n",
            "     on Information Theory, May 1972, 431-433.\n",
            "   - See also: 1988 MLC Proceedings, 54-64.  Cheeseman et al\"s AUTOCLASS II\n",
            "     conceptual clustering system finds 3 classes in the data.\n",
            "   - Many, many more ...\n"
          ],
          "name": "stdout"
        }
      ]
    },
    {
      "cell_type": "code",
      "metadata": {
        "colab": {
          "base_uri": "https://localhost:8080/"
        },
        "id": "2sWKQDUoKPXd",
        "outputId": "335b5982-8a0a-4163-895a-29b471141cfd"
      },
      "source": [
        "X = iris.data\r\n",
        "X\r\n",
        "#[5.1, 3.5, 1.4, 0.2] ->[sepal_length,sepal_width,petal_length,petal_width]"
      ],
      "execution_count": null,
      "outputs": [
        {
          "output_type": "execute_result",
          "data": {
            "text/plain": [
              "array([[5.1, 3.5, 1.4, 0.2],\n",
              "       [4.9, 3. , 1.4, 0.2],\n",
              "       [4.7, 3.2, 1.3, 0.2],\n",
              "       [4.6, 3.1, 1.5, 0.2],\n",
              "       [5. , 3.6, 1.4, 0.2],\n",
              "       [5.4, 3.9, 1.7, 0.4],\n",
              "       [4.6, 3.4, 1.4, 0.3],\n",
              "       [5. , 3.4, 1.5, 0.2],\n",
              "       [4.4, 2.9, 1.4, 0.2],\n",
              "       [4.9, 3.1, 1.5, 0.1],\n",
              "       [5.4, 3.7, 1.5, 0.2],\n",
              "       [4.8, 3.4, 1.6, 0.2],\n",
              "       [4.8, 3. , 1.4, 0.1],\n",
              "       [4.3, 3. , 1.1, 0.1],\n",
              "       [5.8, 4. , 1.2, 0.2],\n",
              "       [5.7, 4.4, 1.5, 0.4],\n",
              "       [5.4, 3.9, 1.3, 0.4],\n",
              "       [5.1, 3.5, 1.4, 0.3],\n",
              "       [5.7, 3.8, 1.7, 0.3],\n",
              "       [5.1, 3.8, 1.5, 0.3],\n",
              "       [5.4, 3.4, 1.7, 0.2],\n",
              "       [5.1, 3.7, 1.5, 0.4],\n",
              "       [4.6, 3.6, 1. , 0.2],\n",
              "       [5.1, 3.3, 1.7, 0.5],\n",
              "       [4.8, 3.4, 1.9, 0.2],\n",
              "       [5. , 3. , 1.6, 0.2],\n",
              "       [5. , 3.4, 1.6, 0.4],\n",
              "       [5.2, 3.5, 1.5, 0.2],\n",
              "       [5.2, 3.4, 1.4, 0.2],\n",
              "       [4.7, 3.2, 1.6, 0.2],\n",
              "       [4.8, 3.1, 1.6, 0.2],\n",
              "       [5.4, 3.4, 1.5, 0.4],\n",
              "       [5.2, 4.1, 1.5, 0.1],\n",
              "       [5.5, 4.2, 1.4, 0.2],\n",
              "       [4.9, 3.1, 1.5, 0.2],\n",
              "       [5. , 3.2, 1.2, 0.2],\n",
              "       [5.5, 3.5, 1.3, 0.2],\n",
              "       [4.9, 3.6, 1.4, 0.1],\n",
              "       [4.4, 3. , 1.3, 0.2],\n",
              "       [5.1, 3.4, 1.5, 0.2],\n",
              "       [5. , 3.5, 1.3, 0.3],\n",
              "       [4.5, 2.3, 1.3, 0.3],\n",
              "       [4.4, 3.2, 1.3, 0.2],\n",
              "       [5. , 3.5, 1.6, 0.6],\n",
              "       [5.1, 3.8, 1.9, 0.4],\n",
              "       [4.8, 3. , 1.4, 0.3],\n",
              "       [5.1, 3.8, 1.6, 0.2],\n",
              "       [4.6, 3.2, 1.4, 0.2],\n",
              "       [5.3, 3.7, 1.5, 0.2],\n",
              "       [5. , 3.3, 1.4, 0.2],\n",
              "       [7. , 3.2, 4.7, 1.4],\n",
              "       [6.4, 3.2, 4.5, 1.5],\n",
              "       [6.9, 3.1, 4.9, 1.5],\n",
              "       [5.5, 2.3, 4. , 1.3],\n",
              "       [6.5, 2.8, 4.6, 1.5],\n",
              "       [5.7, 2.8, 4.5, 1.3],\n",
              "       [6.3, 3.3, 4.7, 1.6],\n",
              "       [4.9, 2.4, 3.3, 1. ],\n",
              "       [6.6, 2.9, 4.6, 1.3],\n",
              "       [5.2, 2.7, 3.9, 1.4],\n",
              "       [5. , 2. , 3.5, 1. ],\n",
              "       [5.9, 3. , 4.2, 1.5],\n",
              "       [6. , 2.2, 4. , 1. ],\n",
              "       [6.1, 2.9, 4.7, 1.4],\n",
              "       [5.6, 2.9, 3.6, 1.3],\n",
              "       [6.7, 3.1, 4.4, 1.4],\n",
              "       [5.6, 3. , 4.5, 1.5],\n",
              "       [5.8, 2.7, 4.1, 1. ],\n",
              "       [6.2, 2.2, 4.5, 1.5],\n",
              "       [5.6, 2.5, 3.9, 1.1],\n",
              "       [5.9, 3.2, 4.8, 1.8],\n",
              "       [6.1, 2.8, 4. , 1.3],\n",
              "       [6.3, 2.5, 4.9, 1.5],\n",
              "       [6.1, 2.8, 4.7, 1.2],\n",
              "       [6.4, 2.9, 4.3, 1.3],\n",
              "       [6.6, 3. , 4.4, 1.4],\n",
              "       [6.8, 2.8, 4.8, 1.4],\n",
              "       [6.7, 3. , 5. , 1.7],\n",
              "       [6. , 2.9, 4.5, 1.5],\n",
              "       [5.7, 2.6, 3.5, 1. ],\n",
              "       [5.5, 2.4, 3.8, 1.1],\n",
              "       [5.5, 2.4, 3.7, 1. ],\n",
              "       [5.8, 2.7, 3.9, 1.2],\n",
              "       [6. , 2.7, 5.1, 1.6],\n",
              "       [5.4, 3. , 4.5, 1.5],\n",
              "       [6. , 3.4, 4.5, 1.6],\n",
              "       [6.7, 3.1, 4.7, 1.5],\n",
              "       [6.3, 2.3, 4.4, 1.3],\n",
              "       [5.6, 3. , 4.1, 1.3],\n",
              "       [5.5, 2.5, 4. , 1.3],\n",
              "       [5.5, 2.6, 4.4, 1.2],\n",
              "       [6.1, 3. , 4.6, 1.4],\n",
              "       [5.8, 2.6, 4. , 1.2],\n",
              "       [5. , 2.3, 3.3, 1. ],\n",
              "       [5.6, 2.7, 4.2, 1.3],\n",
              "       [5.7, 3. , 4.2, 1.2],\n",
              "       [5.7, 2.9, 4.2, 1.3],\n",
              "       [6.2, 2.9, 4.3, 1.3],\n",
              "       [5.1, 2.5, 3. , 1.1],\n",
              "       [5.7, 2.8, 4.1, 1.3],\n",
              "       [6.3, 3.3, 6. , 2.5],\n",
              "       [5.8, 2.7, 5.1, 1.9],\n",
              "       [7.1, 3. , 5.9, 2.1],\n",
              "       [6.3, 2.9, 5.6, 1.8],\n",
              "       [6.5, 3. , 5.8, 2.2],\n",
              "       [7.6, 3. , 6.6, 2.1],\n",
              "       [4.9, 2.5, 4.5, 1.7],\n",
              "       [7.3, 2.9, 6.3, 1.8],\n",
              "       [6.7, 2.5, 5.8, 1.8],\n",
              "       [7.2, 3.6, 6.1, 2.5],\n",
              "       [6.5, 3.2, 5.1, 2. ],\n",
              "       [6.4, 2.7, 5.3, 1.9],\n",
              "       [6.8, 3. , 5.5, 2.1],\n",
              "       [5.7, 2.5, 5. , 2. ],\n",
              "       [5.8, 2.8, 5.1, 2.4],\n",
              "       [6.4, 3.2, 5.3, 2.3],\n",
              "       [6.5, 3. , 5.5, 1.8],\n",
              "       [7.7, 3.8, 6.7, 2.2],\n",
              "       [7.7, 2.6, 6.9, 2.3],\n",
              "       [6. , 2.2, 5. , 1.5],\n",
              "       [6.9, 3.2, 5.7, 2.3],\n",
              "       [5.6, 2.8, 4.9, 2. ],\n",
              "       [7.7, 2.8, 6.7, 2. ],\n",
              "       [6.3, 2.7, 4.9, 1.8],\n",
              "       [6.7, 3.3, 5.7, 2.1],\n",
              "       [7.2, 3.2, 6. , 1.8],\n",
              "       [6.2, 2.8, 4.8, 1.8],\n",
              "       [6.1, 3. , 4.9, 1.8],\n",
              "       [6.4, 2.8, 5.6, 2.1],\n",
              "       [7.2, 3. , 5.8, 1.6],\n",
              "       [7.4, 2.8, 6.1, 1.9],\n",
              "       [7.9, 3.8, 6.4, 2. ],\n",
              "       [6.4, 2.8, 5.6, 2.2],\n",
              "       [6.3, 2.8, 5.1, 1.5],\n",
              "       [6.1, 2.6, 5.6, 1.4],\n",
              "       [7.7, 3. , 6.1, 2.3],\n",
              "       [6.3, 3.4, 5.6, 2.4],\n",
              "       [6.4, 3.1, 5.5, 1.8],\n",
              "       [6. , 3. , 4.8, 1.8],\n",
              "       [6.9, 3.1, 5.4, 2.1],\n",
              "       [6.7, 3.1, 5.6, 2.4],\n",
              "       [6.9, 3.1, 5.1, 2.3],\n",
              "       [5.8, 2.7, 5.1, 1.9],\n",
              "       [6.8, 3.2, 5.9, 2.3],\n",
              "       [6.7, 3.3, 5.7, 2.5],\n",
              "       [6.7, 3. , 5.2, 2.3],\n",
              "       [6.3, 2.5, 5. , 1.9],\n",
              "       [6.5, 3. , 5.2, 2. ],\n",
              "       [6.2, 3.4, 5.4, 2.3],\n",
              "       [5.9, 3. , 5.1, 1.8]])"
            ]
          },
          "metadata": {
            "tags": []
          },
          "execution_count": 11
        }
      ]
    },
    {
      "cell_type": "code",
      "metadata": {
        "colab": {
          "base_uri": "https://localhost:8080/"
        },
        "id": "U4qOzgmjKPnc",
        "outputId": "755e35a4-59b5-4865-d22a-29b96ae8c8ef"
      },
      "source": [
        "y = iris.target\r\n",
        "y\r\n",
        "#class 0,class 1,class 2 labal"
      ],
      "execution_count": null,
      "outputs": [
        {
          "output_type": "execute_result",
          "data": {
            "text/plain": [
              "array([0, 0, 0, 0, 0, 0, 0, 0, 0, 0, 0, 0, 0, 0, 0, 0, 0, 0, 0, 0, 0, 0,\n",
              "       0, 0, 0, 0, 0, 0, 0, 0, 0, 0, 0, 0, 0, 0, 0, 0, 0, 0, 0, 0, 0, 0,\n",
              "       0, 0, 0, 0, 0, 0, 1, 1, 1, 1, 1, 1, 1, 1, 1, 1, 1, 1, 1, 1, 1, 1,\n",
              "       1, 1, 1, 1, 1, 1, 1, 1, 1, 1, 1, 1, 1, 1, 1, 1, 1, 1, 1, 1, 1, 1,\n",
              "       1, 1, 1, 1, 1, 1, 1, 1, 1, 1, 1, 1, 2, 2, 2, 2, 2, 2, 2, 2, 2, 2,\n",
              "       2, 2, 2, 2, 2, 2, 2, 2, 2, 2, 2, 2, 2, 2, 2, 2, 2, 2, 2, 2, 2, 2,\n",
              "       2, 2, 2, 2, 2, 2, 2, 2, 2, 2, 2, 2, 2, 2, 2, 2, 2, 2])"
            ]
          },
          "metadata": {
            "tags": []
          },
          "execution_count": 12
        }
      ]
    },
    {
      "cell_type": "code",
      "metadata": {
        "id": "U35RZ3ERRSW3"
      },
      "source": [
        "#class 0 --> [1,0,0] (index ->0)\r\n",
        "# class 1 --> [0,1,0] (index ->1)\r\n",
        "# class 2 --> [0,0,1] (index ->2)"
      ],
      "execution_count": null,
      "outputs": []
    },
    {
      "cell_type": "code",
      "metadata": {
        "id": "fVufgtqyRRI4"
      },
      "source": [
        ""
      ],
      "execution_count": null,
      "outputs": []
    },
    {
      "cell_type": "code",
      "metadata": {
        "id": "AV1z392mQecT"
      },
      "source": [
        "from keras.utils import to_categorical\r\n",
        "y = to_categorical(y)"
      ],
      "execution_count": null,
      "outputs": []
    },
    {
      "cell_type": "code",
      "metadata": {
        "colab": {
          "base_uri": "https://localhost:8080/"
        },
        "id": "MOOFXfN0QelK",
        "outputId": "eae42be0-4387-43e2-9f16-87fdb8663aed"
      },
      "source": [
        "y.shape\r\n",
        "# 3 categorical"
      ],
      "execution_count": null,
      "outputs": [
        {
          "output_type": "execute_result",
          "data": {
            "text/plain": [
              "(150, 3)"
            ]
          },
          "metadata": {
            "tags": []
          },
          "execution_count": 14
        }
      ]
    },
    {
      "cell_type": "code",
      "metadata": {
        "colab": {
          "base_uri": "https://localhost:8080/"
        },
        "id": "65k4u5d5Qeta",
        "outputId": "c1cf0059-180d-4bb3-e0f0-c43733f4719c"
      },
      "source": [
        "y"
      ],
      "execution_count": null,
      "outputs": [
        {
          "output_type": "execute_result",
          "data": {
            "text/plain": [
              "array([[1., 0., 0.],\n",
              "       [1., 0., 0.],\n",
              "       [1., 0., 0.],\n",
              "       [1., 0., 0.],\n",
              "       [1., 0., 0.],\n",
              "       [1., 0., 0.],\n",
              "       [1., 0., 0.],\n",
              "       [1., 0., 0.],\n",
              "       [1., 0., 0.],\n",
              "       [1., 0., 0.],\n",
              "       [1., 0., 0.],\n",
              "       [1., 0., 0.],\n",
              "       [1., 0., 0.],\n",
              "       [1., 0., 0.],\n",
              "       [1., 0., 0.],\n",
              "       [1., 0., 0.],\n",
              "       [1., 0., 0.],\n",
              "       [1., 0., 0.],\n",
              "       [1., 0., 0.],\n",
              "       [1., 0., 0.],\n",
              "       [1., 0., 0.],\n",
              "       [1., 0., 0.],\n",
              "       [1., 0., 0.],\n",
              "       [1., 0., 0.],\n",
              "       [1., 0., 0.],\n",
              "       [1., 0., 0.],\n",
              "       [1., 0., 0.],\n",
              "       [1., 0., 0.],\n",
              "       [1., 0., 0.],\n",
              "       [1., 0., 0.],\n",
              "       [1., 0., 0.],\n",
              "       [1., 0., 0.],\n",
              "       [1., 0., 0.],\n",
              "       [1., 0., 0.],\n",
              "       [1., 0., 0.],\n",
              "       [1., 0., 0.],\n",
              "       [1., 0., 0.],\n",
              "       [1., 0., 0.],\n",
              "       [1., 0., 0.],\n",
              "       [1., 0., 0.],\n",
              "       [1., 0., 0.],\n",
              "       [1., 0., 0.],\n",
              "       [1., 0., 0.],\n",
              "       [1., 0., 0.],\n",
              "       [1., 0., 0.],\n",
              "       [1., 0., 0.],\n",
              "       [1., 0., 0.],\n",
              "       [1., 0., 0.],\n",
              "       [1., 0., 0.],\n",
              "       [1., 0., 0.],\n",
              "       [0., 1., 0.],\n",
              "       [0., 1., 0.],\n",
              "       [0., 1., 0.],\n",
              "       [0., 1., 0.],\n",
              "       [0., 1., 0.],\n",
              "       [0., 1., 0.],\n",
              "       [0., 1., 0.],\n",
              "       [0., 1., 0.],\n",
              "       [0., 1., 0.],\n",
              "       [0., 1., 0.],\n",
              "       [0., 1., 0.],\n",
              "       [0., 1., 0.],\n",
              "       [0., 1., 0.],\n",
              "       [0., 1., 0.],\n",
              "       [0., 1., 0.],\n",
              "       [0., 1., 0.],\n",
              "       [0., 1., 0.],\n",
              "       [0., 1., 0.],\n",
              "       [0., 1., 0.],\n",
              "       [0., 1., 0.],\n",
              "       [0., 1., 0.],\n",
              "       [0., 1., 0.],\n",
              "       [0., 1., 0.],\n",
              "       [0., 1., 0.],\n",
              "       [0., 1., 0.],\n",
              "       [0., 1., 0.],\n",
              "       [0., 1., 0.],\n",
              "       [0., 1., 0.],\n",
              "       [0., 1., 0.],\n",
              "       [0., 1., 0.],\n",
              "       [0., 1., 0.],\n",
              "       [0., 1., 0.],\n",
              "       [0., 1., 0.],\n",
              "       [0., 1., 0.],\n",
              "       [0., 1., 0.],\n",
              "       [0., 1., 0.],\n",
              "       [0., 1., 0.],\n",
              "       [0., 1., 0.],\n",
              "       [0., 1., 0.],\n",
              "       [0., 1., 0.],\n",
              "       [0., 1., 0.],\n",
              "       [0., 1., 0.],\n",
              "       [0., 1., 0.],\n",
              "       [0., 1., 0.],\n",
              "       [0., 1., 0.],\n",
              "       [0., 1., 0.],\n",
              "       [0., 1., 0.],\n",
              "       [0., 1., 0.],\n",
              "       [0., 1., 0.],\n",
              "       [0., 1., 0.],\n",
              "       [0., 0., 1.],\n",
              "       [0., 0., 1.],\n",
              "       [0., 0., 1.],\n",
              "       [0., 0., 1.],\n",
              "       [0., 0., 1.],\n",
              "       [0., 0., 1.],\n",
              "       [0., 0., 1.],\n",
              "       [0., 0., 1.],\n",
              "       [0., 0., 1.],\n",
              "       [0., 0., 1.],\n",
              "       [0., 0., 1.],\n",
              "       [0., 0., 1.],\n",
              "       [0., 0., 1.],\n",
              "       [0., 0., 1.],\n",
              "       [0., 0., 1.],\n",
              "       [0., 0., 1.],\n",
              "       [0., 0., 1.],\n",
              "       [0., 0., 1.],\n",
              "       [0., 0., 1.],\n",
              "       [0., 0., 1.],\n",
              "       [0., 0., 1.],\n",
              "       [0., 0., 1.],\n",
              "       [0., 0., 1.],\n",
              "       [0., 0., 1.],\n",
              "       [0., 0., 1.],\n",
              "       [0., 0., 1.],\n",
              "       [0., 0., 1.],\n",
              "       [0., 0., 1.],\n",
              "       [0., 0., 1.],\n",
              "       [0., 0., 1.],\n",
              "       [0., 0., 1.],\n",
              "       [0., 0., 1.],\n",
              "       [0., 0., 1.],\n",
              "       [0., 0., 1.],\n",
              "       [0., 0., 1.],\n",
              "       [0., 0., 1.],\n",
              "       [0., 0., 1.],\n",
              "       [0., 0., 1.],\n",
              "       [0., 0., 1.],\n",
              "       [0., 0., 1.],\n",
              "       [0., 0., 1.],\n",
              "       [0., 0., 1.],\n",
              "       [0., 0., 1.],\n",
              "       [0., 0., 1.],\n",
              "       [0., 0., 1.],\n",
              "       [0., 0., 1.],\n",
              "       [0., 0., 1.],\n",
              "       [0., 0., 1.],\n",
              "       [0., 0., 1.],\n",
              "       [0., 0., 1.]], dtype=float32)"
            ]
          },
          "metadata": {
            "tags": []
          },
          "execution_count": 15
        }
      ]
    },
    {
      "cell_type": "code",
      "metadata": {
        "id": "xE37T6lkQe2a"
      },
      "source": [
        " from sklearn.model_selection import train_test_split"
      ],
      "execution_count": null,
      "outputs": []
    },
    {
      "cell_type": "code",
      "metadata": {
        "colab": {
          "base_uri": "https://localhost:8080/"
        },
        "id": "6CzvN4rTQe-8",
        "outputId": "750dcc62-65ea-4653-d3fd-2d5e1a910497"
      },
      "source": [
        "train_test_split"
      ],
      "execution_count": null,
      "outputs": [
        {
          "output_type": "execute_result",
          "data": {
            "text/plain": [
              "<function sklearn.model_selection._split.train_test_split>"
            ]
          },
          "metadata": {
            "tags": []
          },
          "execution_count": 17
        }
      ]
    },
    {
      "cell_type": "code",
      "metadata": {
        "id": "ZoukLgjMQfIM"
      },
      "source": [
        "X_train, X_test, y_train, y_test = train_test_split(X, y, test_size=0.33, random_state=42)"
      ],
      "execution_count": null,
      "outputs": []
    },
    {
      "cell_type": "code",
      "metadata": {
        "colab": {
          "base_uri": "https://localhost:8080/"
        },
        "id": "D1GjsCN9QfQg",
        "outputId": "d133922f-4761-46f5-d468-47e874abe06a"
      },
      "source": [
        "X_train\r\n"
      ],
      "execution_count": null,
      "outputs": [
        {
          "output_type": "execute_result",
          "data": {
            "text/plain": [
              "array([[5.7, 2.9, 4.2, 1.3],\n",
              "       [7.6, 3. , 6.6, 2.1],\n",
              "       [5.6, 3. , 4.5, 1.5],\n",
              "       [5.1, 3.5, 1.4, 0.2],\n",
              "       [7.7, 2.8, 6.7, 2. ],\n",
              "       [5.8, 2.7, 4.1, 1. ],\n",
              "       [5.2, 3.4, 1.4, 0.2],\n",
              "       [5. , 3.5, 1.3, 0.3],\n",
              "       [5.1, 3.8, 1.9, 0.4],\n",
              "       [5. , 2. , 3.5, 1. ],\n",
              "       [6.3, 2.7, 4.9, 1.8],\n",
              "       [4.8, 3.4, 1.9, 0.2],\n",
              "       [5. , 3. , 1.6, 0.2],\n",
              "       [5.1, 3.3, 1.7, 0.5],\n",
              "       [5.6, 2.7, 4.2, 1.3],\n",
              "       [5.1, 3.4, 1.5, 0.2],\n",
              "       [5.7, 3. , 4.2, 1.2],\n",
              "       [7.7, 3.8, 6.7, 2.2],\n",
              "       [4.6, 3.2, 1.4, 0.2],\n",
              "       [6.2, 2.9, 4.3, 1.3],\n",
              "       [5.7, 2.5, 5. , 2. ],\n",
              "       [5.5, 4.2, 1.4, 0.2],\n",
              "       [6. , 3. , 4.8, 1.8],\n",
              "       [5.8, 2.7, 5.1, 1.9],\n",
              "       [6. , 2.2, 4. , 1. ],\n",
              "       [5.4, 3. , 4.5, 1.5],\n",
              "       [6.2, 3.4, 5.4, 2.3],\n",
              "       [5.5, 2.3, 4. , 1.3],\n",
              "       [5.4, 3.9, 1.7, 0.4],\n",
              "       [5. , 2.3, 3.3, 1. ],\n",
              "       [6.4, 2.7, 5.3, 1.9],\n",
              "       [5. , 3.3, 1.4, 0.2],\n",
              "       [5. , 3.2, 1.2, 0.2],\n",
              "       [5.5, 2.4, 3.8, 1.1],\n",
              "       [6.7, 3. , 5. , 1.7],\n",
              "       [4.9, 3.1, 1.5, 0.2],\n",
              "       [5.8, 2.8, 5.1, 2.4],\n",
              "       [5. , 3.4, 1.5, 0.2],\n",
              "       [5. , 3.5, 1.6, 0.6],\n",
              "       [5.9, 3.2, 4.8, 1.8],\n",
              "       [5.1, 2.5, 3. , 1.1],\n",
              "       [6.9, 3.2, 5.7, 2.3],\n",
              "       [6. , 2.7, 5.1, 1.6],\n",
              "       [6.1, 2.6, 5.6, 1.4],\n",
              "       [7.7, 3. , 6.1, 2.3],\n",
              "       [5.5, 2.5, 4. , 1.3],\n",
              "       [4.4, 2.9, 1.4, 0.2],\n",
              "       [4.3, 3. , 1.1, 0.1],\n",
              "       [6. , 2.2, 5. , 1.5],\n",
              "       [7.2, 3.2, 6. , 1.8],\n",
              "       [4.6, 3.1, 1.5, 0.2],\n",
              "       [5.1, 3.5, 1.4, 0.3],\n",
              "       [4.4, 3. , 1.3, 0.2],\n",
              "       [6.3, 2.5, 4.9, 1.5],\n",
              "       [6.3, 3.4, 5.6, 2.4],\n",
              "       [4.6, 3.4, 1.4, 0.3],\n",
              "       [6.8, 3. , 5.5, 2.1],\n",
              "       [6.3, 3.3, 6. , 2.5],\n",
              "       [4.7, 3.2, 1.3, 0.2],\n",
              "       [6.1, 2.9, 4.7, 1.4],\n",
              "       [6.5, 2.8, 4.6, 1.5],\n",
              "       [6.2, 2.8, 4.8, 1.8],\n",
              "       [7. , 3.2, 4.7, 1.4],\n",
              "       [6.4, 3.2, 5.3, 2.3],\n",
              "       [5.1, 3.8, 1.6, 0.2],\n",
              "       [6.9, 3.1, 5.4, 2.1],\n",
              "       [5.9, 3. , 4.2, 1.5],\n",
              "       [6.5, 3. , 5.2, 2. ],\n",
              "       [5.7, 2.6, 3.5, 1. ],\n",
              "       [5.2, 2.7, 3.9, 1.4],\n",
              "       [6.1, 3. , 4.6, 1.4],\n",
              "       [4.5, 2.3, 1.3, 0.3],\n",
              "       [6.6, 2.9, 4.6, 1.3],\n",
              "       [5.5, 2.6, 4.4, 1.2],\n",
              "       [5.3, 3.7, 1.5, 0.2],\n",
              "       [5.6, 3. , 4.1, 1.3],\n",
              "       [7.3, 2.9, 6.3, 1.8],\n",
              "       [6.7, 3.3, 5.7, 2.1],\n",
              "       [5.1, 3.7, 1.5, 0.4],\n",
              "       [4.9, 2.4, 3.3, 1. ],\n",
              "       [6.7, 3.3, 5.7, 2.5],\n",
              "       [7.2, 3. , 5.8, 1.6],\n",
              "       [4.9, 3.6, 1.4, 0.1],\n",
              "       [6.7, 3.1, 5.6, 2.4],\n",
              "       [4.9, 3. , 1.4, 0.2],\n",
              "       [6.9, 3.1, 4.9, 1.5],\n",
              "       [7.4, 2.8, 6.1, 1.9],\n",
              "       [6.3, 2.9, 5.6, 1.8],\n",
              "       [5.7, 2.8, 4.1, 1.3],\n",
              "       [6.5, 3. , 5.5, 1.8],\n",
              "       [6.3, 2.3, 4.4, 1.3],\n",
              "       [6.4, 2.9, 4.3, 1.3],\n",
              "       [5.6, 2.8, 4.9, 2. ],\n",
              "       [5.9, 3. , 5.1, 1.8],\n",
              "       [5.4, 3.4, 1.7, 0.2],\n",
              "       [6.1, 2.8, 4. , 1.3],\n",
              "       [4.9, 2.5, 4.5, 1.7],\n",
              "       [5.8, 4. , 1.2, 0.2],\n",
              "       [5.8, 2.6, 4. , 1.2],\n",
              "       [7.1, 3. , 5.9, 2.1]])"
            ]
          },
          "metadata": {
            "tags": []
          },
          "execution_count": 19
        }
      ]
    },
    {
      "cell_type": "markdown",
      "metadata": {
        "id": "o5I0A4u0Uk0p"
      },
      "source": [
        "#**Standardizing the Data**"
      ]
    },
    {
      "cell_type": "code",
      "metadata": {
        "id": "FnumkhJmUhJc"
      },
      "source": [
        "'''Usually when using Neural Networks, you will get better performance when you standardize the data. Standardization just means \r\n",
        "normalizing the values to all fit between a certain range, like 0-1, or -1 to 1.\r\n",
        "The scikit learn library also provides a nice function for this.'''\r\n",
        "# http://scikit-learn.org/stable/modules/generated/sklearn.preprocessing.MinMaxScaler.html"
      ],
      "execution_count": null,
      "outputs": []
    },
    {
      "cell_type": "code",
      "metadata": {
        "id": "FCeE4x8NQfZK"
      },
      "source": [
        "from sklearn.preprocessing import MinMaxScaler"
      ],
      "execution_count": null,
      "outputs": []
    },
    {
      "cell_type": "code",
      "metadata": {
        "id": "QBM23On1Ufag"
      },
      "source": [
        "scaler_object = MinMaxScaler()"
      ],
      "execution_count": null,
      "outputs": []
    },
    {
      "cell_type": "code",
      "metadata": {
        "colab": {
          "base_uri": "https://localhost:8080/"
        },
        "id": "tkhzaJ05Qf0X",
        "outputId": "8c53bc29-8062-4eac-c7df-c34aaa665290"
      },
      "source": [
        "np.array([5,10,15,20])/20"
      ],
      "execution_count": null,
      "outputs": [
        {
          "output_type": "execute_result",
          "data": {
            "text/plain": [
              "array([0.25, 0.5 , 0.75, 1.  ])"
            ]
          },
          "metadata": {
            "tags": []
          },
          "execution_count": 24
        }
      ]
    },
    {
      "cell_type": "code",
      "metadata": {
        "id": "ylI4Mg54TvEP"
      },
      "source": [
        "scaler_object = MinMaxScaler()\r\n"
      ],
      "execution_count": null,
      "outputs": []
    },
    {
      "cell_type": "code",
      "metadata": {
        "colab": {
          "base_uri": "https://localhost:8080/"
        },
        "id": "8N69aGlDTvTP",
        "outputId": "23c1e7c8-9a63-454d-ed77-8a51024e43ae"
      },
      "source": [
        "scaler_object.fit(X_train)"
      ],
      "execution_count": null,
      "outputs": [
        {
          "output_type": "execute_result",
          "data": {
            "text/plain": [
              "MinMaxScaler(copy=True, feature_range=(0, 1))"
            ]
          },
          "metadata": {
            "tags": []
          },
          "execution_count": 34
        }
      ]
    },
    {
      "cell_type": "code",
      "metadata": {
        "id": "neGmIli_UGGi"
      },
      "source": [
        "scaled_X_train = scaler_object.transform(X_train)\r\n",
        "scaled_X_test = scaler_object.transform(X_test)"
      ],
      "execution_count": null,
      "outputs": []
    },
    {
      "cell_type": "code",
      "metadata": {
        "id": "FOPideIdUGUe"
      },
      "source": [
        "scaled_X_test = scaler_object.transform(X_test)"
      ],
      "execution_count": null,
      "outputs": []
    },
    {
      "cell_type": "code",
      "metadata": {
        "colab": {
          "base_uri": "https://localhost:8080/"
        },
        "id": "q3fR85GGUGiO",
        "outputId": "02c81a35-f38d-4257-e174-b555df680d09"
      },
      "source": [
        "scaled_X_train"
      ],
      "execution_count": null,
      "outputs": [
        {
          "output_type": "execute_result",
          "data": {
            "text/plain": [
              "array([[0.41176471, 0.40909091, 0.55357143, 0.5       ],\n",
              "       [0.97058824, 0.45454545, 0.98214286, 0.83333333],\n",
              "       [0.38235294, 0.45454545, 0.60714286, 0.58333333],\n",
              "       [0.23529412, 0.68181818, 0.05357143, 0.04166667],\n",
              "       [1.        , 0.36363636, 1.        , 0.79166667],\n",
              "       [0.44117647, 0.31818182, 0.53571429, 0.375     ],\n",
              "       [0.26470588, 0.63636364, 0.05357143, 0.04166667],\n",
              "       [0.20588235, 0.68181818, 0.03571429, 0.08333333],\n",
              "       [0.23529412, 0.81818182, 0.14285714, 0.125     ],\n",
              "       [0.20588235, 0.        , 0.42857143, 0.375     ],\n",
              "       [0.58823529, 0.31818182, 0.67857143, 0.70833333],\n",
              "       [0.14705882, 0.63636364, 0.14285714, 0.04166667],\n",
              "       [0.20588235, 0.45454545, 0.08928571, 0.04166667],\n",
              "       [0.23529412, 0.59090909, 0.10714286, 0.16666667],\n",
              "       [0.38235294, 0.31818182, 0.55357143, 0.5       ],\n",
              "       [0.23529412, 0.63636364, 0.07142857, 0.04166667],\n",
              "       [0.41176471, 0.45454545, 0.55357143, 0.45833333],\n",
              "       [1.        , 0.81818182, 1.        , 0.875     ],\n",
              "       [0.08823529, 0.54545455, 0.05357143, 0.04166667],\n",
              "       [0.55882353, 0.40909091, 0.57142857, 0.5       ],\n",
              "       [0.41176471, 0.22727273, 0.69642857, 0.79166667],\n",
              "       [0.35294118, 1.        , 0.05357143, 0.04166667],\n",
              "       [0.5       , 0.45454545, 0.66071429, 0.70833333],\n",
              "       [0.44117647, 0.31818182, 0.71428571, 0.75      ],\n",
              "       [0.5       , 0.09090909, 0.51785714, 0.375     ],\n",
              "       [0.32352941, 0.45454545, 0.60714286, 0.58333333],\n",
              "       [0.55882353, 0.63636364, 0.76785714, 0.91666667],\n",
              "       [0.35294118, 0.13636364, 0.51785714, 0.5       ],\n",
              "       [0.32352941, 0.86363636, 0.10714286, 0.125     ],\n",
              "       [0.20588235, 0.13636364, 0.39285714, 0.375     ],\n",
              "       [0.61764706, 0.31818182, 0.75      , 0.75      ],\n",
              "       [0.20588235, 0.59090909, 0.05357143, 0.04166667],\n",
              "       [0.20588235, 0.54545455, 0.01785714, 0.04166667],\n",
              "       [0.35294118, 0.18181818, 0.48214286, 0.41666667],\n",
              "       [0.70588235, 0.45454545, 0.69642857, 0.66666667],\n",
              "       [0.17647059, 0.5       , 0.07142857, 0.04166667],\n",
              "       [0.44117647, 0.36363636, 0.71428571, 0.95833333],\n",
              "       [0.20588235, 0.63636364, 0.07142857, 0.04166667],\n",
              "       [0.20588235, 0.68181818, 0.08928571, 0.20833333],\n",
              "       [0.47058824, 0.54545455, 0.66071429, 0.70833333],\n",
              "       [0.23529412, 0.22727273, 0.33928571, 0.41666667],\n",
              "       [0.76470588, 0.54545455, 0.82142857, 0.91666667],\n",
              "       [0.5       , 0.31818182, 0.71428571, 0.625     ],\n",
              "       [0.52941176, 0.27272727, 0.80357143, 0.54166667],\n",
              "       [1.        , 0.45454545, 0.89285714, 0.91666667],\n",
              "       [0.35294118, 0.22727273, 0.51785714, 0.5       ],\n",
              "       [0.02941176, 0.40909091, 0.05357143, 0.04166667],\n",
              "       [0.        , 0.45454545, 0.        , 0.        ],\n",
              "       [0.5       , 0.09090909, 0.69642857, 0.58333333],\n",
              "       [0.85294118, 0.54545455, 0.875     , 0.70833333],\n",
              "       [0.08823529, 0.5       , 0.07142857, 0.04166667],\n",
              "       [0.23529412, 0.68181818, 0.05357143, 0.08333333],\n",
              "       [0.02941176, 0.45454545, 0.03571429, 0.04166667],\n",
              "       [0.58823529, 0.22727273, 0.67857143, 0.58333333],\n",
              "       [0.58823529, 0.63636364, 0.80357143, 0.95833333],\n",
              "       [0.08823529, 0.63636364, 0.05357143, 0.08333333],\n",
              "       [0.73529412, 0.45454545, 0.78571429, 0.83333333],\n",
              "       [0.58823529, 0.59090909, 0.875     , 1.        ],\n",
              "       [0.11764706, 0.54545455, 0.03571429, 0.04166667],\n",
              "       [0.52941176, 0.40909091, 0.64285714, 0.54166667],\n",
              "       [0.64705882, 0.36363636, 0.625     , 0.58333333],\n",
              "       [0.55882353, 0.36363636, 0.66071429, 0.70833333],\n",
              "       [0.79411765, 0.54545455, 0.64285714, 0.54166667],\n",
              "       [0.61764706, 0.54545455, 0.75      , 0.91666667],\n",
              "       [0.23529412, 0.81818182, 0.08928571, 0.04166667],\n",
              "       [0.76470588, 0.5       , 0.76785714, 0.83333333],\n",
              "       [0.47058824, 0.45454545, 0.55357143, 0.58333333],\n",
              "       [0.64705882, 0.45454545, 0.73214286, 0.79166667],\n",
              "       [0.41176471, 0.27272727, 0.42857143, 0.375     ],\n",
              "       [0.26470588, 0.31818182, 0.5       , 0.54166667],\n",
              "       [0.52941176, 0.45454545, 0.625     , 0.54166667],\n",
              "       [0.05882353, 0.13636364, 0.03571429, 0.08333333],\n",
              "       [0.67647059, 0.40909091, 0.625     , 0.5       ],\n",
              "       [0.35294118, 0.27272727, 0.58928571, 0.45833333],\n",
              "       [0.29411765, 0.77272727, 0.07142857, 0.04166667],\n",
              "       [0.38235294, 0.45454545, 0.53571429, 0.5       ],\n",
              "       [0.88235294, 0.40909091, 0.92857143, 0.70833333],\n",
              "       [0.70588235, 0.59090909, 0.82142857, 0.83333333],\n",
              "       [0.23529412, 0.77272727, 0.07142857, 0.125     ],\n",
              "       [0.17647059, 0.18181818, 0.39285714, 0.375     ],\n",
              "       [0.70588235, 0.59090909, 0.82142857, 1.        ],\n",
              "       [0.85294118, 0.45454545, 0.83928571, 0.625     ],\n",
              "       [0.17647059, 0.72727273, 0.05357143, 0.        ],\n",
              "       [0.70588235, 0.5       , 0.80357143, 0.95833333],\n",
              "       [0.17647059, 0.45454545, 0.05357143, 0.04166667],\n",
              "       [0.76470588, 0.5       , 0.67857143, 0.58333333],\n",
              "       [0.91176471, 0.36363636, 0.89285714, 0.75      ],\n",
              "       [0.58823529, 0.40909091, 0.80357143, 0.70833333],\n",
              "       [0.41176471, 0.36363636, 0.53571429, 0.5       ],\n",
              "       [0.64705882, 0.45454545, 0.78571429, 0.70833333],\n",
              "       [0.58823529, 0.13636364, 0.58928571, 0.5       ],\n",
              "       [0.61764706, 0.40909091, 0.57142857, 0.5       ],\n",
              "       [0.38235294, 0.36363636, 0.67857143, 0.79166667],\n",
              "       [0.47058824, 0.45454545, 0.71428571, 0.70833333],\n",
              "       [0.32352941, 0.63636364, 0.10714286, 0.04166667],\n",
              "       [0.52941176, 0.36363636, 0.51785714, 0.5       ],\n",
              "       [0.17647059, 0.22727273, 0.60714286, 0.66666667],\n",
              "       [0.44117647, 0.90909091, 0.01785714, 0.04166667],\n",
              "       [0.44117647, 0.27272727, 0.51785714, 0.45833333],\n",
              "       [0.82352941, 0.45454545, 0.85714286, 0.83333333]])"
            ]
          },
          "metadata": {
            "tags": []
          },
          "execution_count": 37
        }
      ]
    },
    {
      "cell_type": "code",
      "metadata": {
        "id": "QRxfTJ8zUGum"
      },
      "source": [
        ""
      ],
      "execution_count": null,
      "outputs": []
    },
    {
      "cell_type": "markdown",
      "metadata": {
        "id": "hKo0aavXWXoc"
      },
      "source": [
        "#**Building the Network with Keras**"
      ]
    },
    {
      "cell_type": "code",
      "metadata": {
        "id": "YEWqPkKcUG82"
      },
      "source": [
        "#Let's build a simple neural network!\r\n",
        "from keras.models import Sequential\r\n",
        "from keras.layers import Dense"
      ],
      "execution_count": null,
      "outputs": []
    },
    {
      "cell_type": "code",
      "metadata": {
        "id": "XJ042jdFWkLA"
      },
      "source": [
        "model = Sequential()\r\n",
        "model.add(Dense(8, input_dim=4, activation='relu'))#8-nurans\r\n",
        "model.add(Dense(8, input_dim=4, activation='relu'))#8-nurans\r\n",
        "model.add(Dense(3, activation='softmax'))#3-nurans\r\n",
        "model.compile(loss='categorical_crossentropy', optimizer='adam', metrics=['accuracy'])"
      ],
      "execution_count": null,
      "outputs": []
    },
    {
      "cell_type": "code",
      "metadata": {
        "colab": {
          "base_uri": "https://localhost:8080/"
        },
        "id": "yLvHlNLsWkWo",
        "outputId": "4294d3e9-8289-49e2-a4ae-6a10ebbb865b"
      },
      "source": [
        "model.summary()"
      ],
      "execution_count": null,
      "outputs": [
        {
          "output_type": "stream",
          "text": [
            "Model: \"sequential\"\n",
            "_________________________________________________________________\n",
            "Layer (type)                 Output Shape              Param #   \n",
            "=================================================================\n",
            "dense (Dense)                (None, 8)                 40        \n",
            "_________________________________________________________________\n",
            "dense_1 (Dense)              (None, 8)                 72        \n",
            "_________________________________________________________________\n",
            "dense_2 (Dense)              (None, 3)                 27        \n",
            "=================================================================\n",
            "Total params: 139\n",
            "Trainable params: 139\n",
            "Non-trainable params: 0\n",
            "_________________________________________________________________\n"
          ],
          "name": "stdout"
        }
      ]
    },
    {
      "cell_type": "code",
      "metadata": {
        "id": "wQCk8U8VWki6"
      },
      "source": [
        ""
      ],
      "execution_count": null,
      "outputs": []
    },
    {
      "cell_type": "markdown",
      "metadata": {
        "id": "XXShIt-6YcSu"
      },
      "source": [
        "#**Fit (Train) the Model**"
      ]
    },
    {
      "cell_type": "code",
      "metadata": {
        "colab": {
          "base_uri": "https://localhost:8080/"
        },
        "id": "NAxeH-_-Wktf",
        "outputId": "de88635c-171d-4d40-9012-ad4828f625f9"
      },
      "source": [
        "#Play around with number of epochs as well!\r\n",
        "model.fit(scaled_X_train,y_train,epochs=150, verbose=2)"
      ],
      "execution_count": null,
      "outputs": [
        {
          "output_type": "stream",
          "text": [
            "Epoch 1/150\n",
            "4/4 - 1s - loss: 1.0491 - accuracy: 0.3500\n",
            "Epoch 2/150\n",
            "4/4 - 0s - loss: 1.0386 - accuracy: 0.3400\n",
            "Epoch 3/150\n",
            "4/4 - 0s - loss: 1.0302 - accuracy: 0.3500\n",
            "Epoch 4/150\n",
            "4/4 - 0s - loss: 1.0226 - accuracy: 0.3700\n",
            "Epoch 5/150\n",
            "4/4 - 0s - loss: 1.0144 - accuracy: 0.3700\n",
            "Epoch 6/150\n",
            "4/4 - 0s - loss: 1.0055 - accuracy: 0.3800\n",
            "Epoch 7/150\n",
            "4/4 - 0s - loss: 0.9964 - accuracy: 0.3800\n",
            "Epoch 8/150\n",
            "4/4 - 0s - loss: 0.9860 - accuracy: 0.4100\n",
            "Epoch 9/150\n",
            "4/4 - 0s - loss: 0.9749 - accuracy: 0.4500\n",
            "Epoch 10/150\n",
            "4/4 - 0s - loss: 0.9649 - accuracy: 0.5400\n",
            "Epoch 11/150\n",
            "4/4 - 0s - loss: 0.9561 - accuracy: 0.6200\n",
            "Epoch 12/150\n",
            "4/4 - 0s - loss: 0.9468 - accuracy: 0.6200\n",
            "Epoch 13/150\n",
            "4/4 - 0s - loss: 0.9378 - accuracy: 0.6400\n",
            "Epoch 14/150\n",
            "4/4 - 0s - loss: 0.9299 - accuracy: 0.6300\n",
            "Epoch 15/150\n",
            "4/4 - 0s - loss: 0.9211 - accuracy: 0.6300\n",
            "Epoch 16/150\n",
            "4/4 - 0s - loss: 0.9124 - accuracy: 0.6600\n",
            "Epoch 17/150\n",
            "4/4 - 0s - loss: 0.9042 - accuracy: 0.6700\n",
            "Epoch 18/150\n",
            "4/4 - 0s - loss: 0.8956 - accuracy: 0.6500\n",
            "Epoch 19/150\n",
            "4/4 - 0s - loss: 0.8876 - accuracy: 0.6500\n",
            "Epoch 20/150\n",
            "4/4 - 0s - loss: 0.8788 - accuracy: 0.6500\n",
            "Epoch 21/150\n",
            "4/4 - 0s - loss: 0.8702 - accuracy: 0.6500\n",
            "Epoch 22/150\n",
            "4/4 - 0s - loss: 0.8610 - accuracy: 0.6500\n",
            "Epoch 23/150\n",
            "4/4 - 0s - loss: 0.8525 - accuracy: 0.6700\n",
            "Epoch 24/150\n",
            "4/4 - 0s - loss: 0.8438 - accuracy: 0.6700\n",
            "Epoch 25/150\n",
            "4/4 - 0s - loss: 0.8353 - accuracy: 0.6700\n",
            "Epoch 26/150\n",
            "4/4 - 0s - loss: 0.8266 - accuracy: 0.6700\n",
            "Epoch 27/150\n",
            "4/4 - 0s - loss: 0.8180 - accuracy: 0.6700\n",
            "Epoch 28/150\n",
            "4/4 - 0s - loss: 0.8089 - accuracy: 0.6700\n",
            "Epoch 29/150\n",
            "4/4 - 0s - loss: 0.8000 - accuracy: 0.6700\n",
            "Epoch 30/150\n",
            "4/4 - 0s - loss: 0.7903 - accuracy: 0.6700\n",
            "Epoch 31/150\n",
            "4/4 - 0s - loss: 0.7821 - accuracy: 0.6600\n",
            "Epoch 32/150\n",
            "4/4 - 0s - loss: 0.7737 - accuracy: 0.6500\n",
            "Epoch 33/150\n",
            "4/4 - 0s - loss: 0.7650 - accuracy: 0.6500\n",
            "Epoch 34/150\n",
            "4/4 - 0s - loss: 0.7581 - accuracy: 0.6500\n",
            "Epoch 35/150\n",
            "4/4 - 0s - loss: 0.7505 - accuracy: 0.6500\n",
            "Epoch 36/150\n",
            "4/4 - 0s - loss: 0.7430 - accuracy: 0.6500\n",
            "Epoch 37/150\n",
            "4/4 - 0s - loss: 0.7354 - accuracy: 0.6500\n",
            "Epoch 38/150\n",
            "4/4 - 0s - loss: 0.7271 - accuracy: 0.6500\n",
            "Epoch 39/150\n",
            "4/4 - 0s - loss: 0.7187 - accuracy: 0.6500\n",
            "Epoch 40/150\n",
            "4/4 - 0s - loss: 0.7105 - accuracy: 0.6600\n",
            "Epoch 41/150\n",
            "4/4 - 0s - loss: 0.7028 - accuracy: 0.6700\n",
            "Epoch 42/150\n",
            "4/4 - 0s - loss: 0.6939 - accuracy: 0.6700\n",
            "Epoch 43/150\n",
            "4/4 - 0s - loss: 0.6867 - accuracy: 0.6800\n",
            "Epoch 44/150\n",
            "4/4 - 0s - loss: 0.6788 - accuracy: 0.6800\n",
            "Epoch 45/150\n",
            "4/4 - 0s - loss: 0.6710 - accuracy: 0.7000\n",
            "Epoch 46/150\n",
            "4/4 - 0s - loss: 0.6644 - accuracy: 0.7200\n",
            "Epoch 47/150\n",
            "4/4 - 0s - loss: 0.6572 - accuracy: 0.7800\n",
            "Epoch 48/150\n",
            "4/4 - 0s - loss: 0.6505 - accuracy: 0.7800\n",
            "Epoch 49/150\n",
            "4/4 - 0s - loss: 0.6429 - accuracy: 0.7800\n",
            "Epoch 50/150\n",
            "4/4 - 0s - loss: 0.6359 - accuracy: 0.7600\n",
            "Epoch 51/150\n",
            "4/4 - 0s - loss: 0.6285 - accuracy: 0.7600\n",
            "Epoch 52/150\n",
            "4/4 - 0s - loss: 0.6216 - accuracy: 0.7600\n",
            "Epoch 53/150\n",
            "4/4 - 0s - loss: 0.6151 - accuracy: 0.7500\n",
            "Epoch 54/150\n",
            "4/4 - 0s - loss: 0.6088 - accuracy: 0.7300\n",
            "Epoch 55/150\n",
            "4/4 - 0s - loss: 0.6026 - accuracy: 0.7400\n",
            "Epoch 56/150\n",
            "4/4 - 0s - loss: 0.5963 - accuracy: 0.7900\n",
            "Epoch 57/150\n",
            "4/4 - 0s - loss: 0.5907 - accuracy: 0.8100\n",
            "Epoch 58/150\n",
            "4/4 - 0s - loss: 0.5845 - accuracy: 0.8200\n",
            "Epoch 59/150\n",
            "4/4 - 0s - loss: 0.5786 - accuracy: 0.8100\n",
            "Epoch 60/150\n",
            "4/4 - 0s - loss: 0.5735 - accuracy: 0.8000\n",
            "Epoch 61/150\n",
            "4/4 - 0s - loss: 0.5677 - accuracy: 0.7900\n",
            "Epoch 62/150\n",
            "4/4 - 0s - loss: 0.5623 - accuracy: 0.8000\n",
            "Epoch 63/150\n",
            "4/4 - 0s - loss: 0.5570 - accuracy: 0.8200\n",
            "Epoch 64/150\n",
            "4/4 - 0s - loss: 0.5522 - accuracy: 0.8600\n",
            "Epoch 65/150\n",
            "4/4 - 0s - loss: 0.5473 - accuracy: 0.8900\n",
            "Epoch 66/150\n",
            "4/4 - 0s - loss: 0.5422 - accuracy: 0.8900\n",
            "Epoch 67/150\n",
            "4/4 - 0s - loss: 0.5373 - accuracy: 0.8900\n",
            "Epoch 68/150\n",
            "4/4 - 0s - loss: 0.5320 - accuracy: 0.8900\n",
            "Epoch 69/150\n",
            "4/4 - 0s - loss: 0.5271 - accuracy: 0.8900\n",
            "Epoch 70/150\n",
            "4/4 - 0s - loss: 0.5224 - accuracy: 0.8500\n",
            "Epoch 71/150\n",
            "4/4 - 0s - loss: 0.5180 - accuracy: 0.8200\n",
            "Epoch 72/150\n",
            "4/4 - 0s - loss: 0.5135 - accuracy: 0.8200\n",
            "Epoch 73/150\n",
            "4/4 - 0s - loss: 0.5098 - accuracy: 0.8000\n",
            "Epoch 74/150\n",
            "4/4 - 0s - loss: 0.5057 - accuracy: 0.8000\n",
            "Epoch 75/150\n",
            "4/4 - 0s - loss: 0.5018 - accuracy: 0.8000\n",
            "Epoch 76/150\n",
            "4/4 - 0s - loss: 0.4977 - accuracy: 0.8100\n",
            "Epoch 77/150\n",
            "4/4 - 0s - loss: 0.4940 - accuracy: 0.8000\n",
            "Epoch 78/150\n",
            "4/4 - 0s - loss: 0.4905 - accuracy: 0.7900\n",
            "Epoch 79/150\n",
            "4/4 - 0s - loss: 0.4879 - accuracy: 0.7700\n",
            "Epoch 80/150\n",
            "4/4 - 0s - loss: 0.4847 - accuracy: 0.7700\n",
            "Epoch 81/150\n",
            "4/4 - 0s - loss: 0.4823 - accuracy: 0.7500\n",
            "Epoch 82/150\n",
            "4/4 - 0s - loss: 0.4807 - accuracy: 0.7500\n",
            "Epoch 83/150\n",
            "4/4 - 0s - loss: 0.4773 - accuracy: 0.7500\n",
            "Epoch 84/150\n",
            "4/4 - 0s - loss: 0.4729 - accuracy: 0.7500\n",
            "Epoch 85/150\n",
            "4/4 - 0s - loss: 0.4691 - accuracy: 0.7900\n",
            "Epoch 86/150\n",
            "4/4 - 0s - loss: 0.4631 - accuracy: 0.8300\n",
            "Epoch 87/150\n",
            "4/4 - 0s - loss: 0.4595 - accuracy: 0.8600\n",
            "Epoch 88/150\n",
            "4/4 - 0s - loss: 0.4559 - accuracy: 0.8900\n",
            "Epoch 89/150\n",
            "4/4 - 0s - loss: 0.4530 - accuracy: 0.8900\n",
            "Epoch 90/150\n",
            "4/4 - 0s - loss: 0.4493 - accuracy: 0.9100\n",
            "Epoch 91/150\n",
            "4/4 - 0s - loss: 0.4463 - accuracy: 0.9100\n",
            "Epoch 92/150\n",
            "4/4 - 0s - loss: 0.4431 - accuracy: 0.9100\n",
            "Epoch 93/150\n",
            "4/4 - 0s - loss: 0.4408 - accuracy: 0.9100\n",
            "Epoch 94/150\n",
            "4/4 - 0s - loss: 0.4368 - accuracy: 0.9100\n",
            "Epoch 95/150\n",
            "4/4 - 0s - loss: 0.4340 - accuracy: 0.9300\n",
            "Epoch 96/150\n",
            "4/4 - 0s - loss: 0.4309 - accuracy: 0.9300\n",
            "Epoch 97/150\n",
            "4/4 - 0s - loss: 0.4278 - accuracy: 0.9300\n",
            "Epoch 98/150\n",
            "4/4 - 0s - loss: 0.4249 - accuracy: 0.9100\n",
            "Epoch 99/150\n",
            "4/4 - 0s - loss: 0.4219 - accuracy: 0.9100\n",
            "Epoch 100/150\n",
            "4/4 - 0s - loss: 0.4195 - accuracy: 0.9100\n",
            "Epoch 101/150\n",
            "4/4 - 0s - loss: 0.4168 - accuracy: 0.9100\n",
            "Epoch 102/150\n",
            "4/4 - 0s - loss: 0.4138 - accuracy: 0.9100\n",
            "Epoch 103/150\n",
            "4/4 - 0s - loss: 0.4114 - accuracy: 0.9200\n",
            "Epoch 104/150\n",
            "4/4 - 0s - loss: 0.4085 - accuracy: 0.9300\n",
            "Epoch 105/150\n",
            "4/4 - 0s - loss: 0.4060 - accuracy: 0.9100\n",
            "Epoch 106/150\n",
            "4/4 - 0s - loss: 0.4035 - accuracy: 0.9100\n",
            "Epoch 107/150\n",
            "4/4 - 0s - loss: 0.4009 - accuracy: 0.9100\n",
            "Epoch 108/150\n",
            "4/4 - 0s - loss: 0.3989 - accuracy: 0.9100\n",
            "Epoch 109/150\n",
            "4/4 - 0s - loss: 0.3967 - accuracy: 0.9100\n",
            "Epoch 110/150\n",
            "4/4 - 0s - loss: 0.3956 - accuracy: 0.9100\n",
            "Epoch 111/150\n",
            "4/4 - 0s - loss: 0.3925 - accuracy: 0.9100\n",
            "Epoch 112/150\n",
            "4/4 - 0s - loss: 0.3888 - accuracy: 0.9100\n",
            "Epoch 113/150\n",
            "4/4 - 0s - loss: 0.3862 - accuracy: 0.9300\n",
            "Epoch 114/150\n",
            "4/4 - 0s - loss: 0.3834 - accuracy: 0.9300\n",
            "Epoch 115/150\n",
            "4/4 - 0s - loss: 0.3805 - accuracy: 0.9300\n",
            "Epoch 116/150\n",
            "4/4 - 0s - loss: 0.3787 - accuracy: 0.9400\n",
            "Epoch 117/150\n",
            "4/4 - 0s - loss: 0.3771 - accuracy: 0.9400\n",
            "Epoch 118/150\n",
            "4/4 - 0s - loss: 0.3745 - accuracy: 0.9400\n",
            "Epoch 119/150\n",
            "4/4 - 0s - loss: 0.3724 - accuracy: 0.9400\n",
            "Epoch 120/150\n",
            "4/4 - 0s - loss: 0.3701 - accuracy: 0.9400\n",
            "Epoch 121/150\n",
            "4/4 - 0s - loss: 0.3683 - accuracy: 0.9400\n",
            "Epoch 122/150\n",
            "4/4 - 0s - loss: 0.3654 - accuracy: 0.9300\n",
            "Epoch 123/150\n",
            "4/4 - 0s - loss: 0.3622 - accuracy: 0.9400\n",
            "Epoch 124/150\n",
            "4/4 - 0s - loss: 0.3593 - accuracy: 0.9400\n",
            "Epoch 125/150\n",
            "4/4 - 0s - loss: 0.3564 - accuracy: 0.9400\n",
            "Epoch 126/150\n",
            "4/4 - 0s - loss: 0.3545 - accuracy: 0.9300\n",
            "Epoch 127/150\n",
            "4/4 - 0s - loss: 0.3524 - accuracy: 0.9300\n",
            "Epoch 128/150\n",
            "4/4 - 0s - loss: 0.3504 - accuracy: 0.9300\n",
            "Epoch 129/150\n",
            "4/4 - 0s - loss: 0.3483 - accuracy: 0.9300\n",
            "Epoch 130/150\n",
            "4/4 - 0s - loss: 0.3452 - accuracy: 0.9400\n",
            "Epoch 131/150\n",
            "4/4 - 0s - loss: 0.3434 - accuracy: 0.9400\n",
            "Epoch 132/150\n",
            "4/4 - 0s - loss: 0.3424 - accuracy: 0.9100\n",
            "Epoch 133/150\n",
            "4/4 - 0s - loss: 0.3421 - accuracy: 0.9300\n",
            "Epoch 134/150\n",
            "4/4 - 0s - loss: 0.3403 - accuracy: 0.9300\n",
            "Epoch 135/150\n",
            "4/4 - 0s - loss: 0.3362 - accuracy: 0.9300\n",
            "Epoch 136/150\n",
            "4/4 - 0s - loss: 0.3324 - accuracy: 0.9200\n",
            "Epoch 137/150\n",
            "4/4 - 0s - loss: 0.3298 - accuracy: 0.9400\n",
            "Epoch 138/150\n",
            "4/4 - 0s - loss: 0.3277 - accuracy: 0.9500\n",
            "Epoch 139/150\n",
            "4/4 - 0s - loss: 0.3260 - accuracy: 0.9500\n",
            "Epoch 140/150\n",
            "4/4 - 0s - loss: 0.3238 - accuracy: 0.9500\n",
            "Epoch 141/150\n",
            "4/4 - 0s - loss: 0.3221 - accuracy: 0.9400\n",
            "Epoch 142/150\n",
            "4/4 - 0s - loss: 0.3220 - accuracy: 0.9300\n",
            "Epoch 143/150\n",
            "4/4 - 0s - loss: 0.3216 - accuracy: 0.9200\n",
            "Epoch 144/150\n",
            "4/4 - 0s - loss: 0.3199 - accuracy: 0.9200\n",
            "Epoch 145/150\n",
            "4/4 - 0s - loss: 0.3153 - accuracy: 0.9400\n",
            "Epoch 146/150\n",
            "4/4 - 0s - loss: 0.3127 - accuracy: 0.9400\n",
            "Epoch 147/150\n",
            "4/4 - 0s - loss: 0.3105 - accuracy: 0.9400\n",
            "Epoch 148/150\n",
            "4/4 - 0s - loss: 0.3082 - accuracy: 0.9400\n",
            "Epoch 149/150\n",
            "4/4 - 0s - loss: 0.3060 - accuracy: 0.9400\n",
            "Epoch 150/150\n",
            "4/4 - 0s - loss: 0.3028 - accuracy: 0.9400\n"
          ],
          "name": "stdout"
        },
        {
          "output_type": "execute_result",
          "data": {
            "text/plain": [
              "<tensorflow.python.keras.callbacks.History at 0x7fadc7548160>"
            ]
          },
          "metadata": {
            "tags": []
          },
          "execution_count": 41
        }
      ]
    },
    {
      "cell_type": "code",
      "metadata": {
        "id": "YHMDMsFZWk5L"
      },
      "source": [
        ""
      ],
      "execution_count": null,
      "outputs": []
    },
    {
      "cell_type": "markdown",
      "metadata": {
        "id": "i6CTdWoJYyop"
      },
      "source": [
        "#**Predicting New Unseen Data**"
      ]
    },
    {
      "cell_type": "code",
      "metadata": {
        "colab": {
          "base_uri": "https://localhost:8080/",
          "height": 86
        },
        "id": "FjXdMS4kY08-",
        "outputId": "2f709835-9cd1-44e6-c43d-4e073dc0ac53"
      },
      "source": [
        "'''Let's see how we did by predicting on new data. Remember, our model has never seen the test data that we scaled previously! This process is\r\n",
        "the exact same process you would use on totally brand new data. For example , a brand new bank note that you just analyzed .'''"
      ],
      "execution_count": null,
      "outputs": [
        {
          "output_type": "execute_result",
          "data": {
            "application/vnd.google.colaboratory.intrinsic+json": {
              "type": "string"
            },
            "text/plain": [
              "\"Let's see how we did by predicting on new data. Remember, our model has never seen the test data that we scaled previously! This process is\\nthe exact same process you would use on totally brand new data. For example , a brand new bank note that you just analyzed .\""
            ]
          },
          "metadata": {
            "tags": []
          },
          "execution_count": 42
        }
      ]
    },
    {
      "cell_type": "code",
      "metadata": {
        "colab": {
          "base_uri": "https://localhost:8080/"
        },
        "id": "6RMLXp4EWlEu",
        "outputId": "33bf4ee0-030a-4946-e18d-577b493fbc36"
      },
      "source": [
        "scaled_X_test"
      ],
      "execution_count": null,
      "outputs": [
        {
          "output_type": "execute_result",
          "data": {
            "text/plain": [
              "array([[ 0.52941176,  0.36363636,  0.64285714,  0.45833333],\n",
              "       [ 0.41176471,  0.81818182,  0.10714286,  0.08333333],\n",
              "       [ 1.        ,  0.27272727,  1.03571429,  0.91666667],\n",
              "       [ 0.5       ,  0.40909091,  0.60714286,  0.58333333],\n",
              "       [ 0.73529412,  0.36363636,  0.66071429,  0.54166667],\n",
              "       [ 0.32352941,  0.63636364,  0.07142857,  0.125     ],\n",
              "       [ 0.38235294,  0.40909091,  0.44642857,  0.5       ],\n",
              "       [ 0.76470588,  0.5       ,  0.71428571,  0.91666667],\n",
              "       [ 0.55882353,  0.09090909,  0.60714286,  0.58333333],\n",
              "       [ 0.44117647,  0.31818182,  0.5       ,  0.45833333],\n",
              "       [ 0.64705882,  0.54545455,  0.71428571,  0.79166667],\n",
              "       [ 0.14705882,  0.45454545,  0.05357143,  0.        ],\n",
              "       [ 0.35294118,  0.68181818,  0.03571429,  0.04166667],\n",
              "       [ 0.17647059,  0.5       ,  0.07142857,  0.        ],\n",
              "       [ 0.23529412,  0.81818182,  0.07142857,  0.08333333],\n",
              "       [ 0.58823529,  0.59090909,  0.64285714,  0.625     ],\n",
              "       [ 0.64705882,  0.45454545,  0.83928571,  0.875     ],\n",
              "       [ 0.38235294,  0.22727273,  0.5       ,  0.41666667],\n",
              "       [ 0.41176471,  0.36363636,  0.60714286,  0.5       ],\n",
              "       [ 0.61764706,  0.36363636,  0.80357143,  0.875     ],\n",
              "       [ 0.11764706,  0.54545455,  0.08928571,  0.04166667],\n",
              "       [ 0.52941176,  0.45454545,  0.67857143,  0.70833333],\n",
              "       [ 0.20588235,  0.63636364,  0.08928571,  0.125     ],\n",
              "       [ 0.61764706,  0.36363636,  0.80357143,  0.83333333],\n",
              "       [ 1.05882353,  0.81818182,  0.94642857,  0.79166667],\n",
              "       [ 0.70588235,  0.45454545,  0.73214286,  0.91666667],\n",
              "       [ 0.70588235,  0.22727273,  0.83928571,  0.70833333],\n",
              "       [ 0.73529412,  0.54545455,  0.85714286,  0.91666667],\n",
              "       [ 0.14705882,  0.45454545,  0.05357143,  0.08333333],\n",
              "       [ 0.14705882,  0.5       ,  0.08928571,  0.04166667],\n",
              "       [ 0.08823529,  0.72727273, -0.01785714,  0.04166667],\n",
              "       [ 0.41176471,  1.09090909,  0.07142857,  0.125     ],\n",
              "       [ 0.70588235,  0.5       ,  0.58928571,  0.54166667],\n",
              "       [ 0.14705882,  0.63636364,  0.08928571,  0.04166667],\n",
              "       [ 0.02941176,  0.54545455,  0.03571429,  0.04166667],\n",
              "       [ 0.58823529,  0.22727273,  0.69642857,  0.75      ],\n",
              "       [ 0.61764706,  0.54545455,  0.60714286,  0.58333333],\n",
              "       [ 0.26470588,  0.68181818,  0.07142857,  0.04166667],\n",
              "       [ 0.20588235,  0.72727273,  0.05357143,  0.04166667],\n",
              "       [ 0.26470588,  0.95454545,  0.07142857,  0.        ],\n",
              "       [ 0.44117647,  0.31818182,  0.71428571,  0.75      ],\n",
              "       [ 0.5       ,  0.63636364,  0.60714286,  0.625     ],\n",
              "       [ 0.70588235,  0.5       ,  0.64285714,  0.58333333],\n",
              "       [ 0.32352941,  0.86363636,  0.03571429,  0.125     ],\n",
              "       [ 0.32352941,  0.77272727,  0.07142857,  0.04166667],\n",
              "       [ 0.35294118,  0.18181818,  0.46428571,  0.375     ],\n",
              "       [ 0.58823529,  0.36363636,  0.71428571,  0.58333333],\n",
              "       [ 0.61764706,  0.5       ,  0.78571429,  0.70833333],\n",
              "       [ 0.67647059,  0.45454545,  0.58928571,  0.54166667],\n",
              "       [ 0.85294118,  0.72727273,  0.89285714,  1.        ]])"
            ]
          },
          "metadata": {
            "tags": []
          },
          "execution_count": 43
        }
      ]
    },
    {
      "cell_type": "code",
      "metadata": {
        "colab": {
          "base_uri": "https://localhost:8080/"
        },
        "id": "0vlQs59JZ3UO",
        "outputId": "598c9481-52d3-4761-f32a-5b13c0d09dcc"
      },
      "source": [
        "model.predict(scaled_X_test)"
      ],
      "execution_count": null,
      "outputs": [
        {
          "output_type": "execute_result",
          "data": {
            "text/plain": [
              "array([[3.5234801e-02, 6.8682045e-01, 2.7794468e-01],\n",
              "       [9.5390815e-01, 4.4759136e-02, 1.3326936e-03],\n",
              "       [4.7660531e-05, 7.5700074e-02, 9.2425227e-01],\n",
              "       [2.1534197e-02, 5.8315802e-01, 3.9530778e-01],\n",
              "       [6.8325959e-03, 4.7298557e-01, 5.2018183e-01],\n",
              "       [9.1789919e-01, 7.8422129e-02, 3.6786781e-03],\n",
              "       [9.0958476e-02, 6.9086027e-01, 2.1818124e-01],\n",
              "       [3.5016637e-04, 1.3438644e-01, 8.6526334e-01],\n",
              "       [2.6996483e-03, 2.7999857e-01, 7.1730173e-01],\n",
              "       [5.6584626e-02, 6.7556316e-01, 2.6785225e-01],\n",
              "       [2.9158229e-03, 3.3254951e-01, 6.6453469e-01],\n",
              "       [9.5311117e-01, 4.4846665e-02, 2.0421906e-03],\n",
              "       [9.5824414e-01, 4.0376011e-02, 1.3798656e-03],\n",
              "       [9.5778042e-01, 4.0544156e-02, 1.6754552e-03],\n",
              "       [9.7551662e-01, 2.3892296e-02, 5.9114856e-04],\n",
              "       [2.4297865e-02, 6.3373774e-01, 3.4196439e-01],\n",
              "       [5.3351262e-04, 1.7984572e-01, 8.1962079e-01],\n",
              "       [6.4174213e-02, 6.7665881e-01, 2.5916702e-01],\n",
              "       [4.6905931e-02, 6.8412936e-01, 2.6896468e-01],\n",
              "       [4.5355500e-04, 1.5324523e-01, 8.4630120e-01],\n",
              "       [9.6111679e-01, 3.7425123e-02, 1.4581031e-03],\n",
              "       [7.2234338e-03, 4.3378097e-01, 5.5899560e-01],\n",
              "       [9.4637156e-01, 5.1524922e-02, 2.1035764e-03],\n",
              "       [6.0944655e-04, 1.7960018e-01, 8.1979036e-01],\n",
              "       [1.0670890e-03, 3.4840709e-01, 6.5052581e-01],\n",
              "       [3.7396455e-04, 1.3567492e-01, 8.6395115e-01],\n",
              "       [6.0423894e-04, 1.9598804e-01, 8.0340773e-01],\n",
              "       [3.6928206e-04, 1.6257937e-01, 8.3705133e-01],\n",
              "       [9.3691778e-01, 5.9904650e-02, 3.1775965e-03],\n",
              "       [9.5440251e-01, 4.3701012e-02, 1.8965496e-03],\n",
              "       [9.7283733e-01, 2.6414085e-02, 7.4860931e-04],\n",
              "       [9.8134536e-01, 1.8347578e-02, 3.0706212e-04],\n",
              "       [1.9189611e-02, 6.0626900e-01, 3.7454134e-01],\n",
              "       [9.6830374e-01, 3.0698732e-02, 9.9750014e-04],\n",
              "       [9.6052182e-01, 3.7973437e-02, 1.5046797e-03],\n",
              "       [9.4366714e-04, 1.9188072e-01, 8.0717558e-01],\n",
              "       [2.5143109e-02, 6.3372141e-01, 3.4113550e-01],\n",
              "       [9.6809500e-01, 3.0943330e-02, 9.6173305e-04],\n",
              "       [9.7335953e-01, 2.5922239e-02, 7.1820151e-04],\n",
              "       [9.8520666e-01, 1.4552913e-02, 2.4038312e-04],\n",
              "       [3.1360178e-03, 3.0875039e-01, 6.8811363e-01],\n",
              "       [4.7678202e-02, 6.9578975e-01, 2.5653201e-01],\n",
              "       [1.2264516e-02, 5.5247515e-01, 4.3526030e-01],\n",
              "       [9.6969742e-01, 2.9528212e-02, 7.7438040e-04],\n",
              "       [9.7219050e-01, 2.7089743e-02, 7.1965362e-04],\n",
              "       [8.5870154e-02, 6.8087751e-01, 2.3325239e-01],\n",
              "       [8.7556560e-03, 5.0027704e-01, 4.9096736e-01],\n",
              "       [4.7489232e-03, 4.2853400e-01, 5.6671709e-01],\n",
              "       [1.7395029e-02, 5.8377320e-01, 3.9883178e-01],\n",
              "       [2.5210957e-04, 1.5012869e-01, 8.4961921e-01]], dtype=float32)"
            ]
          },
          "metadata": {
            "tags": []
          },
          "execution_count": 46
        }
      ]
    },
    {
      "cell_type": "code",
      "metadata": {
        "id": "5p8XXpRaZE0H"
      },
      "source": [
        "# Spits out probabilities by default.\r\n",
        "# model.predict(scaled_X_test)"
      ],
      "execution_count": null,
      "outputs": []
    },
    {
      "cell_type": "code",
      "metadata": {
        "colab": {
          "base_uri": "https://localhost:8080/"
        },
        "id": "iDKymWeXZFD8",
        "outputId": "aa45e0a8-cdc9-4565-fe0d-9aaa49a8f4d8"
      },
      "source": [
        "model.predict_classes(scaled_X_test)"
      ],
      "execution_count": null,
      "outputs": [
        {
          "output_type": "stream",
          "text": [
            "/usr/local/lib/python3.6/dist-packages/tensorflow/python/keras/engine/sequential.py:450: UserWarning: `model.predict_classes()` is deprecated and will be removed after 2021-01-01. Please use instead:* `np.argmax(model.predict(x), axis=-1)`,   if your model does multi-class classification   (e.g. if it uses a `softmax` last-layer activation).* `(model.predict(x) > 0.5).astype(\"int32\")`,   if your model does binary classification   (e.g. if it uses a `sigmoid` last-layer activation).\n",
            "  warnings.warn('`model.predict_classes()` is deprecated and '\n"
          ],
          "name": "stderr"
        },
        {
          "output_type": "execute_result",
          "data": {
            "text/plain": [
              "array([1, 0, 2, 1, 2, 0, 1, 2, 2, 1, 2, 0, 0, 0, 0, 1, 2, 1, 1, 2, 0, 2,\n",
              "       0, 2, 2, 2, 2, 2, 0, 0, 0, 0, 1, 0, 0, 2, 1, 0, 0, 0, 2, 1, 1, 0,\n",
              "       0, 1, 1, 2, 1, 2])"
            ]
          },
          "metadata": {
            "tags": []
          },
          "execution_count": 45
        }
      ]
    },
    {
      "cell_type": "code",
      "metadata": {
        "colab": {
          "base_uri": "https://localhost:8080/"
        },
        "id": "Ru2YHfB4ZFRH",
        "outputId": "c2699aba-17f7-4ebe-a0a0-295c7421173f"
      },
      "source": [
        "y_test"
      ],
      "execution_count": null,
      "outputs": [
        {
          "output_type": "execute_result",
          "data": {
            "text/plain": [
              "array([[0., 1., 0.],\n",
              "       [1., 0., 0.],\n",
              "       [0., 0., 1.],\n",
              "       [0., 1., 0.],\n",
              "       [0., 1., 0.],\n",
              "       [1., 0., 0.],\n",
              "       [0., 1., 0.],\n",
              "       [0., 0., 1.],\n",
              "       [0., 1., 0.],\n",
              "       [0., 1., 0.],\n",
              "       [0., 0., 1.],\n",
              "       [1., 0., 0.],\n",
              "       [1., 0., 0.],\n",
              "       [1., 0., 0.],\n",
              "       [1., 0., 0.],\n",
              "       [0., 1., 0.],\n",
              "       [0., 0., 1.],\n",
              "       [0., 1., 0.],\n",
              "       [0., 1., 0.],\n",
              "       [0., 0., 1.],\n",
              "       [1., 0., 0.],\n",
              "       [0., 0., 1.],\n",
              "       [1., 0., 0.],\n",
              "       [0., 0., 1.],\n",
              "       [0., 0., 1.],\n",
              "       [0., 0., 1.],\n",
              "       [0., 0., 1.],\n",
              "       [0., 0., 1.],\n",
              "       [1., 0., 0.],\n",
              "       [1., 0., 0.],\n",
              "       [1., 0., 0.],\n",
              "       [1., 0., 0.],\n",
              "       [0., 1., 0.],\n",
              "       [1., 0., 0.],\n",
              "       [1., 0., 0.],\n",
              "       [0., 0., 1.],\n",
              "       [0., 1., 0.],\n",
              "       [1., 0., 0.],\n",
              "       [1., 0., 0.],\n",
              "       [1., 0., 0.],\n",
              "       [0., 0., 1.],\n",
              "       [0., 1., 0.],\n",
              "       [0., 1., 0.],\n",
              "       [1., 0., 0.],\n",
              "       [1., 0., 0.],\n",
              "       [0., 1., 0.],\n",
              "       [0., 0., 1.],\n",
              "       [0., 0., 1.],\n",
              "       [0., 1., 0.],\n",
              "       [0., 0., 1.]], dtype=float32)"
            ]
          },
          "metadata": {
            "tags": []
          },
          "execution_count": 47
        }
      ]
    },
    {
      "cell_type": "code",
      "metadata": {
        "id": "IElbrqm9ZFfo"
      },
      "source": [
        "predictions = model.predict_classes(scaled_X_test)"
      ],
      "execution_count": null,
      "outputs": []
    },
    {
      "cell_type": "code",
      "metadata": {
        "colab": {
          "base_uri": "https://localhost:8080/"
        },
        "id": "BrwFnYjwZFrS",
        "outputId": "2e90dfed-d209-4b58-9118-d4e4bc5cf025"
      },
      "source": [
        "y_test.argmax(axis=1)"
      ],
      "execution_count": null,
      "outputs": [
        {
          "output_type": "execute_result",
          "data": {
            "text/plain": [
              "array([1, 0, 2, 1, 1, 0, 1, 2, 1, 1, 2, 0, 0, 0, 0, 1, 2, 1, 1, 2, 0, 2,\n",
              "       0, 2, 2, 2, 2, 2, 0, 0, 0, 0, 1, 0, 0, 2, 1, 0, 0, 0, 2, 1, 1, 0,\n",
              "       0, 1, 2, 2, 1, 2])"
            ]
          },
          "metadata": {
            "tags": []
          },
          "execution_count": 48
        }
      ]
    },
    {
      "cell_type": "code",
      "metadata": {
        "colab": {
          "base_uri": "https://localhost:8080/"
        },
        "id": "JY0_I3bQZF2C",
        "outputId": "482ce1dd-6c96-4b25-9b82-cf12ffbc6f0d"
      },
      "source": [
        "y_test"
      ],
      "execution_count": null,
      "outputs": [
        {
          "output_type": "execute_result",
          "data": {
            "text/plain": [
              "array([[0., 1., 0.],\n",
              "       [1., 0., 0.],\n",
              "       [0., 0., 1.],\n",
              "       [0., 1., 0.],\n",
              "       [0., 1., 0.],\n",
              "       [1., 0., 0.],\n",
              "       [0., 1., 0.],\n",
              "       [0., 0., 1.],\n",
              "       [0., 1., 0.],\n",
              "       [0., 1., 0.],\n",
              "       [0., 0., 1.],\n",
              "       [1., 0., 0.],\n",
              "       [1., 0., 0.],\n",
              "       [1., 0., 0.],\n",
              "       [1., 0., 0.],\n",
              "       [0., 1., 0.],\n",
              "       [0., 0., 1.],\n",
              "       [0., 1., 0.],\n",
              "       [0., 1., 0.],\n",
              "       [0., 0., 1.],\n",
              "       [1., 0., 0.],\n",
              "       [0., 0., 1.],\n",
              "       [1., 0., 0.],\n",
              "       [0., 0., 1.],\n",
              "       [0., 0., 1.],\n",
              "       [0., 0., 1.],\n",
              "       [0., 0., 1.],\n",
              "       [0., 0., 1.],\n",
              "       [1., 0., 0.],\n",
              "       [1., 0., 0.],\n",
              "       [1., 0., 0.],\n",
              "       [1., 0., 0.],\n",
              "       [0., 1., 0.],\n",
              "       [1., 0., 0.],\n",
              "       [1., 0., 0.],\n",
              "       [0., 0., 1.],\n",
              "       [0., 1., 0.],\n",
              "       [1., 0., 0.],\n",
              "       [1., 0., 0.],\n",
              "       [1., 0., 0.],\n",
              "       [0., 0., 1.],\n",
              "       [0., 1., 0.],\n",
              "       [0., 1., 0.],\n",
              "       [1., 0., 0.],\n",
              "       [1., 0., 0.],\n",
              "       [0., 1., 0.],\n",
              "       [0., 0., 1.],\n",
              "       [0., 0., 1.],\n",
              "       [0., 1., 0.],\n",
              "       [0., 0., 1.]], dtype=float32)"
            ]
          },
          "metadata": {
            "tags": []
          },
          "execution_count": 50
        }
      ]
    },
    {
      "cell_type": "code",
      "metadata": {
        "id": "Cp9_Bf5bdSLm"
      },
      "source": [
        ""
      ],
      "execution_count": null,
      "outputs": []
    },
    {
      "cell_type": "markdown",
      "metadata": {
        "id": "GluI_rR7dTXZ"
      },
      "source": [
        "#**Evaluating Model Performance**"
      ]
    },
    {
      "cell_type": "code",
      "metadata": {
        "id": "RLroBhbEdc1b"
      },
      "source": [
        "'''So how well did we do? How do we actually measure \"well\". Is 95% accuracy good enough? It all depends on the situation. Also we need to take\r\n",
        "into account things like recall and precision. Make sure to watch the video discussion on classification evaluation before running this code!'''"
      ],
      "execution_count": null,
      "outputs": []
    },
    {
      "cell_type": "code",
      "metadata": {
        "colab": {
          "base_uri": "https://localhost:8080/"
        },
        "id": "0uGmO8FZdooa",
        "outputId": "871ba826-c605-4a19-aeee-4c6a38b27af8"
      },
      "source": [
        "model.metrics_names"
      ],
      "execution_count": null,
      "outputs": [
        {
          "output_type": "execute_result",
          "data": {
            "text/plain": [
              "['loss', 'accuracy']"
            ]
          },
          "metadata": {
            "tags": []
          },
          "execution_count": 59
        }
      ]
    },
    {
      "cell_type": "code",
      "metadata": {
        "colab": {
          "base_uri": "https://localhost:8080/"
        },
        "id": "41Ia8DItdsq-",
        "outputId": "92a303a6-eb0f-411d-c2a2-58acdab6408d"
      },
      "source": [
        "model.evaluate(x=scaled_X_test,y=y_test)"
      ],
      "execution_count": null,
      "outputs": [
        {
          "output_type": "stream",
          "text": [
            "2/2 [==============================] - 0s 5ms/step - loss: 0.2658 - accuracy: 0.9400\n"
          ],
          "name": "stdout"
        },
        {
          "output_type": "execute_result",
          "data": {
            "text/plain": [
              "[0.26583927869796753, 0.9399999976158142]"
            ]
          },
          "metadata": {
            "tags": []
          },
          "execution_count": 60
        }
      ]
    },
    {
      "cell_type": "code",
      "metadata": {
        "id": "37UboHtVa53K"
      },
      "source": [
        "from sklearn.metrics import confusion_matrix,classification_report,accuracy_score\r\n"
      ],
      "execution_count": null,
      "outputs": []
    },
    {
      "cell_type": "code",
      "metadata": {
        "colab": {
          "base_uri": "https://localhost:8080/"
        },
        "id": "-ofcIl-Hd0E_",
        "outputId": "cec4bc77-0277-4bda-aef2-f79405825862"
      },
      "source": [
        "predictions = model.predict_classes(scaled_X_test)"
      ],
      "execution_count": null,
      "outputs": [
        {
          "output_type": "stream",
          "text": [
            "/usr/local/lib/python3.6/dist-packages/tensorflow/python/keras/engine/sequential.py:450: UserWarning: `model.predict_classes()` is deprecated and will be removed after 2021-01-01. Please use instead:* `np.argmax(model.predict(x), axis=-1)`,   if your model does multi-class classification   (e.g. if it uses a `softmax` last-layer activation).* `(model.predict(x) > 0.5).astype(\"int32\")`,   if your model does binary classification   (e.g. if it uses a `sigmoid` last-layer activation).\n",
            "  warnings.warn('`model.predict_classes()` is deprecated and '\n"
          ],
          "name": "stderr"
        }
      ]
    },
    {
      "cell_type": "code",
      "metadata": {
        "colab": {
          "base_uri": "https://localhost:8080/"
        },
        "id": "E3X94KICd5LL",
        "outputId": "ece48497-26f9-4257-c276-1b28804babfa"
      },
      "source": [
        "predictions"
      ],
      "execution_count": null,
      "outputs": [
        {
          "output_type": "execute_result",
          "data": {
            "text/plain": [
              "array([1, 0, 2, 1, 2, 0, 1, 2, 2, 1, 2, 0, 0, 0, 0, 1, 2, 1, 1, 2, 0, 2,\n",
              "       0, 2, 2, 2, 2, 2, 0, 0, 0, 0, 1, 0, 0, 2, 1, 0, 0, 0, 2, 1, 1, 0,\n",
              "       0, 1, 1, 2, 1, 2])"
            ]
          },
          "metadata": {
            "tags": []
          },
          "execution_count": 63
        }
      ]
    },
    {
      "cell_type": "code",
      "metadata": {
        "colab": {
          "base_uri": "https://localhost:8080/"
        },
        "id": "iV69cxL6a7VW",
        "outputId": "7acf97b2-43bb-41fc-c989-8c6a8e24bbfe"
      },
      "source": [
        "y_test.argmax(axis=1)"
      ],
      "execution_count": null,
      "outputs": [
        {
          "output_type": "execute_result",
          "data": {
            "text/plain": [
              "array([1, 0, 2, 1, 1, 0, 1, 2, 1, 1, 2, 0, 0, 0, 0, 1, 2, 1, 1, 2, 0, 2,\n",
              "       0, 2, 2, 2, 2, 2, 0, 0, 0, 0, 1, 0, 0, 2, 1, 0, 0, 0, 2, 1, 1, 0,\n",
              "       0, 1, 2, 2, 1, 2])"
            ]
          },
          "metadata": {
            "tags": []
          },
          "execution_count": 65
        }
      ]
    },
    {
      "cell_type": "code",
      "metadata": {
        "colab": {
          "base_uri": "https://localhost:8080/"
        },
        "id": "4CNl8_fea7qy",
        "outputId": "178930e9-5bde-45be-b3ee-5a081b1be406"
      },
      "source": [
        "confusion_matrix(y_test.argmax(axis=1),predictions)"
      ],
      "execution_count": null,
      "outputs": [
        {
          "output_type": "execute_result",
          "data": {
            "text/plain": [
              "array([[19,  0,  0],\n",
              "       [ 0, 13,  2],\n",
              "       [ 0,  1, 15]])"
            ]
          },
          "metadata": {
            "tags": []
          },
          "execution_count": 66
        }
      ]
    },
    {
      "cell_type": "code",
      "metadata": {
        "colab": {
          "base_uri": "https://localhost:8080/"
        },
        "id": "6Ne48UIieCUX",
        "outputId": "a437feab-5b97-457c-b1f7-859ccbb163cc"
      },
      "source": [
        "print(classification_report(y_test.argmax(axis=1),predictions))"
      ],
      "execution_count": null,
      "outputs": [
        {
          "output_type": "stream",
          "text": [
            "              precision    recall  f1-score   support\n",
            "\n",
            "           0       1.00      1.00      1.00        19\n",
            "           1       0.93      0.87      0.90        15\n",
            "           2       0.88      0.94      0.91        16\n",
            "\n",
            "    accuracy                           0.94        50\n",
            "   macro avg       0.94      0.93      0.94        50\n",
            "weighted avg       0.94      0.94      0.94        50\n",
            "\n"
          ],
          "name": "stdout"
        }
      ]
    },
    {
      "cell_type": "code",
      "metadata": {
        "colab": {
          "base_uri": "https://localhost:8080/"
        },
        "id": "J_4ldTMXa8CX",
        "outputId": "e7c0c538-f775-4a04-d250-8f6ed9ca7279"
      },
      "source": [
        "accuracy_score(y_test.argmax(axis=1),predictions)"
      ],
      "execution_count": null,
      "outputs": [
        {
          "output_type": "execute_result",
          "data": {
            "text/plain": [
              "0.94"
            ]
          },
          "metadata": {
            "tags": []
          },
          "execution_count": 74
        }
      ]
    },
    {
      "cell_type": "markdown",
      "metadata": {
        "id": "_qvMYAQxeIhs"
      },
      "source": [
        "#**Saving and Loading Models**"
      ]
    },
    {
      "cell_type": "code",
      "metadata": {
        "id": "T6R1w_moeLDA"
      },
      "source": [
        "#Now that we have a model trained, let's see how we can save and load it."
      ],
      "execution_count": null,
      "outputs": []
    },
    {
      "cell_type": "code",
      "metadata": {
        "id": "Ght3Ty7Sa8Xq"
      },
      "source": [
        "model.save('myfirstmodel.h5')"
      ],
      "execution_count": null,
      "outputs": []
    },
    {
      "cell_type": "code",
      "metadata": {
        "id": "PpSAA0jjeRzA"
      },
      "source": [
        "from keras.models import load_model"
      ],
      "execution_count": null,
      "outputs": []
    },
    {
      "cell_type": "code",
      "metadata": {
        "id": "hNauxcnOeR_s"
      },
      "source": [
        "newmodel = load_model('myfirstmodel.h5')"
      ],
      "execution_count": null,
      "outputs": []
    },
    {
      "cell_type": "code",
      "metadata": {
        "colab": {
          "base_uri": "https://localhost:8080/"
        },
        "id": "zPM8Qt-8eSKz",
        "outputId": "14931202-3835-4212-d3ad-e0b0c521958d"
      },
      "source": [
        "newmodel.predict_classes(X_test)"
      ],
      "execution_count": null,
      "outputs": [
        {
          "output_type": "stream",
          "text": [
            "/usr/local/lib/python3.6/dist-packages/tensorflow/python/keras/engine/sequential.py:450: UserWarning: `model.predict_classes()` is deprecated and will be removed after 2021-01-01. Please use instead:* `np.argmax(model.predict(x), axis=-1)`,   if your model does multi-class classification   (e.g. if it uses a `softmax` last-layer activation).* `(model.predict(x) > 0.5).astype(\"int32\")`,   if your model does binary classification   (e.g. if it uses a `sigmoid` last-layer activation).\n",
            "  warnings.warn('`model.predict_classes()` is deprecated and '\n"
          ],
          "name": "stderr"
        },
        {
          "output_type": "execute_result",
          "data": {
            "text/plain": [
              "array([2, 1, 2, 2, 2, 1, 2, 2, 2, 2, 2, 1, 1, 1, 1, 2, 2, 2, 2, 2, 1, 2,\n",
              "       1, 2, 2, 2, 2, 2, 1, 1, 1, 1, 2, 1, 1, 2, 2, 1, 1, 1, 2, 2, 2, 1,\n",
              "       1, 2, 2, 2, 2, 2])"
            ]
          },
          "metadata": {
            "tags": []
          },
          "execution_count": 72
        }
      ]
    },
    {
      "cell_type": "code",
      "metadata": {
        "id": "aFI5IcsOezBx"
      },
      "source": [
        "#Great job! You now know how to preprocess data, train a neural network, and evaluate its classification performance!"
      ],
      "execution_count": null,
      "outputs": []
    },
    {
      "cell_type": "code",
      "metadata": {
        "id": "DK8L5_klfq80"
      },
      "source": [
        ""
      ],
      "execution_count": null,
      "outputs": []
    },
    {
      "cell_type": "markdown",
      "metadata": {
        "id": "taUvJ7E0ftIn"
      },
      "source": [
        "#**Recurrent Neural Networks Theory**"
      ]
    },
    {
      "cell_type": "code",
      "metadata": {
        "id": "Tu5mAcVafrKv"
      },
      "source": [
        "#Examples of sequences\r\n",
        " # 1 Time Series Data (Sales)\r\n",
        " # 2 Sentences\r\n",
        " # 3 Audio\r\n",
        " # 4 Car Trajetories\r\n",
        " # 5 Music\r\n",
        " "
      ],
      "execution_count": null,
      "outputs": []
    },
    {
      "cell_type": "code",
      "metadata": {
        "id": "6ysOFuUifrVP"
      },
      "source": [
        "#Let's imagine a sequence:\r\n",
        " [1,2,3,4,5,6]\r\n",
        " -> Would you be able to predict a similar sequence shifted one time step into the future?\r\n",
        "  -> [2,3,4,5,6,7]"
      ],
      "execution_count": null,
      "outputs": []
    },
    {
      "cell_type": "code",
      "metadata": {
        "id": "fyHGmVkufrdD"
      },
      "source": [
        "'''-> Cells that are a function of inputs from previous time steps are also known as memory cell.\r\n",
        "   -> RNN are also flexible in their inputs and outputs for both sequences and single vector values.\r\n",
        "   we can also create entire layers of recurrent neurons'''"
      ],
      "execution_count": null,
      "outputs": []
    },
    {
      "cell_type": "code",
      "metadata": {
        "id": "WGb6ri1vfrlT"
      },
      "source": [
        "'''RNN are also very flexible in their input and outputs\r\n",
        "Let's see a few examples.\r\n",
        "Now that we understand basic RNNs move on to understanding a particular cell structure known as LSTM(Long Term Memory Units).'''\r\n"
      ],
      "execution_count": null,
      "outputs": []
    },
    {
      "cell_type": "code",
      "metadata": {
        "id": "34snD0Ivfroj"
      },
      "source": [
        ""
      ],
      "execution_count": null,
      "outputs": []
    },
    {
      "cell_type": "markdown",
      "metadata": {
        "id": "F_nvaVF-k9cr"
      },
      "source": [
        "#**LSTM AND GRU**"
      ]
    },
    {
      "cell_type": "code",
      "metadata": {
        "id": "1G26VBpclEvr"
      },
      "source": [
        ""
      ],
      "execution_count": null,
      "outputs": []
    },
    {
      "cell_type": "code",
      "metadata": {
        "id": "kAeaZBoafrve"
      },
      "source": [
        ""
      ],
      "execution_count": null,
      "outputs": []
    },
    {
      "cell_type": "code",
      "metadata": {
        "id": "LwVH-4wlfr1C"
      },
      "source": [
        ""
      ],
      "execution_count": null,
      "outputs": []
    },
    {
      "cell_type": "code",
      "metadata": {
        "id": "DunyirJDfr5O"
      },
      "source": [
        ""
      ],
      "execution_count": null,
      "outputs": []
    },
    {
      "cell_type": "code",
      "metadata": {
        "id": "dK_z3bwyfr_P"
      },
      "source": [
        ""
      ],
      "execution_count": null,
      "outputs": []
    }
  ]
}